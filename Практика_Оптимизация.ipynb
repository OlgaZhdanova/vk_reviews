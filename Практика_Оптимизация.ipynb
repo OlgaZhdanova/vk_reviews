{
  "cells": [
    {
      "cell_type": "markdown",
      "metadata": {
        "id": "NyHIGVhfa_Wf"
      },
      "source": [
        "# Стохастический градиентный и координатный спуски"
      ]
    },
    {
      "cell_type": "markdown",
      "metadata": {
        "id": "gn6lluIADUKa"
      },
      "source": [
        "Для каждого задания указано количество баллов (если они оцениваются отдельно) + 1 балл за аккуратное и полное выполнение всего задания"
      ]
    },
    {
      "cell_type": "markdown",
      "metadata": {
        "id": "txCccYvha_Wv"
      },
      "source": [
        "## Загрузка и подготовка данных"
      ]
    },
    {
      "cell_type": "markdown",
      "metadata": {
        "id": "NbyOzeZ6a_Wx"
      },
      "source": [
        "**Загрузите уже знакомый вам файл *Advertising.csv* как объект DataFrame.** "
      ]
    },
    {
      "cell_type": "code",
      "execution_count": 15,
      "metadata": {
        "id": "E1L4_xeDa_Wz"
      },
      "outputs": [
        {
          "data": {
            "text/html": [
              "<div>\n",
              "<style scoped>\n",
              "    .dataframe tbody tr th:only-of-type {\n",
              "        vertical-align: middle;\n",
              "    }\n",
              "\n",
              "    .dataframe tbody tr th {\n",
              "        vertical-align: top;\n",
              "    }\n",
              "\n",
              "    .dataframe thead th {\n",
              "        text-align: right;\n",
              "    }\n",
              "</style>\n",
              "<table border=\"1\" class=\"dataframe\">\n",
              "  <thead>\n",
              "    <tr style=\"text-align: right;\">\n",
              "      <th></th>\n",
              "      <th>TV</th>\n",
              "      <th>radio</th>\n",
              "      <th>newspaper</th>\n",
              "      <th>sales</th>\n",
              "    </tr>\n",
              "  </thead>\n",
              "  <tbody>\n",
              "    <tr>\n",
              "      <th>0</th>\n",
              "      <td>230.1</td>\n",
              "      <td>37.8</td>\n",
              "      <td>69.2</td>\n",
              "      <td>22.1</td>\n",
              "    </tr>\n",
              "    <tr>\n",
              "      <th>1</th>\n",
              "      <td>44.5</td>\n",
              "      <td>39.3</td>\n",
              "      <td>45.1</td>\n",
              "      <td>10.4</td>\n",
              "    </tr>\n",
              "    <tr>\n",
              "      <th>2</th>\n",
              "      <td>17.2</td>\n",
              "      <td>45.9</td>\n",
              "      <td>69.3</td>\n",
              "      <td>9.3</td>\n",
              "    </tr>\n",
              "    <tr>\n",
              "      <th>3</th>\n",
              "      <td>151.5</td>\n",
              "      <td>41.3</td>\n",
              "      <td>58.5</td>\n",
              "      <td>18.5</td>\n",
              "    </tr>\n",
              "    <tr>\n",
              "      <th>4</th>\n",
              "      <td>180.8</td>\n",
              "      <td>10.8</td>\n",
              "      <td>58.4</td>\n",
              "      <td>12.9</td>\n",
              "    </tr>\n",
              "  </tbody>\n",
              "</table>\n",
              "</div>"
            ],
            "text/plain": [
              "      TV  radio  newspaper  sales\n",
              "0  230.1   37.8       69.2   22.1\n",
              "1   44.5   39.3       45.1   10.4\n",
              "2   17.2   45.9       69.3    9.3\n",
              "3  151.5   41.3       58.5   18.5\n",
              "4  180.8   10.8       58.4   12.9"
            ]
          },
          "execution_count": 15,
          "metadata": {},
          "output_type": "execute_result"
        }
      ],
      "source": [
        "import pandas as pd\n",
        "advertising = pd.read_csv('Advertising 2.csv')\n",
        "# удалим первый неинформативный столбец с нумерацией строк\n",
        "advertising = advertising.drop(advertising.columns[0], axis=1)\n",
        "advertising.head()\n"
      ]
    },
    {
      "cell_type": "markdown",
      "metadata": {
        "id": "bf4aVFndDUKf"
      },
      "source": [
        "**Проверьте, есть ли в данных пропуски и, если они есть - удалите их**"
      ]
    },
    {
      "cell_type": "code",
      "execution_count": 9,
      "metadata": {
        "id": "tiVeFnR5DUKg"
      },
      "outputs": [
        {
          "data": {
            "text/plain": [
              "TV           0.0\n",
              "radio        0.0\n",
              "newspaper    0.0\n",
              "sales        0.0\n",
              "dtype: float64"
            ]
          },
          "execution_count": 9,
          "metadata": {},
          "output_type": "execute_result"
        }
      ],
      "source": [
        "advertising.isnull().mean().sort_values()\n",
        "# пропуски в данных не обнаружены"
      ]
    },
    {
      "cell_type": "markdown",
      "metadata": {
        "id": "rTkiqPr_DUKh"
      },
      "source": [
        "**Преобразуйте ваши признаки в массивы NumPy и разделите их на переменные X (предикторы) и y(целевая переменная)** "
      ]
    },
    {
      "cell_type": "code",
      "execution_count": 16,
      "metadata": {
        "id": "R9OHIRB3a_Xa"
      },
      "outputs": [],
      "source": [
        "X = advertising[['TV', 'radio', 'newspaper']].values\n",
        "y = advertising['sales'].values"
      ]
    },
    {
      "cell_type": "markdown",
      "metadata": {
        "id": "KCvjSoHEDUKo"
      },
      "source": [
        "## Координатный спуск (3 балла)"
      ]
    },
    {
      "cell_type": "markdown",
      "metadata": {
        "id": "yjNm8dATDUKq"
      },
      "source": [
        "**Добавим единичный столбец для того, чтобы у нас был свободный коэффициент в уравнении регрессии:**"
      ]
    },
    {
      "cell_type": "code",
      "execution_count": 17,
      "metadata": {
        "id": "LMgq0fmKDUKr"
      },
      "outputs": [],
      "source": [
        "import numpy as np\n",
        "X = np.hstack([np.ones(X.shape[0]).reshape(-1, 1), X])"
      ]
    },
    {
      "cell_type": "markdown",
      "metadata": {
        "id": "R008OQwcDUKt"
      },
      "source": [
        "**Нормализуем данные: обычно это необходимо для корректной работы алгоритма**"
      ]
    },
    {
      "cell_type": "code",
      "execution_count": 18,
      "metadata": {
        "id": "2Sk7Wx-SDUKt"
      },
      "outputs": [],
      "source": [
        "X = X / np.sqrt(np.sum(np.square(X), axis=0))"
      ]
    },
    {
      "cell_type": "markdown",
      "metadata": {
        "id": "F_pHHbAdDUKu"
      },
      "source": [
        "**Реализуйте алгоритм координатного спуска:** (3 балла)\n",
        "\n",
        "Ниже приведен алгоритм:"
      ]
    },
    {
      "cell_type": "markdown",
      "metadata": {
        "id": "jBQ8vT5UDUKu"
      },
      "source": [
        "<a href=\"https://ibb.co/Th3BQFn\"><img src=\"https://i.ibb.co/DK2DBS6/zascas.jpg\" alt=\"zascas\" border=\"0\"></a>"
      ]
    },
    {
      "cell_type": "markdown",
      "metadata": {
        "id": "5ce_yM20DUKv"
      },
      "source": [
        "Примечание: 1000 итераций здесь указаны для этого задания, на самом деле их может быть намного больше, нет детерменированного значения."
      ]
    },
    {
      "cell_type": "markdown",
      "metadata": {
        "id": "y3IdiHm9DUKv"
      },
      "source": [
        "Вам необходимо реализовать координатный спуск, и вывести веса в модели линейной регрессии."
      ]
    },
    {
      "cell_type": "code",
      "execution_count": 21,
      "metadata": {
        "id": "Vsi3d9OfDUKw"
      },
      "outputs": [
        {
          "name": "stdout",
          "output_type": "stream",
          "text": [
            "Сходимость произошла на 67 итерации\n",
            "Веса в модели линейной регрессии: [ 41.56216967 110.1314416   73.52860778  -0.55006305]\n"
          ]
        }
      ],
      "source": [
        "# напишем функцию, которая реализует координатный спуск по представленным формулам\n",
        "def coordinate_descent(X, y, max_iters=1000, tolerance=1e-6):\n",
        "    \n",
        "    n_samples, n_features = X.shape\n",
        "    # создадим нулевой вектор\n",
        "    w = np.zeros(n_features)\n",
        "    # вычислим начальное значение r\n",
        "    r = y - X @ w\n",
        "    \n",
        "    # создадим цикл по итерациям\n",
        "    for iter in range(max_iters):\n",
        "        w_new = np.copy(w)\n",
        "        for j in range(n_features):\n",
        "            # вычислим r-j\n",
        "            r_minus_j = r + X[:, j] * w[j]\n",
        "            # вычислим обновленный wj\n",
        "            w[j] = X[:, j] @ r_minus_j\n",
        "            # вычислим обновленный r\n",
        "            r = r_minus_j - X[:, j] * w[j]\n",
        "        \n",
        "        # проверим на какой итерации произошла сходимость\n",
        "        if np.linalg.norm(w - w_new) < tolerance:\n",
        "            print(f'Сходимость произошла на {iter+1} итерации')\n",
        "            break\n",
        "    # функция должна возвращать вектор весов\n",
        "    return w\n",
        "        \n",
        "\n",
        "# Применение метода координатного спуска\n",
        "result = coordinate_descent(X, y)\n",
        "print(\"Веса в модели линейной регрессии:\", result)"
      ]
    },
    {
      "cell_type": "markdown",
      "metadata": {
        "id": "a3jG-7UADUKx"
      },
      "source": [
        "Сравните результаты с реализацией линейной регрессии из библиотеки sklearn:"
      ]
    },
    {
      "cell_type": "code",
      "execution_count": 20,
      "metadata": {
        "id": "SBl-1Yb5DUKy"
      },
      "outputs": [
        {
          "name": "stdout",
          "output_type": "stream",
          "text": [
            "[ 41.56217205 110.13144155  73.52860638  -0.55006384]\n"
          ]
        }
      ],
      "source": [
        "from sklearn.linear_model import LinearRegression\n",
        " \n",
        "model = LinearRegression(fit_intercept=False)\n",
        "model.fit(X, y)\n",
        " \n",
        "print(model.coef_)"
      ]
    },
    {
      "cell_type": "markdown",
      "metadata": {},
      "source": [
        "Результаты, полученные путем написания собственной функции, совпадают (до 4 знака после запятой) с результатами, полученными благодаря реализации с помощью библиотеки."
      ]
    },
    {
      "cell_type": "markdown",
      "metadata": {
        "id": "hIl0AGLyDUKy"
      },
      "source": [
        "Если вы все сделали верно, они должны практически совпасть!"
      ]
    },
    {
      "cell_type": "markdown",
      "metadata": {
        "id": "VCGwFnPdDUKz"
      },
      "source": [
        "## Стохастический градиентный спуск (6 баллов)"
      ]
    },
    {
      "cell_type": "markdown",
      "metadata": {
        "id": "5u7Q2YJla_Xk"
      },
      "source": [
        "**Отмасштабируйте столбцы исходной матрицы *X* (которую мы не нормализовали еще!). Для того, чтобы это сделать, надо вычесть из каждого значения среднее и разделить на стандартное отклонение** (0.5 баллов)"
      ]
    },
    {
      "cell_type": "code",
      "execution_count": 25,
      "metadata": {
        "id": "9cEpV_5La_Xo"
      },
      "outputs": [],
      "source": [
        "X = advertising[['TV', 'radio', 'newspaper']].values\n",
        "X_scaled = (X-np.mean(X))/np.std(X)"
      ]
    },
    {
      "cell_type": "markdown",
      "metadata": {
        "id": "8WkNYILHDUK1"
      },
      "source": [
        "**Добавим единичный столбец**"
      ]
    },
    {
      "cell_type": "code",
      "execution_count": 26,
      "metadata": {
        "id": "EVl5tEGtDUK1"
      },
      "outputs": [],
      "source": [
        "X_scaled = np.hstack([np.ones(X_scaled.shape[0]).reshape(-1, 1), X_scaled])"
      ]
    },
    {
      "cell_type": "markdown",
      "metadata": {
        "id": "m53tZA5fDUK1"
      },
      "source": [
        "**Создайте функцию mse_error для вычисления среднеквадратичной ошибки, принимающую два аргумента: реальные значения и предсказывающие, и возвращающую значение mse** (0.5 балла)"
      ]
    },
    {
      "cell_type": "code",
      "execution_count": 27,
      "metadata": {
        "id": "0cvtC08Aa_YK"
      },
      "outputs": [],
      "source": [
        "def mse_error(y_true, y_pred):\n",
        "    mse = np.mean((y_true - y_pred) ** 2)\n",
        "    return mse"
      ]
    },
    {
      "cell_type": "markdown",
      "metadata": {
        "id": "lpOLhdvBDUK2"
      },
      "source": [
        "**Сделайте наивный прогноз: предскажите продажи средним значением. После этого рассчитайте среднеквадратичную ошибку для этого прогноза** (0.5 балла)"
      ]
    },
    {
      "cell_type": "code",
      "execution_count": 30,
      "metadata": {
        "id": "kLV_XljVa_YZ"
      },
      "outputs": [
        {
          "name": "stdout",
          "output_type": "stream",
          "text": [
            "Среднеквадратичная ошибка для наивного прогноза составляет 27.086\n"
          ]
        }
      ],
      "source": [
        "y_mean = np.mean(y)\n",
        "y_pred_naive = np.ones(len(y)) * y_mean\n",
        "\n",
        "mse_naive = mse_error(y, y_pred_naive)\n",
        "print(f'Среднеквадратичная ошибка для наивного прогноза составляет {mse_naive:.3f}')"
      ]
    },
    {
      "cell_type": "markdown",
      "metadata": {
        "id": "BbybL2ola_ZM"
      },
      "source": [
        "**Создайте функцию *lin_pred*, которая может по матрице предикторов *X* и вектору весов линейной модели *w* получить вектор прогнозов** (0.5 балла)"
      ]
    },
    {
      "cell_type": "code",
      "execution_count": 31,
      "metadata": {
        "id": "1Cyz-Luaa_ZO"
      },
      "outputs": [],
      "source": [
        "def lin_pred(X, w):\n",
        "    y = X @ w\n",
        "    return y    "
      ]
    },
    {
      "cell_type": "markdown",
      "metadata": {
        "id": "BU4adBrya_Zm"
      },
      "source": [
        "**Создайте функцию *stoch_grad_step* для реализации шага стохастического градиентного спуска. (1.5 балла) \n",
        "Функция должна принимать на вход следующие аргументы:**\n",
        "* матрицу *X*\n",
        "* вектора *y* и *w*\n",
        "* число *train_ind* - индекс объекта обучающей выборки (строки матрицы *X*), по которому считается изменение весов\n",
        "* число *$\\eta$* (eta) - шаг градиентного спуска\n",
        "\n",
        "Результатом будет вектор обновленных весов"
      ]
    },
    {
      "cell_type": "markdown",
      "metadata": {
        "id": "dyLY-P02DUK5"
      },
      "source": [
        "Шаг для стохастического градиентного спуска выглядит следующим образом:"
      ]
    },
    {
      "cell_type": "markdown",
      "metadata": {
        "id": "ORsAyIKNDUK5"
      },
      "source": [
        "$$\\Large w_j \\leftarrow w_j - \\frac{2\\eta}{\\ell} \\sum_{i=1}^\\ell{{x_{ij}((w_0 + w_1x_{i1} + w_2x_{i2} +  w_3x_{i3}) - y_i)}}$$"
      ]
    },
    {
      "cell_type": "markdown",
      "metadata": {
        "id": "CQl2FrpuDUK6"
      },
      "source": [
        "Для того, чтобы написать функцию, нужно сделать следующее:\n",
        "    \n",
        "*  посчитать направление изменения: умножить объект обучающей выборки на 2 и на разницу между предсказанным значением и реальным, а потом поделить на количество элементов в выборке.\n",
        "* вернуть разницу между вектором весов и направлением изменения, умноженным на шаг градиентного спуска"
      ]
    },
    {
      "cell_type": "code",
      "execution_count": 32,
      "metadata": {
        "id": "YUhVQGsja_Zn"
      },
      "outputs": [],
      "source": [
        "# создадим функцию для реализации шага стохастического градиентного спуска\n",
        "def stoch_grad_step(X, y, w, train_ind, eta):\n",
        "    # обозначим размер выборки за n\n",
        "    n = len(X)\n",
        "    \n",
        "    x_i = X[train_ind]\n",
        "    y_i = y[train_ind]\n",
        "    # вычисляем предсказанное значение\n",
        "    prediction = w @ x_i\n",
        "    # вычисляем разницу между предсказанным и реальным\n",
        "    error = prediction - y_i \n",
        "    # вычисляем направление изменения\n",
        "    grad = x_i * 2 * error / n\n",
        "    # обновляем веса\n",
        "    w_new = w - grad * eta\n",
        "    \n",
        "    # функция возвращает вектор обновленных весов\n",
        "    return w_new"
      ]
    },
    {
      "cell_type": "markdown",
      "metadata": {
        "id": "pXwIFd0Ma_Zx"
      },
      "source": [
        "**Создайте функцию *stochastic_gradient_descent*, для реализации стохастического градиентного спуска (2.5 балла)**\n",
        "\n",
        "**Функция принимает на вход следующие аргументы:**\n",
        "- Матрицу признаков X\n",
        "- Целевую переменнную\n",
        "- Изначальную точку (веса модели)\n",
        "- Параметр, определяющий темп обучения\n",
        "- Максимальное число итераций\n",
        "- Евклидово расстояние между векторами весов на соседних итерациях градиентного спуска,при котором алгоритм прекращает работу \n",
        "\n",
        "**На каждой итерации в вектор (список) должно записываться текущее значение среднеквадратичной ошибки. Функция должна возвращать вектор весов $w$, а также вектор (список) ошибок.**"
      ]
    },
    {
      "cell_type": "markdown",
      "metadata": {
        "id": "ZVeoNF1JDUK7"
      },
      "source": [
        "Алгоритм сследующий:\n",
        "    \n",
        "* Инициализируйте расстояние между векторами весов на соседних итерациях большим числом (можно бесконечностью)\n",
        "* Создайте пустой список для фиксации ошибок\n",
        "* Создайте счетчик итераций\n",
        "* Реализуйте оновной цикл обучения пока расстояние между векторами весов больше того, при котором надо прекратить работу (когда расстояния станут слишком маленькими - значит, мы застряли в одном месте) и количество итераций меньше максимально разрешенного: сгенерируйте случайный индекс, запишите текущую ошибку в вектор ошибок, запишите в переменную текущий шаг стохастического спуска с использованием функции, написанной ранее. Далее рассчитайте текущее расстояние между векторами весов и прибавьте к счетчику итераций 1.\n",
        "* Верните вектор весов и вектор ошибок"
      ]
    },
    {
      "cell_type": "code",
      "execution_count": 60,
      "metadata": {
        "id": "CD_xcFNfa_Zy"
      },
      "outputs": [
        {
          "name": "stdout",
          "output_type": "stream",
          "text": [
            "Шаг обучения = 0.001, Ошибка составляет 68.283\n",
            "Шаг обучения = 0.005, Ошибка составляет 67.986\n",
            "Шаг обучения = 0.01, Ошибка составляет 49.300\n",
            "Шаг обучения = 0.05, Ошибка составляет 18.120\n",
            "Шаг обучения = 0.1, Ошибка составляет 13.727\n",
            "Шаг обучения = 0.5, Ошибка составляет 2.828\n"
          ]
        }
      ],
      "source": [
        "# создадим функцию для реализации стохастического градиентного спуска\n",
        "def stochastic_gradient_descent(X, y, w, eta, max_iter, tolerance):\n",
        "    w_new = w.copy()\n",
        "    # расстояние между векторами весов на соседних итерациях (бесконечность)\n",
        "    prev_w = np.inf\n",
        "    # пустой список, куда будем добавлять ошибки\n",
        "    errors = []\n",
        "    # счетчик итераций\n",
        "    iteration = 0\n",
        "\n",
        "    while iteration < max_iter:\n",
        "        # случайно выбираем индекс объекта\n",
        "        train_ind = np.random.randint(len(X))\n",
        "        # на основе этого индекса обновляем веса\n",
        "        w_new = stoch_grad_step(X, y, w_new, train_ind, eta)\n",
        "        # рассчитываем среднеквадратичную ошибку\n",
        "        prediction = X @ w_new\n",
        "        mse = mse_error(prediction, y)\n",
        "        # добавляем ошибку в список\n",
        "        errors.append(mse)\n",
        "\n",
        "        # вычисляем евклидово расстояние между текущими и предыдущими весами\n",
        "        dist = np.linalg.norm(w_new - prev_w)\n",
        "\n",
        "        # останавливаем, если расстояние слишком мало\n",
        "        if dist < tolerance:\n",
        "            break\n",
        "        # обновляем предыдущее значение весов\n",
        "        prev_w = w_new.copy()\n",
        "        # увеличиваем счетчик итераций\n",
        "        iteration += 1\n",
        "\n",
        "    # функция возвращает вектор весов и вектор ошибок \n",
        "    return w_new, errors\n",
        "\n",
        "# вектор начальных весов, состоящих из нулей\n",
        "w = np.zeros(X_scaled.shape[1])\n",
        "# указываем список значений для шага обучения\n",
        "etas = [0.001, 0.005, 0.01, 0.05, 0.1, 0.5]\n",
        "for eta in etas:\n",
        "    # максимальное число итераций \n",
        "    max_iter = 100000\n",
        "    # евклидово расстояние, при котром алгоритм прекращает работу\n",
        "    tolerance = 1e-6\n",
        "\n",
        "    # запускаем стохастический градиентный спуск\n",
        "    w_final, errors = stochastic_gradient_descent(X_scaled, y, w, eta, max_iter, tolerance)\n",
        "\n",
        "    print(f'Шаг обучения = {eta}, Ошибка составляет {errors[-1]:.3f}')"
      ]
    },
    {
      "cell_type": "markdown",
      "metadata": {
        "id": "0OqHO1Rta_Z7"
      },
      "source": [
        " **Запустите $10^5$ итераций стохастического градиентного спуска. Укажите вектор начальных весов, состоящий из нулей. Можете поэкспериментировать с параметром, отвечающим за темп обучения.**"
      ]
    },
    {
      "cell_type": "markdown",
      "metadata": {
        "id": "N6fHHT6vDUK8"
      },
      "source": [
        "**Постройте график зависимости ошибки от номера итерации**"
      ]
    },
    {
      "cell_type": "code",
      "execution_count": 61,
      "metadata": {
        "id": "zsSfHDzLDUK9"
      },
      "outputs": [
        {
          "data": {
            "image/png": "[encoded data removed]",
            "text/plain": [
              "<Figure size 640x480 with 1 Axes>"
            ]
          },
          "metadata": {},
          "output_type": "display_data"
        }
      ],
      "source": [
        "import matplotlib.pyplot as plt\n",
        "\n",
        "plt.plot(range(len(errors)), errors)\n",
        "\n",
        "# название по оси Х\n",
        "plt.xlabel('Номер итерации')\n",
        "# название по оси Y\n",
        "plt.ylabel('Среднеквадратичная ошибка')\n",
        "# название графика \n",
        "plt.title('Зависимость ошибки от номера итерации')\n",
        "# есть сетка на графике\n",
        "plt.grid(True)\n",
        "\n",
        "plt.show()"
      ]
    },
    {
      "cell_type": "markdown",
      "metadata": {},
      "source": [
        "Из моего графика видно, что уже на первых итерациях ошибка сильно снижается, и, начиная с ~15.000 итерации, колебания ее изменений становятся очень незначительны, даже можно сказать, что значение ошибки выходит на плато.\n",
        "Я проводила несколько экспериментов с числом итераций и со значениями параметра темпа обучения и могу сказать, что увеличивать количество итераций (> 100.000) не имеет смысла, так как именно за это число итераций при шаге обучения 0.5 получается попасть в ошибку ~2.8. Ниже мне не удавалось на разу."
      ]
    },
    {
      "cell_type": "markdown",
      "metadata": {
        "id": "O-MVOcJ6a_aY"
      },
      "source": [
        "**Выведите вектор весов, к которому сошелся метод.**"
      ]
    },
    {
      "cell_type": "code",
      "execution_count": 69,
      "metadata": {
        "id": "MPjVkXe4DUK9"
      },
      "outputs": [
        {
          "name": "stdout",
          "output_type": "stream",
          "text": [
            "Обновленный вектор весов: [17.9803134   3.49234346 13.46268253  0.06915553]\n"
          ]
        }
      ],
      "source": [
        "print(f'Обновленный вектор весов:', w_final)"
      ]
    },
    {
      "cell_type": "code",
      "execution_count": 68,
      "metadata": {},
      "outputs": [
        {
          "name": "stdout",
          "output_type": "stream",
          "text": [
            "[18.55627326  3.51259693 14.47033954 -0.07963123]\n"
          ]
        }
      ],
      "source": [
        "# для сравнения посчитаем веса, пользуясь библиотекой sklearn\n",
        "model = LinearRegression(fit_intercept=False)\n",
        "model.fit(X_scaled, y)\n",
        "print(model.coef_)\n",
        "# можем заметить, что значения довольно близки к тем, что посчитаны вручную "
      ]
    },
    {
      "cell_type": "markdown",
      "metadata": {
        "id": "qabzMc3Qa_a5"
      },
      "source": [
        "**Выведите среднеквадратичную ошибку на последней итерации.**"
      ]
    },
    {
      "cell_type": "code",
      "execution_count": 65,
      "metadata": {
        "id": "7tPWleMIa_a7"
      },
      "outputs": [
        {
          "name": "stdout",
          "output_type": "stream",
          "text": [
            "Среднеквадратичная ошибка на последней итерации составляет 2.8276384028071933\n"
          ]
        }
      ],
      "source": [
        "last_error = errors[-1]\n",
        "print(f'Среднеквадратичная ошибка на последней итерации составляет {last_error}')"
      ]
    },
    {
      "cell_type": "code",
      "execution_count": 67,
      "metadata": {},
      "outputs": [
        {
          "name": "stdout",
          "output_type": "stream",
          "text": [
            "Собственная реализация:\n",
            "Обновленные веса: [17.9803134   3.49234346 13.46268253  0.06915553]\n",
            "Среднеквадратичная ошибка: 2.8276384028071933\n",
            "Средняя абсолютная ошибка: 1.2897460425831044\n",
            "Коэффициент детерминации (R²): 0.8956041809703973\n",
            "\n",
            "Модель из sklearn:\n",
            "Обновленные веса: [ 8.95268407  3.35178388 13.39098859  0.24984027]\n",
            "Смещение: [9.02506968]\n",
            "Среднеквадратичная ошибка: 2.9398864374589952\n",
            "Средняя абсолютная ошибка: 1.3597588734399877\n",
            "Коэффициент детерминации (R²): 0.8914600069839693\n"
          ]
        }
      ],
      "source": [
        "# бонусное задание\n",
        "from sklearn.linear_model import SGDRegressor\n",
        "from sklearn.metrics import mean_squared_error, mean_absolute_error, r2_score\n",
        "\n",
        "# оценка качества модели на основе собственной реализации\n",
        "prediction_sgd = X_scaled @ w_final\n",
        "mse_sgd = mean_squared_error(y, prediction_sgd)\n",
        "mae_sgd = mean_absolute_error(y, prediction_sgd)\n",
        "r2_sgd = r2_score(y, prediction_sgd)\n",
        "\n",
        "print(\"Собственная реализация:\")\n",
        "print(\"Обновленные веса:\", w_final)\n",
        "print(\"Среднеквадратичная ошибка:\", mse_sgd)\n",
        "print(\"Средняя абсолютная ошибка:\", mae_sgd)\n",
        "print(\"Коэффициент детерминации (R²):\", r2_sgd)\n",
        "\n",
        "# реализация с использованием SGDRegressor из sklearn\n",
        "sgd_regressor = SGDRegressor(max_iter=max_iter, tol=tolerance, eta0=0.1)\n",
        "sgd_regressor.fit(X_scaled, y)\n",
        "\n",
        "# получаем веса из sklearn\n",
        "w_final_sklearn = sgd_regressor.coef_\n",
        "w_intercept_sklearn = sgd_regressor.intercept_\n",
        "\n",
        "# Оценка качества модели из sklearn\n",
        "prediction_sklearn = sgd_regressor.predict(X_scaled)\n",
        "mse_sklearn = mean_squared_error(y, prediction_sklearn)\n",
        "mae_sklearn = mean_absolute_error(y, prediction_sklearn)\n",
        "r2_sklearn = r2_score(y, prediction_sklearn)\n",
        "\n",
        "print(\"\\nМодель из sklearn:\")\n",
        "print(\"Обновленные веса:\", w_final_sklearn)\n",
        "print(\"Смещение:\", w_intercept_sklearn)\n",
        "print(\"Среднеквадратичная ошибка:\", mse_sklearn)\n",
        "print(\"Средняя абсолютная ошибка:\", mae_sklearn)\n",
        "print(\"Коэффициент детерминации (R²):\", r2_sklearn)"
      ]
    },
    {
      "cell_type": "markdown",
      "metadata": {},
      "source": [
        "Значение метрик (MSE, MAE) различается на 1 знак после запятой"
      ]
    }
  ],
  "metadata": {
    "colab": {
      "collapsed_sections": [],
      "name": "Практика_Оптимизация.ipynb",
      "provenance": [],
      "toc_visible": true
    },
    "kernelspec": {
      "display_name": "Python 3",
      "language": "python",
      "name": "python3"
    },
    "language_info": {
      "codemirror_mode": {
        "name": "ipython",
        "version": 3
      },
      "file_extension": ".py",
      "mimetype": "text/x-python",
      "name": "python",
      "nbconvert_exporter": "python",
      "pygments_lexer": "ipython3",
      "version": "3.12.6"
    }
  },
  "nbformat": 4,
  "nbformat_minor": 0
}
