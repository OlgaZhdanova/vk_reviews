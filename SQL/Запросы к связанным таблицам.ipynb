{
 "cells": [
  {
   "cell_type": "markdown",
   "metadata": {},
   "source": [
    "Связь \"один ко многим\" : одной записи главной таблицы соответствует несколько записей связанной таблицы, а каждой записи связанной таблицы соответствует только одна запись главной таблицы.\n",
    "\n",
    "АВТОР -> КНИГА\n",
    "\n",
    "Связь \"многие ко многим\" : каждой записи одной таблицы соответствует несколько записей во второй, и наоборот, каждой записи второй таблицы соответствует несколько записей в первой.\n",
    "\n",
    "АВТОР <-> КНИГА"
   ]
  },
  {
   "cell_type": "markdown",
   "metadata": {},
   "source": [
    "С помощью выражения ON DELETE можно установить действия, которые выполняются для записей подчиненной таблицы при удалении связанной строки из главной таблицы. При удалении можно установить следующие опции:\n",
    "\n",
    "1. CASCADE: автоматически удаляет строки из зависимой таблицы при удалении  связанных строк в главной таблице.\n",
    "\n",
    "2. SET NULL: при удалении  связанной строки из главной таблицы устанавливает для столбца внешнего ключа значение NULL. (В этом случае столбец внешнего ключа должен поддерживать установку NULL).\n",
    "\n",
    "3. SET DEFAULT похоже на SET NULL за тем исключением, что значение  внешнего ключа устанавливается не в NULL, а в значение по умолчанию для данного столбца.\n",
    "\n",
    "4. RESTRICT: отклоняет удаление строк в главной таблице при наличии связанных строк в зависимой таблице.\n",
    "\n",
    "Пример: Будем считать, что при удалении автора из таблицы author, необходимо удалить все записи о книгах из таблицы book, написанные этим автором. Данное действие необходимо прописать при создании таблицы.\n",
    "\n",
    "CREATE TABLE book (\n",
    "    \n",
    "    book_id INT PRIMARY KEY AUTO_INCREMENT, \n",
    "    \n",
    "    title VARCHAR(50), \n",
    "    \n",
    "    author_id INT NOT NULL, \n",
    "    \n",
    "    price DECIMAL(8,2), \n",
    "    \n",
    "    amount INT, \n",
    "    \n",
    "    FOREIGN KEY (author_id)  REFERENCES author (author_id) ON DELETE CASCADE\n",
    ");"
   ]
  },
  {
   "cell_type": "markdown",
   "metadata": {},
   "source": [
    "# Запросы на выборку и соединение таблиц \n",
    "# JOIN"
   ]
  },
  {
   "cell_type": "markdown",
   "metadata": {},
   "source": [
    "Оператор внутреннего соединения INNER JOIN соединяет две таблицы (порядок неважен)\n",
    "\n",
    "SELECT\n",
    " ...\n",
    "FROM\n",
    "    таблица_1 INNER JOIN  таблица_2\n",
    "    ON условие\n",
    "...\n",
    "\n",
    "Пример: Вывести название книг и их авторов\n",
    "\n",
    "SELECT title, name_author\n",
    "FROM \n",
    "    author INNER JOIN book\n",
    "    \n",
    "    ON author.author_id = book.author_id;\n"
   ]
  },
  {
   "cell_type": "markdown",
   "metadata": {},
   "source": [
    "Оператор внешнего соединения LEFT OUTER JOIN  (можно использовать LEFT JOIN) соединяет две таблицы. Порядок таблиц для оператора важен.\n",
    "\n",
    "SELECT\n",
    " ...\n",
    "FROM\n",
    "    таблица_1 LEFT JOIN  таблица_2\n",
    "    ON условие\n",
    "...\n",
    "\n",
    "В LEFT JOIN добавляется доп инфа из первой таблицы, в RIGHT JOIN - из второй.\n"
   ]
  },
  {
   "cell_type": "markdown",
   "metadata": {},
   "source": [
    "Оператор перекретного соединения, или декартова произведения CROSS JOIN соединяет две таблицы. Порядок таблиц неважен. Условия нет, поэтому результатом будут всевозможные комбинации\n",
    "\n",
    "SELECT\n",
    " ...\n",
    "FROM\n",
    "    таблица_1 CROSS JOIN  таблица_2\n",
    "... (и также вместо оператора можно поставить запятую)\n",
    "\n"
   ]
  },
  {
   "cell_type": "markdown",
   "metadata": {},
   "source": [
    "Чтобы сгенерировать дату (в пределах 2020) - (DATE_ADD('2020-01-01', INTERVAL FLOOR(RAND() * 365) DAY)) as Дата"
   ]
  },
  {
   "cell_type": "markdown",
   "metadata": {},
   "source": [
    "# Запросы для нескольких таблиц со вложенными запросами"
   ]
  },
  {
   "cell_type": "markdown",
   "metadata": {},
   "source": [
    "Задача: Вывести авторов, общее количество книг которых на складе максимально.\n",
    "\n",
    "SELECT name_author, SUM(amount) as Количество\n",
    "\n",
    "FROM \n",
    "    \n",
    "    author INNER JOIN book\n",
    "    \n",
    "    on author.author_id = book.author_id\n",
    "\n",
    "GROUP BY name_author\n",
    "\n",
    "HAVING SUM(amount) = \n",
    "     \n",
    "     (/* вычисляем максимальное из общего количества книг каждого автора */\n",
    "     \n",
    "      SELECT MAX(sum_amount) AS max_sum_amount\n",
    "     \n",
    "      FROM \n",
    "     \n",
    "          (/* считаем количество книг каждого автора */\n",
    "     \n",
    "            SELECT author_id, SUM(amount) AS sum_amount \n",
    "     \n",
    "            FROM book GROUP BY author_id\n",
    "     \n",
    "          ) query_in\n",
    "      );"
   ]
  },
  {
   "cell_type": "markdown",
   "metadata": {},
   "source": [
    "Задание: Вывести в алфавитном порядке всех авторов, которые пишут только в одном жанре.\n",
    "\n",
    "SELECT name_author\n",
    "\n",
    "FROM\n",
    "\n",
    "    author \n",
    "\n",
    "    INNER JOIN  book ON author.author_id = book.author_id\n",
    "\n",
    "    INNER JOIN genre ON genre.genre_id = book.genre_id\n",
    "\n",
    "GROUP BY name_author\n",
    "\n",
    "HAVING COUNT(DISTINCT name_genre) = 1\n",
    "\n",
    "ORDER BY name_author;"
   ]
  },
  {
   "cell_type": "markdown",
   "metadata": {},
   "source": [
    "Задание: Вывести информацию о книгах (название книги, фамилию и инициалы автора, название жанра, цену и количество экземпляров книги), написанных в самых популярных жанрах, в отсортированном в алфавитном порядке по названию книг виде. Самым популярным считать жанр, общее количество экземпляров книг которого на складе максимально.\n",
    "\n",
    "SELECT title, name_author, name_genre, price, amount\n",
    "\n",
    "FROM author\n",
    "\n",
    "INNER JOIN book ON author.author_id = book.author_id\n",
    "\n",
    "INNER JOIN genre ON book.genre_id = genre.genre_id\n",
    "\n",
    "GROUP BY title, name_author, name_genre, price, amount, genre.genre_id\n",
    "\n",
    "HAVING genre.genre_id IN (SELECT queri_in_1.genre_id FROM\n",
    "\n",
    "(SELECT genre_id, SUM(amount) AS summa FROM book\n",
    "\n",
    "GROUP BY genre_id)queri_in_1\n",
    "\n",
    "    INNER JOIN\n",
    "\n",
    "(SELECT genre_id, SUM(amount) AS summa FROM book\n",
    "\n",
    "GROUP BY genre_id\n",
    "\n",
    "ORDER BY SUM(amount) DESC\n",
    "\n",
    "LIMIT 1) queri_in_2\n",
    "\n",
    "ON queri_in_1.summa = queri_in_2.summa\n",
    "\n",
    ")\n",
    "\n",
    "ORDER BY title;\n",
    "\n",
    "*в группировку включен столбец genre_id, который используется в HAVING. Это связано с тем, что в HAVING можно использовать либо столбцы, перечисленные в GROUP BY, либо вычисляемые с помощью групповых функций столбцы. Добавление столбца genre_idне влияет на группировку, так как между названием жанра и его id - взаимно-однозначное соответствие.*"
   ]
  },
  {
   "cell_type": "markdown",
   "metadata": {},
   "source": [
    "При описании соединения таблиц с помощью JOIN в некоторых случаях вместо ON и следующего за ним условия можно использовать оператор USING().\n",
    "\n",
    "Пример:\n",
    "*с использованием ON*\n",
    "\n",
    "SELECT title, name_author, author.author_id /* явно указать таблицу - обязательно */\n",
    "\n",
    "FROM \n",
    "\n",
    "    author INNER JOIN book\n",
    "\n",
    "    ON author.author_id = book.author_id;\n",
    "\n",
    "*c USING*\n",
    "\n",
    "SELECT title, name_author, author_id /* имя таблицы, из которой берется author_id, указывать не обязательно*/\n",
    "\n",
    "FROM \n",
    "\n",
    "    author INNER JOIN book\n",
    "\n",
    "    USING(author_id);"
   ]
  },
  {
   "cell_type": "markdown",
   "metadata": {},
   "source": [
    "# Запросы корректировки, соединение таблиц"
   ]
  },
  {
   "cell_type": "markdown",
   "metadata": {},
   "source": [
    "ОБНОВЛЕНИЕ. Структура: \n",
    "\n",
    "UPDATE таблица_1\n",
    "     ... JOIN таблица_2\n",
    "     ON выражение\n",
    "     ...\n",
    "SET ...   \n",
    "WHERE ...;\n",
    "\n",
    "Пример: Для книг, которые уже есть на складе (в таблице book) по той же цене, что и в поставке (supply), увеличить количество на значение, указанное в поставке, а также обнулить количество этих книг в поставке.\n",
    "\n",
    "UPDATE book \n",
    "     \n",
    "     INNER JOIN author ON author.author_id = book.author_id\n",
    "     \n",
    "     INNER JOIN supply ON book.title = supply.title \n",
    "     \n",
    "                         and supply.author = author.name_author\n",
    "\n",
    "SET book.amount = book.amount + supply.amount,\n",
    "\n",
    "    supply.amount = 0   \n",
    "\n",
    "WHERE book.price = supply.price;"
   ]
  },
  {
   "cell_type": "markdown",
   "metadata": {},
   "source": [
    "ВСТАВКА. Структура: \n",
    "\n",
    "INSERT INTO таблица (список_полей)\n",
    "SELECT список_полей_из_других_таблиц\n",
    "FROM \n",
    "    таблица_1 \n",
    "    ... JOIN таблица_2 ON ...\n",
    "    ...\n",
    "\n",
    "Пример: Включить новых авторов в таблицу author с помощью запроса на добавление, а затем вывести все данные из таблицы author.  Новыми считаются авторы, которые есть в таблице supply, но нет в таблице author.\n",
    "\n",
    "INSERT INTO author (name_author)\n",
    "\n",
    "SELECT supply.author\n",
    "\n",
    "FROM \n",
    "\n",
    "    author \n",
    "\n",
    "    RIGHT JOIN supply ON author.name_author = supply.author\n",
    "\n",
    "WHERE name_author is null;\n",
    "\n",
    "SELECT * FROM author\n",
    "\n",
    "*в данном случае использовали right join, чтобы (новые) данные из таблицы supply, которых нет в author, были занесены в таблицу*"
   ]
  },
  {
   "cell_type": "markdown",
   "metadata": {},
   "source": []
  }
 ],
 "metadata": {
  "language_info": {
   "name": "python"
  }
 },
 "nbformat": 4,
 "nbformat_minor": 2
}
