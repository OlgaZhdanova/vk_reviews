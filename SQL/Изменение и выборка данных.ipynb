{
 "cells": [
  {
   "cell_type": "markdown",
   "metadata": {},
   "source": [
    "# Вставка данных"
   ]
  },
  {
   "cell_type": "markdown",
   "metadata": {},
   "source": [
    "Вставка данных осуществляется оператором INSERT.\n",
    "\n",
    "INSERT [INTO] имя_таблицы [(список_столбцов)] VALUES (значение1, значение2, ... значениеN);\n",
    "\n",
    "В квадратных скобках [] указаны необязательные операторы/аргументы.\n",
    "\n",
    "Пример. Вставим одну строку в таблицу doctors:\n",
    "\n",
    "INSERT INTO doctors (doctor_name, spec, cabinet_num) \n",
    "VALUES('Вахтин Петр Семенович', 'терапевт', 11);\n",
    "\n",
    "В данном случае мы не указываем doctor_num, т к там стоит AUTO_INCREMENT и значения будут проставляться автоматически. Если же мы укажем явно, это не будет ошибкой.\n",
    "\n",
    "Если для каких-то столбцов не указано значение, то эти ячейки будут заполняться по дефолту, если не указано другого.\n",
    "\n",
    "Можно добавить сразу несколько строк в столбец:\n",
    "\n",
    "INSERT INTO med_area (area_address)\n",
    "VALUES\n",
    "('ул. Ленина'),\n",
    "('ул. Рижская'),\n",
    "('ул. Вавилова');\n",
    "\n",
    "Когда надо в таблицу вставить что-то новое + что-то из другой таблицы; в данной примере нужно включить нового человека в таблицу с клиентами. Его имя Попов Илья, его email popov@test, проживает он в Москве.\n",
    "\n",
    "INSERT INTO client\n",
    "\n",
    "(name_client, city_id, email)\n",
    "\n",
    "SELECT 'Попов Илья', city_id, 'popov@test'\n",
    "\n",
    "FROM city\n",
    "\n",
    "WHERE name_city = 'Москва';\n",
    "\n",
    "!Обращаем внимание, что здесь нет VALUES, вместо него SELECT с отсылкой на другую таблицу\n",
    "\n",
    "Если нужно сделать две или более вставки, делаем их по отдельности"
   ]
  },
  {
   "cell_type": "markdown",
   "metadata": {},
   "source": [
    "# Изменение данных"
   ]
  },
  {
   "cell_type": "markdown",
   "metadata": {},
   "source": [
    "Для обновления уже имеющихся строк применяется команда UPDATE:\n",
    "\n",
    "UPDATE имя_таблицы\n",
    "\n",
    "SET столбец1 = значение1, столбец2 = значение2, ... столбецN = значениеN\n",
    "\n",
    "[WHERE условие_обновления];\n",
    "\n",
    "Пример. Обновим поле Специальность врача:\n",
    "\n",
    "UPDATE doctors\n",
    "\n",
    "SET spec = 'невролог'\n",
    "\n",
    "WHERE doctor_num = 2;\n",
    "\n",
    "Если условие не ставить, то UPDATE выполнится для всех строк таблицы.\n",
    "\n",
    "Для конкатенации (слияния) двух строк используем CONCAT:\n",
    "\n",
    "UPDATE med_area\n",
    "\n",
    "SET area_address = CONCAT( 'г. Москва, ', area_address);\n",
    "\n",
    "Тут мы меняем все строки столбца area_address, везде добавляя г Москва сперва\n",
    "\n",
    "Обновление данных в одной таблице, при каком-то условии из другой: \n",
    "\n",
    "UPDATE fine f, traffic_violation tv\n",
    "\n",
    "SET f.sum_fine = tv.sum_fine\n",
    "\n",
    "WHERE f.violation = tv.violation and f.sum_fine is null;"
   ]
  },
  {
   "cell_type": "markdown",
   "metadata": {},
   "source": [
    "# Удаление данных"
   ]
  },
  {
   "cell_type": "markdown",
   "metadata": {},
   "source": [
    "DELETE FROM имя_таблицы\n",
    "\n",
    "[WHERE условие_удаления];\n",
    "\n",
    "Пример:\n",
    "\n",
    "DELETE FROM talons;\n",
    "(данный скрипт удалит все строки из таблицы)\n",
    "\n",
    "DELETE FROM talons\n",
    "\n",
    "WHERE doctor_num = 3;\n",
    "(а этот - строку где номер доктора = 3)\n",
    "\n",
    "Оператор TRUNCATE также удаляет строки из таблицы:\n",
    "\n",
    "TRUNCATE TABLE название_таблицы;\n",
    "\n",
    "Отличия TRUNCATE от DELETE:\n",
    "\n",
    "При DELETE можно удалить не все строки таблицы, ограничив их, используя WHERE; Можно восстановить данные после удаления (используя журнал транзакций); Выполняется медленно (за счет построчного сохранения данных в журнале транзакций); При удалении данных из таблицы с полем, объявленным как AUTO_INCREMENT, счетчик НЕ обнуляется.\n",
    "Соответственно, у TRUNCATE наоборот."
   ]
  },
  {
   "cell_type": "markdown",
   "metadata": {},
   "source": [
    "# Выборка данных SELECT"
   ]
  },
  {
   "cell_type": "markdown",
   "metadata": {},
   "source": [
    "Оператор SELECT используется для извлечения данных из одной или нескольких таблиц.\n",
    "\n",
    "Синтаксис:\n",
    "\n",
    "SELECT [DISTINCT] <список_выражений> (Используйте *, если вы хотите выбрать все столбцы)\n",
    "\n",
    "FROM <таблица(-ы)>\n",
    "\n",
    "[WHERE <условие>]\n",
    "\n",
    "[GROUP BY <список_группировки>]\n",
    "\n",
    "[HAVING <условие>]\n",
    "\n",
    "[ORDER BY <список сортировки>[ ASC | DESC ]] (ASC - сортировка по возрастанию, DESC - по убыванию)\n",
    "\n",
    "[LIMIT <количество_строк>];\n",
    "\n",
    "То, что взято в [], - необязательно\n",
    "\n",
    "Чтобы вывести всю инфу о врачах:\n",
    "SELECT * FROM doctors;\n",
    "\n",
    "Если нужно вывести только несколько столбцов, указываем их названия:\n",
    "SELECT doctor_num, doctor_name FROM doctors;\n",
    "\n",
    "DISTINCT возвращает уникальные значения для указанных столбцов или выражений. \n",
    "SELECT DISTINCT visit_time FROM talons;\n",
    "\n",
    "SELECT * FROM doctors\n",
    "WHERE cabinet_num = 21;\n",
    "В результирующий набор попадут только те строки, где номер кабинета будет равен 21.\n",
    "\n",
    "Пример с несколькими условиями: \n",
    "\n",
    "SELECT * FROM doctors\n",
    "WHERE (cabinet_num = 21 OR cabinet_num = 11)\n",
    "AND NOT spec = 'терапевт';\n",
    "\n",
    "where full_name like 'Иван%' (ФИО начинается на Иван) \n",
    "\n",
    "where exists (select * from med_area where area_num = 10) - Условие выполняется, если подзапрос возвращает хотя бы одну строку"
   ]
  },
  {
   "cell_type": "markdown",
   "metadata": {},
   "source": [
    "SELECT'ом можно выводить не только инфу по столбцам и строкам, но еще и:\n",
    "\n",
    "1. Константу - 5; \"Привет\"\n",
    "2. Операцию над выражениями - SELECT cabinet_num + 1 FROM .. \n",
    "3. Функцию от выражения - SELECT CONCAT('г.', area_address) FROM .."
   ]
  },
  {
   "cell_type": "markdown",
   "metadata": {},
   "source": [
    "column_name [ AS ] alias_name\n",
    "\n",
    "SELECT 1 + 1 AS summa;"
   ]
  },
  {
   "cell_type": "markdown",
   "metadata": {},
   "source": [
    "Встроенные функции:\n",
    "\n",
    "SELECT CONCAT('П','р','и','в','е','т') AS ex_concat;\n",
    "Выведет Привет\n",
    "\n",
    "SELECT LOWER('ПриВет1234') AS ex_lower;\n",
    "Выведет привет1234\n",
    "\n",
    "SELECT UPPER('ПриВет1234') AS ex_upper;\n",
    "Выведет ПРИВЕТ1234\n",
    "\n",
    "SELECT ABS(-12.36) AS ex_abs;\n",
    "Выведет 12.36\n",
    "\n",
    "SELECT GREATEST(8,9,23,45,78,2,13,75) AS ex_greatest;\n",
    "Выведет 78 (наибольшее значение)\n",
    "\n",
    "SELECT LEAST(8,9,23,45,78,2,13,75) AS ex_least;\n",
    "Выведет 2 (наименьшее)\n",
    "\n",
    "SELECT \n",
    "ROUND(8.589)    AS ex_round1, \n",
    "ROUND(8.589, 2) AS ex_round2;\n",
    "Выведет 9 и 8.59\n",
    "\n",
    "SELECT CURDATE() AS ex_curdate;\n",
    "Выводит текущую дату (YYYY-MM-DD)\n",
    "\n",
    "SELECT DAY('2024-01-14') AS ex_day;\n",
    "Выводит номер дня - 14\n",
    "\n",
    "SELECT MONTH('2024-01-14') AS ex_month;\n",
    "1\n",
    "\n",
    "SELECT YEAR('2024-01-14') AS ex_year;\n",
    "2024\n",
    "\n",
    "SELECT DATEDIFF('2024-01-14', '2023-11-12') AS ex_datediff;\n",
    "Возвращает число дней между двумя датами - 63\n",
    "\n",
    "SELECT \n",
    "    ISNULL('') AS ex_isnull1, \n",
    "    ISNULL(null) AS ex_isnull2, \n",
    "    ISNULL('Привет') AS ex_isnull3;\n",
    "Выведет 0, 1, 0\n",
    "\n",
    "SELECT IF(50<100,'y','n') AS ex_if;\n",
    "Выведет у, т к условие правдивое\n",
    "\n",
    "SELECT COALESCE(null, null,'Привет', null, 'Пока') AS ex_coalesce;\n",
    "\n",
    "Выводит первое не NULL выраженине в списке - Привет"
   ]
  },
  {
   "cell_type": "markdown",
   "metadata": {},
   "source": [
    "Задание: Рассчитайте для каждого пациента его возраст, используя функцию YEAR и CURDATE. Выведите ФИО, номер ОМС и возраст (назовите его age).\n",
    "\n",
    "SELECT full_name, oms_num, YEAR(CURDATE()) - YEAR(BIRTH_DATE) AS age FROM patients;"
   ]
  },
  {
   "cell_type": "markdown",
   "metadata": {},
   "source": [
    "Задание: Выведите информацию о докторах (не меняя данные в таблице) - номер доктора, ФИО доктора и специальность (если специальность не заполнена - выведите \"Не заполнена\", столбец назовите также spec). \n",
    "\n",
    "SELECT doctor_num, doctor_name, IF(spec IS NOT NULL, spec, 'Не заполнена') AS spec FROM doctors;"
   ]
  },
  {
   "cell_type": "markdown",
   "metadata": {},
   "source": [
    "Синтаксис сортировки:\n",
    "\n",
    "SELECT * FROM patients\n",
    "ORDER BY sex ASC;\n",
    "\n",
    "ASC можно и не указывать, т к он стоит и так по умолчанию\n",
    "\n",
    "SELECT full_name, sex, birth_date\n",
    "FROM patients\n",
    "ORDER BY 2, 3 DESC;\n",
    "\n",
    "Запись эквивалентна этой:\n",
    "SELECT full_name, sex, birth_date\n",
    "FROM patients\n",
    "ORDER BY sex ASC, birth_date DESC;\n",
    "\n",
    "Т е выводятся столбцы с ФИО, полом и датой рождения, причем сортировка будет производиться по полу по возрастанию и по дате по убыванию."
   ]
  },
  {
   "cell_type": "markdown",
   "metadata": {},
   "source": [
    "Задание: Выведите информацию (все поля) о трех самых молодых пациентах.\n",
    "\n",
    "SELECT * FROM patients\n",
    "\n",
    "ORDER BY birth_date DESC\n",
    "\n",
    "LIMIT 3;"
   ]
  },
  {
   "cell_type": "markdown",
   "metadata": {},
   "source": [
    "# Агрегатные функции"
   ]
  },
  {
   "cell_type": "markdown",
   "metadata": {},
   "source": [
    "Ранее мы знакомились с встроенными функциями, ктр являются скалярными, т е выполняют вычисления над одним значением или списком значений (=в пределах одной строки).\n",
    "\n",
    "Агрегатные же функции выполняют вычисления над группой значений из нескольких строк.\n",
    "\n",
    "Агрегатные функции в MySQL:\n",
    "1. AVG(выражение=в) - среднее значение\n",
    "2. SUM(в) - сумма значений\n",
    "3. MIN(в) - наименьшее\n",
    "4. MAX(в) - наибольшее\n",
    "5. COUNT(в) - вычисляет кол-во значений в указанном выражении\n",
    "6. COUNT(*) - возвращает кол-во строк источника записей\n",
    "\n",
    "В качестве выражения - название столбца, над значениями которого надо производить вычисления\n",
    "Для AVG, SUM должно быть числовое выражение. Для всех остальных - дата, строка, число. Все функции, за исключением COUNT(*), игнорируют NULL.\n",
    "\n",
    "Пример - посчитать среднюю стоимость посещения:\n",
    "\n",
    "SELECT AVG(visit_amount) AS avg_amount \n",
    "\n",
    "FROM talons;\t\n",
    "\n",
    "Чтобы задать ограничения:\n",
    "\n",
    "SELECT AVG(visit_amount) AS avg_amount\n",
    "\n",
    "FROM talons\n",
    "\n",
    "WHERE doctor_num IN (2,3);"
   ]
  },
  {
   "cell_type": "markdown",
   "metadata": {},
   "source": [
    "Задание: Посчитайте общую выручку за визиты к врачам за 2023 год (используйте функцию YEAR). Вычисляемое поле назовите sum_amount_2023.\n",
    "\n",
    "SELECT SUM(visit_amount) AS sum_amount_2023 FROM talons\n",
    "\n",
    "WHERE YEAR(visit_time) = '2023';"
   ]
  },
  {
   "cell_type": "markdown",
   "metadata": {},
   "source": [
    "# GROUP BY, HAVING"
   ]
  },
  {
   "cell_type": "markdown",
   "metadata": {},
   "source": [
    "Получим сумму денег за прием по каждому доктору:\n",
    "\n",
    "SELECT doctor_num, SUM(visit_amount) AS sum_amount\n",
    "\n",
    "FROM talons\n",
    "\n",
    "GROUP BY doctor_num;\n",
    "\n",
    "Например, по первому доктору будет выведено 4500.00, по второму - 1500.00б по третьему - 2700.00"
   ]
  },
  {
   "cell_type": "markdown",
   "metadata": {},
   "source": [
    "Задание: Выведите количество врачей по каждой специализации. В результирующем наборе должны быть поля: spec и вычисляемое поле с количеством, назовите его count_docs.\n",
    "\n",
    "SELECT spec, COUNT(*) as count_docs\n",
    "\n",
    "from doctors\n",
    "\n",
    "group by spec;"
   ]
  },
  {
   "cell_type": "markdown",
   "metadata": {},
   "source": [
    "Задание: Сколько мужчин и женщин среди пациентов, родившихся после 1970 года? Вычисляемое поле назовите count_pacient.\n",
    "\n",
    "select sex, count(sex) as count_pacient\n",
    "\n",
    "from patients\n",
    "\n",
    "where year(birth_date) > 1970\n",
    "\n",
    "group by sex;"
   ]
  },
  {
   "cell_type": "markdown",
   "metadata": {},
   "source": [
    "HAVING добавляет условие и, соотвественно, выводятся только те значения, что ему удовлетворяют. HAVING используется вместе с GROUP BY\n",
    "\n",
    "SELECT \n",
    "\tdoctor_num, SUM(visit_amount) AS sum_amount\n",
    "\n",
    "FROM talons\n",
    "\n",
    "GROUP BY doctor_num\n",
    "\n",
    "HAVING SUM(visit_amount) > 2000;"
   ]
  },
  {
   "cell_type": "markdown",
   "metadata": {},
   "source": [
    "Задание: Выведите номера врачей, у которых было больше одного посещения. В результате выведите только номера врачей.\n",
    "\n",
    "SELECT doctor_num from talons\n",
    "\n",
    "group by doctor_num\n",
    "\n",
    "having count(doctor_num) > 1;"
   ]
  },
  {
   "cell_type": "markdown",
   "metadata": {},
   "source": [
    "Задание: Заполните столбец fine_amount (сумма штрафа) в таблице books_in_use следующим образом:\n",
    "- За каждый день просрочки (дни, которые превышают return_period) начисляется штраф в размере 8,45 р. \n",
    "\n",
    "- Количество дней просрочки определяется как разница между Датой возврата книги и Датой выдачи \n",
    "\n",
    "- Если дата возврата не заполнена, значит книга еще в использовании, штраф не начисляем.\n",
    "\n",
    "UPDATE books_in_use\n",
    "\n",
    "SET fine_amount = (DATEDIFF(return_date, issue_date) - return_period) * 8.45\n",
    "\n",
    "WHERE return_date is not null and DATEDIFF(return_date, issue_date) > return_period;"
   ]
  },
  {
   "cell_type": "markdown",
   "metadata": {},
   "source": [
    "Задание: По каждому автору выведите количество книг (не экземпляров!). Вычисляемое поле назовите  books_count.\n",
    "\n",
    "SELECT book_author, COUNT(*) AS books_count FROM books\n",
    "\n",
    "group by book_author;"
   ]
  },
  {
   "cell_type": "markdown",
   "metadata": {},
   "source": [
    "Задание: Вывести список тех авторов, творчество которых представлено только одной книгой.\n",
    "\n",
    "SELECT book_author FROM books\n",
    "\n",
    "GROUP BY book_author\n",
    "\n",
    "HAVING COUNT(*) = 1;"
   ]
  }
 ],
 "metadata": {
  "language_info": {
   "name": "python"
  }
 },
 "nbformat": 4,
 "nbformat_minor": 2
}
