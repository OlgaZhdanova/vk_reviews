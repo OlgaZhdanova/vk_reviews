{
 "cells": [
  {
   "cell_type": "code",
   "execution_count": 3,
   "metadata": {},
   "outputs": [],
   "source": [
    "#бинарный поиск\n",
    "# напишем функцию, которая получает на вход отсортированный список и искомое значение \n",
    "# и возвращает индекс этого значения в списке или же None \n",
    "def binary_search(list, item):\n",
    "    # сперва определяем нижнюю и верхнюю границы (это именно индексы элементов в списке от 0)\n",
    "    low = 0\n",
    "    high = len(list) - 1\n",
    "    \n",
    "    while low <= high:\n",
    "        mid = (low+high) // 2\n",
    "        guess = list[mid]\n",
    "        if guess == item:\n",
    "            return mid\n",
    "        # если наше найденное значение меньше заданного, то обновляем нижнюю границу \n",
    "        elif guess < item:\n",
    "            low = mid + 1\n",
    "        # если больше, то, соответственно, - верхнюю\n",
    "        else:\n",
    "            high = mid - 1\n",
    "    # если такого значения в списке нет, то выводим None\n",
    "    return None"
   ]
  },
  {
   "cell_type": "code",
   "execution_count": 7,
   "metadata": {},
   "outputs": [
    {
     "name": "stdout",
     "output_type": "stream",
     "text": [
      "1\n",
      "None\n"
     ]
    }
   ],
   "source": [
    "my_list = [1, 3, 5, 7, 9]\n",
    "print(binary_search(my_list, 3))\n",
    "# выводится 1 - это номер индекса, под которым стоит искомое значение 3\n",
    "\n",
    "print(binary_search(my_list, -1))\n",
    "# выведен None, так как значения -1 нет в списке"
   ]
  },
  {
   "cell_type": "code",
   "execution_count": 8,
   "metadata": {},
   "outputs": [
    {
     "data": {
      "text/plain": [
       "7.0"
      ]
     },
     "execution_count": 8,
     "metadata": {},
     "output_type": "execute_result"
    }
   ],
   "source": [
    "from math import log\n",
    "# чтобы узнать какое масксимальное кол-во проверок необходимо, чтобы отыскать значение в списке из 128 наименований, \n",
    "# нужно найти логарифм по основанию 2 от 128\n",
    "log(128, 2)"
   ]
  },
  {
   "cell_type": "code",
   "execution_count": 9,
   "metadata": {},
   "outputs": [
    {
     "data": {
      "text/plain": [
       "8.0"
      ]
     },
     "execution_count": 9,
     "metadata": {},
     "output_type": "execute_result"
    }
   ],
   "source": [
    "# если размер списка увеличится вдвое, максимальное кол-во проверок увеличится всего на единицу\n",
    "log(256, 2)"
   ]
  },
  {
   "cell_type": "code",
   "execution_count": 10,
   "metadata": {},
   "outputs": [
    {
     "data": {
      "text/plain": [
       "3.3219280948873626"
      ]
     },
     "execution_count": 10,
     "metadata": {},
     "output_type": "execute_result"
    }
   ],
   "source": [
    "log(10, 2)"
   ]
  }
 ],
 "metadata": {
  "kernelspec": {
   "display_name": "Python 3",
   "language": "python",
   "name": "python3"
  },
  "language_info": {
   "codemirror_mode": {
    "name": "ipython",
    "version": 3
   },
   "file_extension": ".py",
   "mimetype": "text/x-python",
   "name": "python",
   "nbconvert_exporter": "python",
   "pygments_lexer": "ipython3",
   "version": "3.12.6"
  }
 },
 "nbformat": 4,
 "nbformat_minor": 2
}
