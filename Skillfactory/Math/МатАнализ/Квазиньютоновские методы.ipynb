{
 "cells": [
  {
   "cell_type": "code",
   "execution_count": 2,
   "metadata": {},
   "outputs": [
    {
     "name": "stdout",
     "output_type": "stream",
     "text": [
      "Статус оптимизации Optimization terminated successfully.\n",
      "Количество оценок: 3\n",
      "Решение: f([0. 0.]) = 0.00000\n"
     ]
    }
   ],
   "source": [
    "import numpy as np\n",
    "from scipy.optimize import minimize\n",
    "# определяем ф-ю, ктр хотим оптимизировать \n",
    "# вместо х и у можно взять координаты единого вектора\n",
    "def func(x):\n",
    "    return x[0]**2.0 + x[1]**2.0\n",
    "# определяем градиент для ф-и\n",
    "def grad_func(x):\n",
    "    return np.array([x[0] * 2, x[1] * 2])\n",
    "# начальная точка\n",
    "x_0 = [1.0, 1.0]\n",
    "# алгоритм\n",
    "result = minimize(func, x_0, method='BFGS', jac=grad_func)\n",
    "print('Статус оптимизации %s' % result['message'])\n",
    "print('Количество оценок: %d' % result['nfev'])\n",
    "solution = result['x']\n",
    "evaluation = func(solution)\n",
    "print('Решение: f(%s) = %.5f' % (solution, evaluation))\n",
    "# мы получили, что минимум функции достигается в точке (0, 0). \n",
    "# Значение функции в этой точке также равно нулю."
   ]
  },
  {
   "cell_type": "code",
   "execution_count": 3,
   "metadata": {},
   "outputs": [
    {
     "name": "stdout",
     "output_type": "stream",
     "text": [
      "Статус оптимизации CONVERGENCE: NORM_OF_PROJECTED_GRADIENT_<=_PGTOL\n",
      "Количество оценок: 3\n",
      "Решение: f([0. 0.]) = 0.00000\n"
     ]
    }
   ],
   "source": [
    "# повторим все то же самое с вариацией L-BFGS-B\n",
    "# результат такой же\n",
    "# определяем нашу функцию\n",
    "def func(x):\n",
    "    return x[0]**2.0 + x[1]**2.0\n",
    " \n",
    "#  определяем градиент функции\n",
    "def grad_func(x):\n",
    "    return np.array([x[0] * 2, x[1] * 2])\n",
    " \n",
    "# определяем начальную точку\n",
    "x_0 = [1, 1]\n",
    "# реализуем алгоритм L-BFGS-B\n",
    "result = minimize(func, x_0, method='L-BFGS-B', jac=grad_func)\n",
    "# получаем результат\n",
    "print('Статус оптимизации %s' % result['message'])\n",
    "print('Количество оценок: %d' % result['nfev'])\n",
    "solution = result['x']\n",
    "evaluation = func(solution)\n",
    "print('Решение: f(%s) = %.5f' % (solution, evaluation))"
   ]
  },
  {
   "cell_type": "code",
   "execution_count": 4,
   "metadata": {},
   "outputs": [
    {
     "name": "stdout",
     "output_type": "stream",
     "text": [
      "Статус оптимизации Optimization terminated successfully.\n",
      "Количество оценок: 11\n",
      "Решение: f([-4.  1.]) = -1.00000\n"
     ]
    }
   ],
   "source": [
    "# найдем точку минимума для функции\n",
    "def func(x):\n",
    "    return x[0]**2.0 - x[0]*x[1] + x[1]**2.0 + 9*x[0] - 6*x[1] + 20\n",
    "# определяем градиент для ф-и\n",
    "def grad_func(x):\n",
    "    return np.array([x[0] * 2 - x[1] + 9, - x[0] + x[1] * 2 - 6])\n",
    "# начальная точка\n",
    "x_0 = [-400.0, -400.0]\n",
    "# алгоритм\n",
    "result = minimize(func, x_0, method='BFGS', jac=grad_func)\n",
    "print('Статус оптимизации %s' % result['message'])\n",
    "print('Количество оценок: %d' % result['nfev'])\n",
    "solution = result['x']\n",
    "evaluation = func(solution)\n",
    "print('Решение: f(%s) = %.5f' % (solution, evaluation))"
   ]
  },
  {
   "cell_type": "code",
   "execution_count": 9,
   "metadata": {},
   "outputs": [
    {
     "name": "stdout",
     "output_type": "stream",
     "text": [
      "Статус оптимизации Optimization terminated successfully.\n",
      "Количество оценок: 5\n",
      "Решение: f([1.5]) = 42.75\n"
     ]
    },
    {
     "name": "stderr",
     "output_type": "stream",
     "text": [
      "/var/folders/50/18ts1bh12532xjz2xv95cl540000gn/T/ipykernel_9818/373539832.py:15: DeprecationWarning: Conversion of an array with ndim > 0 to a scalar is deprecated, and will error in future. Ensure you extract a single element from your array before performing this operation. (Deprecated NumPy 1.25.)\n",
      "  print('Решение: f(%s) = %.2f' % (solution, evaluation))\n"
     ]
    }
   ],
   "source": [
    "# найдем точку минимума для функции\n",
    "def func(x):\n",
    "    return x**2.0 - x*3.0 + 45.0\n",
    "# определяем градиент для ф-и\n",
    "def grad_func(x):\n",
    "    return 2.0*x - 3.0\n",
    "# начальная точка\n",
    "x_0 = 10.0\n",
    "# алгоритм\n",
    "result = minimize(func, x_0, method='BFGS', jac=grad_func)\n",
    "print('Статус оптимизации %s' % result['message'])\n",
    "print('Количество оценок: %d' % result['nfev'])\n",
    "solution = result['x']\n",
    "evaluation = func(solution)\n",
    "print('Решение: f(%s) = %.2f' % (solution, evaluation))"
   ]
  },
  {
   "cell_type": "code",
   "execution_count": 10,
   "metadata": {},
   "outputs": [
    {
     "name": "stdout",
     "output_type": "stream",
     "text": [
      "Статус оптимизации CONVERGENCE: NORM_OF_PROJECTED_GRADIENT_<=_PGTOL\n",
      "Количество оценок: 3\n",
      "Решение: f([1.5]) = 42.75\n"
     ]
    },
    {
     "name": "stderr",
     "output_type": "stream",
     "text": [
      "/var/folders/50/18ts1bh12532xjz2xv95cl540000gn/T/ipykernel_9818/3317656809.py:15: DeprecationWarning: Conversion of an array with ndim > 0 to a scalar is deprecated, and will error in future. Ensure you extract a single element from your array before performing this operation. (Deprecated NumPy 1.25.)\n",
      "  print('Решение: f(%s) = %.2f' % (solution, evaluation))\n"
     ]
    }
   ],
   "source": [
    "# найдем точку минимума для функции\n",
    "def func(x):\n",
    "    return x**2.0 - x*3.0 + 45.0\n",
    "# определяем градиент для ф-и\n",
    "def grad_func(x):\n",
    "    return 2.0*x - 3.0\n",
    "# начальная точка\n",
    "x_0 = 10.0\n",
    "# алгоритм\n",
    "result = minimize(func, x_0, method='L-BFGS-B', jac=grad_func)\n",
    "print('Статус оптимизации %s' % result['message'])\n",
    "print('Количество оценок: %d' % result['nfev'])\n",
    "solution = result['x']\n",
    "evaluation = func(solution)\n",
    "print('Решение: f(%s) = %.2f' % (solution, evaluation))"
   ]
  },
  {
   "cell_type": "code",
   "execution_count": 12,
   "metadata": {},
   "outputs": [
    {
     "name": "stdout",
     "output_type": "stream",
     "text": [
      "Статус оптимизации CONVERGENCE: REL_REDUCTION_OF_F_<=_FACTR*EPSMCH\n",
      "Количество оценок: 40\n",
      "Решение: f([-9.52718297e-03 -2.32170510e-06]) = 10.00000\n"
     ]
    }
   ],
   "source": [
    "# найдем точку минимума для функции\n",
    "def func(x):\n",
    "    return x[0]**4.0 + 6*x[1]**2 + 10\n",
    "# определяем градиент для ф-и\n",
    "def grad_func(x):\n",
    "    return np.array([4.0*x[0]**3.0, 12*x[1]])\n",
    "# начальная точка\n",
    "x_0 = [100.0, 100.0]\n",
    "# алгоритм\n",
    "result = minimize(func, x_0, method='L-BFGS-B', jac=grad_func)\n",
    "print('Статус оптимизации %s' % result['message'])\n",
    "print('Количество оценок: %d' % result['nfev'])\n",
    "solution = result['x']\n",
    "evaluation = func(solution)\n",
    "print('Решение: f(%s) = %.5f' % (solution, evaluation))"
   ]
  }
 ],
 "metadata": {
  "kernelspec": {
   "display_name": "Python 3",
   "language": "python",
   "name": "python3"
  },
  "language_info": {
   "codemirror_mode": {
    "name": "ipython",
    "version": 3
   },
   "file_extension": ".py",
   "mimetype": "text/x-python",
   "name": "python",
   "nbconvert_exporter": "python",
   "pygments_lexer": "ipython3",
   "version": "3.12.6"
  }
 },
 "nbformat": 4,
 "nbformat_minor": 2
}
