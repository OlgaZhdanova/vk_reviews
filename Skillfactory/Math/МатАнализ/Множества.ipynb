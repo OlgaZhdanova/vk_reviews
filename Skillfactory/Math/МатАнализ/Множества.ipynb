{
 "cells": [
  {
   "cell_type": "code",
   "execution_count": 1,
   "metadata": {},
   "outputs": [],
   "source": [
    "# создадим два множества - в А будут храниться уникальные ID клиентов, ктр пользуются моб связью, а в В - ID клиентов, ктр пользуются домашним интернетом\n",
    "A = {'ID453', 'ID312', 'ID41', 'ID3', 'ID500', 'ID920', 'ID36', 'ID27'}\n",
    "B = {'ID41', 'ID36', 'ID27', 'ID124', 'ID7', 'ID501', 'ID91' }"
   ]
  },
  {
   "cell_type": "code",
   "execution_count": 2,
   "metadata": {},
   "outputs": [
    {
     "name": "stdout",
     "output_type": "stream",
     "text": [
      "{'ID312', 'ID27', 'ID501', 'ID7', 'ID41', 'ID124', 'ID500', 'ID3', 'ID36', 'ID920', 'ID91', 'ID453'}\n"
     ]
    }
   ],
   "source": [
    "# объединение множеств\n",
    "union_AB = A.union(B)\n",
    "print(union_AB)\n",
    "# в качестве результата мы получим тех клиентов, ктр используют хотя бы одну из двух услуг\n",
    "# мы получили НОВОЕ множество\n",
    "# также метод union можно заменить |\n",
    "union_AB = A|B"
   ]
  },
  {
   "cell_type": "code",
   "execution_count": 3,
   "metadata": {},
   "outputs": [
    {
     "name": "stdout",
     "output_type": "stream",
     "text": [
      "{'ID27', 'ID36', 'ID41'}\n"
     ]
    }
   ],
   "source": [
    "# перечение множеств\n",
    "inter_AB = A.intersection(B)\n",
    "print(inter_AB)\n",
    "# получим клиентов, ктр пользуются обеими услугами\n",
    "# можно заменитть на &\n",
    "inter_AB = A&B"
   ]
  },
  {
   "cell_type": "code",
   "execution_count": 5,
   "metadata": {},
   "outputs": [
    {
     "name": "stdout",
     "output_type": "stream",
     "text": [
      "Пользуются только мобильной связью:  {'ID312', 'ID500', 'ID3', 'ID920', 'ID453'}\n",
      "Пользуются только домашним интернетом:  {'ID501', 'ID124', 'ID7', 'ID91'}\n"
     ]
    }
   ],
   "source": [
    "# разность множеств\n",
    "diff_AB = A.difference(B)\n",
    "print('Пользуются только мобильной связью: ', diff_AB)\n",
    "# получим только тех, кто пользуется моб связью и не использует домашний интернет\n",
    "diff_AB = A - B\n",
    "# если мы хоти получить только тех, кто пользуется домашним интернетом, то просто поменяем местами\n",
    "diff_BA = B - A\n",
    "print('Пользуются только домашним интернетом: ', diff_BA)\n",
    "# также с помощью разности множеств можно найти и дополнение, если заранее задать универсальное множество"
   ]
  },
  {
   "cell_type": "code",
   "execution_count": 6,
   "metadata": {},
   "outputs": [
    {
     "name": "stdout",
     "output_type": "stream",
     "text": [
      "{'ID312', 'ID501', 'ID7', 'ID124', 'ID500', 'ID3', 'ID920', 'ID91', 'ID453'}\n"
     ]
    }
   ],
   "source": [
    "# симметрическая разность\n",
    "symmAB = A.symmetric_difference(B)\n",
    "print(symmAB)\n",
    "# получим тех клиентов, ктр пользуются только какой-то одной услугой\n",
    "symmAB = A^B"
   ]
  },
  {
   "cell_type": "code",
   "execution_count": 7,
   "metadata": {},
   "outputs": [
    {
     "data": {
      "text/latex": [
       "$\\displaystyle \\left\\{1, 3, 7, 9, 10\\right\\}$"
      ],
      "text/plain": [
       "{1, 3, 7, 9, 10}"
      ]
     },
     "execution_count": 7,
     "metadata": {},
     "output_type": "execute_result"
    }
   ],
   "source": [
    "# чтобы работать с множествами, нужна функция FiniteSet\n",
    "from sympy import FiniteSet, Union\n",
    "l1 = [1, 3, 7, 10] \n",
    "l2 = [9, 7, 1] \n",
    "a = FiniteSet(*l1) \n",
    "b = FiniteSet(*l2)\n",
    "# объединение множеств \n",
    "Union(a, b)"
   ]
  },
  {
   "cell_type": "code",
   "execution_count": 8,
   "metadata": {},
   "outputs": [
    {
     "data": {
      "text/latex": [
       "$\\displaystyle \\left\\{x\\; \\middle|\\; x \\in \\left[2, 9\\right] \\wedge x^{2} - 5 x = 0 \\right\\}$"
      ],
      "text/plain": [
       "ConditionSet(x, Eq(x**2 - 5*x, 0), Interval(2, 9))"
      ]
     },
     "execution_count": 8,
     "metadata": {},
     "output_type": "execute_result"
    }
   ],
   "source": [
    "# множества можно задаватьь не прямым перечислением, а с помощью условий и мат. выражений\n",
    "from sympy import ConditionSet, Eq, Symbol, Interval\n",
    "x=Symbol('x')\n",
    "s=ConditionSet(x, Eq(x**2-5*x,0), Interval(2,9))\n",
    "# В данном примере мы задали множество, в котором находятся все числа из интервала от 2 до 9, для которых верно, что они являются корнями уравнения x^2 - 5x = 0.\n",
    "s"
   ]
  },
  {
   "cell_type": "code",
   "execution_count": 23,
   "metadata": {},
   "outputs": [
    {
     "name": "stdout",
     "output_type": "stream",
     "text": [
      "На оба вебинара записалось: 3 человека\n",
      "В посещении ХОТЯ БЫ одного вебинара заинтересованы: 10 человек\n",
      "Посетят только один вебинар из двух: 7 человек\n"
     ]
    }
   ],
   "source": [
    "prog = {'bennet@xyz.com', 'darcy@abc.com', 'margaret@xyz.com', 'pa@hhh.com', \n",
    "        'marimari@xyz.com', 'mallika@yahoo.com', 'abc@xyz.com', '0071235@gmail.ru'}\n",
    "MO = {'marimari@xyz.com', 'darcy@abc.com', '0071235@gmail.ru', \n",
    "      'darcy@abc.com', 'petr44@xyz.com', 'katrin@ya.com'}\n",
    "print('На оба вебинара записалось:', len(prog&MO), 'человека')\n",
    "print('В посещении ХОТЯ БЫ одного вебинара заинтересованы:', len(prog|MO), 'человек')\n",
    "print('Посетят только один вебинар из двух:', len(prog^MO), 'человек')"
   ]
  }
 ],
 "metadata": {
  "kernelspec": {
   "display_name": "Python 3",
   "language": "python",
   "name": "python3"
  },
  "language_info": {
   "codemirror_mode": {
    "name": "ipython",
    "version": 3
   },
   "file_extension": ".py",
   "mimetype": "text/x-python",
   "name": "python",
   "nbconvert_exporter": "python",
   "pygments_lexer": "ipython3",
   "version": "3.12.6"
  }
 },
 "nbformat": 4,
 "nbformat_minor": 2
}
