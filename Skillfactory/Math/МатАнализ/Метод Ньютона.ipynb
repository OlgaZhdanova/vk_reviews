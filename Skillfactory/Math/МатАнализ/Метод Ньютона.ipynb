{
 "cells": [
  {
   "cell_type": "markdown",
   "metadata": {},
   "source": [
    "Алгоритмы оптимизации из библиотеки sklearn (для функции LogisticRegression), используемые для обучения модели:\n",
    "1. newton-cg,\n",
    "2. lbfgs,\n",
    "3. liblinear,\n",
    "4. sag,\n",
    "5. saga.\n",
    "4 и 5 - вариации стохастического градиентного спуска\n",
    "\n"
   ]
  },
  {
   "cell_type": "code",
   "execution_count": 7,
   "metadata": {},
   "outputs": [
    {
     "name": "stdout",
     "output_type": "stream",
     "text": [
      "0.6286669787778999\n"
     ]
    }
   ],
   "source": [
    "# задача найти третий корень полинома, при стартовой точке х0=0.7\n",
    "def f(x):\n",
    "    return 6*(x**5) - 5*(x**4) - 4*(x**3) + 3*(x**2)\n",
    "# создадим градиент (для этого посчитаем частные производные для функции и вернем их в виде кортежа)\n",
    "def grad(x):\n",
    "    dx = 30*(x**4) - 20*(x**3) - 12*(x**2) + 6*x\n",
    "    return dx\n",
    "\n",
    "x0 = 0.7\n",
    "for i in range(3):\n",
    "    x_new = x0 - f(x0)/grad(x0)\n",
    "    x0 = x_new\n",
    "print(x0)"
   ]
  },
  {
   "cell_type": "markdown",
   "metadata": {},
   "source": [
    "В многомерном случае по аналогичным рассуждениям производная превращается в градиент, а вторая производная превращается в гессиан (матрица вторых производных или матрица Гессе). Поэтому в формуле появится обратная матрица."
   ]
  },
  {
   "cell_type": "markdown",
   "metadata": {},
   "source": [
    "Метод Ньютона, если считать в количестве итераций, в многомерном случае (с гессианом) работает быстрее градиентного спуска."
   ]
  },
  {
   "cell_type": "code",
   "execution_count": 8,
   "metadata": {},
   "outputs": [],
   "source": [
    "def func(x):\n",
    "    return x**3 - 3*(x**2) - 45*x + 40\n",
    "# первая производная\n",
    "def func1(x):\n",
    "    return 3*x**2 - 6*x -45\n",
    "# вторая производная\n",
    "def func2(x):\n",
    "    return 6*x - 6"
   ]
  },
  {
   "cell_type": "code",
   "execution_count": 9,
   "metadata": {},
   "outputs": [
    {
     "name": "stdout",
     "output_type": "stream",
     "text": [
      "21.695121951219512\n",
      "11.734125501243229\n",
      "7.1123493600499685\n",
      "5.365000391507974\n",
      "5.015260627016227\n",
      "5.000029000201801\n",
      "5.000000000105126\n",
      "5.0\n"
     ]
    }
   ],
   "source": [
    "#стартовая точка\n",
    "init_value = 42\n",
    "#кол-во итераций\n",
    "iter_count = 0\n",
    "#текущая точка (изначально равна стартовой)\n",
    "x_curr = init_value\n",
    "#точность\n",
    "epsilon = 0.0001\n",
    "f = func1(x_curr)\n",
    "\n",
    "# шаг за шагом мы оптимизировали функцию\n",
    "while (abs(f) > epsilon):\n",
    "    f = func1(x_curr)\n",
    "    f_prime = func2(x_curr)\n",
    "    x_curr = x_curr - (f)/(f_prime)\n",
    "    iter_count += 1\n",
    "    print(x_curr)"
   ]
  },
  {
   "cell_type": "markdown",
   "metadata": {},
   "source": [
    "Достоинства метода Ньютона: \n",
    "1. Если мы минимизируем квадратичную функцию, то с помощью метода Ньютона можно попасть в минимум целевой функции за один шаг.\n",
    "2. Также этот алгоритм сходится за один шаг, если в качестве минимизируемой функции выступает функция из класса поверхностей вращения (т. е. такая, у которой есть симметрия).\n",
    "3. Для несимметричной функции метод не может обеспечить сходимость, однако скорость сходимости  всё равно превышает скорость методов, основанных на градиентном спуске.\n",
    "\n",
    "4. также преимущество перед градиентным спуском - не нужно выбирать шаг"
   ]
  },
  {
   "cell_type": "markdown",
   "metadata": {},
   "source": [
    "Недостатки метода Ньютона:\n",
    "1. Этот метод очень чувствителен к изначальным условиям -> !метод Ньютона стоит применять только для задач, в которых целевая функция выпуклая!\n",
    "2. Затратный с точки зрения вычислительной сложности"
   ]
  },
  {
   "cell_type": "code",
   "execution_count": 27,
   "metadata": {},
   "outputs": [
    {
     "name": "stdout",
     "output_type": "stream",
     "text": [
      "10.21111111111111\n",
      "9.756461564762278\n",
      "9.727252176332618\n",
      "9.72713442131889\n",
      "9.727134419408875\n"
     ]
    }
   ],
   "source": [
    "# задание - найти решение уравнения f(x) = 0 для поиска корня в окрестностях х0=12 \n",
    "# делаем столько итераций, чтобы они были уже одинаковые хотя бы в пределе трех цифр после запятой\n",
    "def f(x):\n",
    "    return x**3 - 72*x - 220\n",
    "def grad(x):\n",
    "    return 3*(x**2) - 72\n",
    "    \n",
    "x0 = 12\n",
    "for i in range(3):\n",
    "    x_new = x0 - f(x0)/grad(x0)\n",
    "    x0 = x_new\n",
    "    print(x0)"
   ]
  },
  {
   "cell_type": "code",
   "execution_count": 28,
   "metadata": {},
   "outputs": [
    {
     "name": "stdout",
     "output_type": "stream",
     "text": [
      "0.5249395544696249\n"
     ]
    }
   ],
   "source": [
    "\n",
    "def f(x):\n",
    "    return x**2 + 9*x - 5\n",
    "def grad(x):\n",
    "    return 2*x + 9\n",
    "    \n",
    "x0 = 2.2\n",
    "for i in range(3):\n",
    "    x_new = x0 - f(x0)/grad(x0)\n",
    "    x0 = x_new\n",
    "print(x0)"
   ]
  },
  {
   "cell_type": "code",
   "execution_count": 29,
   "metadata": {},
   "outputs": [],
   "source": [
    "def func(x):\n",
    "    return 8*(x**3) - 2*(x**2) - 450\n",
    "# первая производная\n",
    "def func1(x):\n",
    "    return 24*(x**2) - 4*x\n",
    "# вторая производная\n",
    "def func2(x):\n",
    "    return 48*x - 4"
   ]
  },
  {
   "cell_type": "code",
   "execution_count": 30,
   "metadata": {},
   "outputs": [
    {
     "name": "stdout",
     "output_type": "stream",
     "text": [
      "21.041749502982107\n",
      "10.562707090133793\n",
      "5.323351550447383\n",
      "2.7040050774153417\n",
      "1.3949941413301903\n",
      "0.7418109325525483\n",
      "0.41784523900811205\n",
      "0.26096925221473555\n",
      "0.19169814030401197\n",
      "0.16955770984744145\n",
      "0.1667151339969682\n",
      "0.1666666807529666\n",
      "0.16666666666666785\n"
     ]
    }
   ],
   "source": [
    "#стартовая точка\n",
    "init_value = 42\n",
    "#кол-во итераций\n",
    "iter_count = 0\n",
    "#текущая точка (изначально равна стартовой)\n",
    "x_curr = init_value\n",
    "#точность\n",
    "epsilon = 0.0001\n",
    "f = func1(x_curr)\n",
    "\n",
    "# шаг за шагом мы оптимизировали функцию\n",
    "while (abs(f) > epsilon):\n",
    "    f = func1(x_curr)\n",
    "    f_prime = func2(x_curr)\n",
    "    x_curr = x_curr - (f)/(f_prime)\n",
    "    iter_count += 1\n",
    "    print(x_curr)"
   ]
  }
 ],
 "metadata": {
  "kernelspec": {
   "display_name": "Python 3",
   "language": "python",
   "name": "python3"
  },
  "language_info": {
   "codemirror_mode": {
    "name": "ipython",
    "version": 3
   },
   "file_extension": ".py",
   "mimetype": "text/x-python",
   "name": "python",
   "nbconvert_exporter": "python",
   "pygments_lexer": "ipython3",
   "version": "3.12.6"
  }
 },
 "nbformat": 4,
 "nbformat_minor": 2
}
