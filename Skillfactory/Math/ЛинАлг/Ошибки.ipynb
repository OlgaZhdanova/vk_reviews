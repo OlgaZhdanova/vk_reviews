{
 "cells": [
  {
   "cell_type": "markdown",
   "metadata": {},
   "source": [
    "Среднеквадратичная ошибка (RMSE) и средняя абсолютная ошибка (MAE) — это метрики, используемые для оценки работы модели регрессии. Эти показатели говорят нам, насколько точны наши прогнозы и какова величина отклонения от фактических значений.\n",
    "\n",
    "Технически, RMSE — это корень среднего квадрата ошибок, а MAE — это среднее абсолютное значение ошибок. Здесь ошибки — это различия между предсказанными значениями (значениями, предсказанными нашей регрессионной моделью) и фактическими значениями переменной. По своей сути разница лишь в том, что RMSE из-за квадрата в формуле будет сильнее наказывать нас за ошибку, т.е. будет увеличивать вес / значение самой ошибки."
   ]
  },
  {
   "cell_type": "code",
   "execution_count": 1,
   "metadata": {},
   "outputs": [
    {
     "ename": "NameError",
     "evalue": "name 'y' is not defined",
     "output_type": "error",
     "traceback": [
      "\u001b[0;31m---------------------------------------------------------------------------\u001b[0m",
      "\u001b[0;31mNameError\u001b[0m                                 Traceback (most recent call last)",
      "Cell \u001b[0;32mIn[1], line 3\u001b[0m\n\u001b[1;32m      1\u001b[0m \u001b[38;5;28;01mimport\u001b[39;00m \u001b[38;5;21;01mnumpy\u001b[39;00m \u001b[38;5;28;01mas\u001b[39;00m \u001b[38;5;21;01mnp\u001b[39;00m\n\u001b[1;32m      2\u001b[0m \u001b[38;5;66;03m# чтобы рассчитать RMSE и MAE средствами numpy\u001b[39;00m\n\u001b[0;32m----> 3\u001b[0m np\u001b[38;5;241m.\u001b[39msqrt(np\u001b[38;5;241m.\u001b[39mmean(np\u001b[38;5;241m.\u001b[39msquare(\u001b[43my\u001b[49m\u001b[38;5;241m-\u001b[39myp)))\n\u001b[1;32m      4\u001b[0m np\u001b[38;5;241m.\u001b[39mmean(\u001b[38;5;28mabs\u001b[39m(y\u001b[38;5;241m-\u001b[39myp))\n",
      "\u001b[0;31mNameError\u001b[0m: name 'y' is not defined"
     ]
    }
   ],
   "source": [
    "import numpy as np\n",
    "# чтобы рассчитать RMSE и MAE средствами numpy\n",
    "np.sqrt(np.mean(np.square(y-yp)))\n",
    "np.mean(abs(y-yp))"
   ]
  },
  {
   "cell_type": "code",
   "execution_count": 18,
   "metadata": {},
   "outputs": [
    {
     "name": "stdout",
     "output_type": "stream",
     "text": [
      "R^2:  0.95\n"
     ]
    },
    {
     "data": {
      "text/plain": [
       "((160, 4), (160, 1))"
      ]
     },
     "execution_count": 18,
     "metadata": {},
     "output_type": "execute_result"
    }
   ],
   "source": [
    "# полиномиальная регрессия\n",
    "# подготовка данных\n",
    "import pandas as pd\n",
    "from sklearn.linear_model import LinearRegression\n",
    "data = pd.read_csv('/Users/olgazdanova/IDE/Skillfactory/HW/unconv.csv')\n",
    "data.drop(['Well', 'Perm', 'TOC'], axis=1, inplace=True)\n",
    "X = data[['Por', 'AI', 'Brittle','VR']]\n",
    "y = data[['Prod']]\n",
    "new_model = LinearRegression().fit(X, y)\n",
    "print('R^2: ', round(new_model.score(X, y), 2))\n",
    "from sklearn.model_selection import train_test_split\n",
    "X_train, X_test, y_train, y_test = train_test_split(X, y, test_size=0.2, random_state=42)\n",
    "X_train.shape, y_train.shape\n"
   ]
  },
  {
   "cell_type": "code",
   "execution_count": 8,
   "metadata": {},
   "outputs": [],
   "source": [
    "# создание полиномиальных признаков\n",
    "from sklearn.preprocessing import PolynomialFeatures\n",
    "poly = PolynomialFeatures(degree=3, include_bias=False)\n",
    "X_poly_train = poly.fit_transform(X_train)\n",
    "X_poly_test = poly.fit_transform(X_test)"
   ]
  },
  {
   "cell_type": "code",
   "execution_count": 17,
   "metadata": {},
   "outputs": [
    {
     "name": "stdout",
     "output_type": "stream",
     "text": [
      "R^2:  0.99\n"
     ]
    }
   ],
   "source": [
    "#обучение модели\n",
    "model = LinearRegression().fit(X_poly_train, y_train)\n",
    "print('R^2: ', round(model.score(X_poly_train, y_train), 2))"
   ]
  },
  {
   "cell_type": "code",
   "execution_count": 10,
   "metadata": {},
   "outputs": [
    {
     "name": "stdout",
     "output_type": "stream",
     "text": [
      "Mean Squared Error: 26680.894340114115\n",
      "R^2 Score: 0.968470030165188\n"
     ]
    }
   ],
   "source": [
    "# оценка модели\n",
    "from sklearn.metrics import mean_squared_error, r2_score\n",
    "y_pred = model.predict(X_poly_test)\n",
    "mse = mean_squared_error(y_test, y_pred)\n",
    "r2 = r2_score(y_test, y_pred)\n",
    "\n",
    "print(f'Mean Squared Error: {mse}')\n",
    "print(f'R^2 Score: {r2}')"
   ]
  },
  {
   "cell_type": "markdown",
   "metadata": {},
   "source": [
    "# Метрики эффективности"
   ]
  },
  {
   "cell_type": "markdown",
   "metadata": {},
   "source": [
    "Метрики эффективности - это способ показать, насколько точно модель отражает реальный мир\n",
    "\n",
    "Метрики эффективности должны выбираться исходя из задачи, ктр решает модель\n",
    "\n",
    "Функция ошибки и метрика эффективности - разные вещи\n",
    "\n",
    "В задаче можно (и зачастую, нужно) применять несколько метрик эффективности\n",
    "\n",
    "Наряду с метриками эффективности есть и другие характеристики моделей - скорость обучения, скорость работы, надежность, робастность, интерпретируемость\n",
    "\n",
    "Метрики эффективности вычисляются из двух векторов - предсказанных (теоретических) значений целевой переменной и эмпирических (реальных) значений"
   ]
  },
  {
   "cell_type": "markdown",
   "metadata": {},
   "source": [
    "Метрики эффективности для регрессий обычно анализируют отклонения предсказанных значений от реальных.\n",
    "\n",
    "Большинство метрик пришло из математической статистики.\n",
    "\n",
    "Обычно метрики сравнивают данную модель с тривиальной - моделью, ктр всегда предсказывает среднее реальное значение целевой перемнной."
   ]
  },
  {
   "cell_type": "markdown",
   "metadata": {},
   "source": [
    "Все метрики находятся в библиотеке sklearn.metrics"
   ]
  },
  {
   "cell_type": "markdown",
   "metadata": {},
   "source": [
    "1. Коэффициент детерминации (r2_score). Он показывает силу связи между двумя случайными величинами. Если модель идеальная, то r^2 = 1 (100%), если плохая (тривиальная) = 0. Значение метрики мб отрицательным, если модель предсказывает хуже, чем тривиальная. Это несимметричная метрика (положение y и y_pred играет роль).\n",
    "\n",
    "    from sklearn.linear_model import LinearRegression\n",
    "    \n",
    "    model = LinearRegression().fit(X, y)\n",
    "    \n",
    "    y_pred = model.predict(X)\n",
    "\n",
    "Можно вызвать model.score(X, y), где мы указываем матрицу наблюдений и целевой (реальный) вектор \n",
    "\n",
    "А можно - r2_score(y, y_pred), где мы указываем сначала целевой вектор, а потом предсказанный (теоретический)"
   ]
  },
  {
   "cell_type": "markdown",
   "metadata": {},
   "source": [
    "2. Средняя абсолютная ошибка (МАЕ). Показывает среднее абсолютное отклонение предсказанных значений от реальных. Чем выше значение МАЕ, тем модель хуже. У идеальной модели МАЕ=0\n",
    "\n",
    "    y = [...]\n",
    "    \n",
    "    y_pred = [...]\n",
    "\n",
    "mean_absolute_error(y, y_pred)"
   ]
  },
  {
   "cell_type": "markdown",
   "metadata": {},
   "source": [
    "3. Средний квадрат ошибки (MSE). Чем выше значение, тем модель хуже; у идеальной модели метрика = 0. Более чувствительна к аномалиям. Главный недостаток в том, что выражает квадрат ошибки (то есть большие величины получаются).\n",
    "\n",
    "mean_squared_error(y, y_pred, squared=False)"
   ]
  },
  {
   "cell_type": "markdown",
   "metadata": {},
   "source": [
    "4. Среднеквадратичная ошибка (RMSE). Чувствительность к аномалиям!"
   ]
  },
  {
   "cell_type": "markdown",
   "metadata": {},
   "source": [
    "5. Среднеквадратичная логарифмическая ошибка (MSLE). Логарифмическая ошибка будет сильно-сильно меньше МАЕ и тем более MSE"
   ]
  },
  {
   "cell_type": "markdown",
   "metadata": {},
   "source": [
    "6. Среднее процентное отклонение (МАРЕ). "
   ]
  }
 ],
 "metadata": {
  "kernelspec": {
   "display_name": "Python 3",
   "language": "python",
   "name": "python3"
  },
  "language_info": {
   "codemirror_mode": {
    "name": "ipython",
    "version": 3
   },
   "file_extension": ".py",
   "mimetype": "text/x-python",
   "name": "python",
   "nbconvert_exporter": "python",
   "pygments_lexer": "ipython3",
   "version": "3.12.6"
  }
 },
 "nbformat": 4,
 "nbformat_minor": 2
}
