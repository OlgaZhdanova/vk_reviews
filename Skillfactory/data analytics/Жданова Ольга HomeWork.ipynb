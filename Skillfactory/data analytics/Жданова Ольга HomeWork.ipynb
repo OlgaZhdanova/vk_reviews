{
 "cells": [
  {
   "cell_type": "code",
   "execution_count": 1,
   "metadata": {},
   "outputs": [],
   "source": [
    "import pandas as pd\n",
    "import numpy as np\n",
    "import matplotlib.pyplot as plt\n",
    "import seaborn as sns\n",
    "import psycopg2"
   ]
  },
  {
   "cell_type": "markdown",
   "metadata": {},
   "source": [
    "## №1. Загрузите датасет Dirty Café Sales из CSV-файла в датафрейм Pandas."
   ]
  },
  {
   "cell_type": "markdown",
   "metadata": {},
   "source": [
    "Датасет содержит данные о покупках посетителей кафе за некоторый период.\n",
    "\n",
    "Описание полей датасета:\n",
    "\n",
    "Transaction ID — уникальный идентификатор транзакции (покупки);\n",
    "\n",
    "Item — наименование товара;\n",
    "\n",
    "Quantity — количество купленных единиц товара;\n",
    "\n",
    "Price Per Unit — стоимость одной единицы товара;\n",
    "\n",
    "Total Spent — сумма покупки;\n",
    "\n",
    "Payment Method — способ оплаты;\n",
    "\n",
    "Location — место проведения транзакции;\n",
    "\n",
    "Transaction Date — дата покупки."
   ]
  },
  {
   "cell_type": "code",
   "execution_count": 2,
   "metadata": {},
   "outputs": [
    {
     "data": {
      "text/html": [
       "<div>\n",
       "<style scoped>\n",
       "    .dataframe tbody tr th:only-of-type {\n",
       "        vertical-align: middle;\n",
       "    }\n",
       "\n",
       "    .dataframe tbody tr th {\n",
       "        vertical-align: top;\n",
       "    }\n",
       "\n",
       "    .dataframe thead th {\n",
       "        text-align: right;\n",
       "    }\n",
       "</style>\n",
       "<table border=\"1\" class=\"dataframe\">\n",
       "  <thead>\n",
       "    <tr style=\"text-align: right;\">\n",
       "      <th></th>\n",
       "      <th>Transaction ID</th>\n",
       "      <th>Item</th>\n",
       "      <th>Quantity</th>\n",
       "      <th>Price Per Unit</th>\n",
       "      <th>Total Spent</th>\n",
       "      <th>Payment Method</th>\n",
       "      <th>Location</th>\n",
       "      <th>Transaction Date</th>\n",
       "    </tr>\n",
       "  </thead>\n",
       "  <tbody>\n",
       "    <tr>\n",
       "      <th>0</th>\n",
       "      <td>TXN_1000555</td>\n",
       "      <td>Tea</td>\n",
       "      <td>1</td>\n",
       "      <td>1.5</td>\n",
       "      <td>1.5</td>\n",
       "      <td>Credit Card</td>\n",
       "      <td>In-store</td>\n",
       "      <td>2023-10-19</td>\n",
       "    </tr>\n",
       "    <tr>\n",
       "      <th>1</th>\n",
       "      <td>TXN_1001832</td>\n",
       "      <td>Salad</td>\n",
       "      <td>2</td>\n",
       "      <td>5.0</td>\n",
       "      <td>10.0</td>\n",
       "      <td>Cash</td>\n",
       "      <td>Takeaway</td>\n",
       "      <td>2023-05-23</td>\n",
       "    </tr>\n",
       "    <tr>\n",
       "      <th>2</th>\n",
       "      <td>TXN_1002457</td>\n",
       "      <td>Cookie</td>\n",
       "      <td>5</td>\n",
       "      <td>1.0</td>\n",
       "      <td>5.0</td>\n",
       "      <td>Digital Wallet</td>\n",
       "      <td>Takeaway</td>\n",
       "      <td>2023-09-29</td>\n",
       "    </tr>\n",
       "    <tr>\n",
       "      <th>3</th>\n",
       "      <td>TXN_1003246</td>\n",
       "      <td>Juice</td>\n",
       "      <td>2</td>\n",
       "      <td>3.0</td>\n",
       "      <td>6.0</td>\n",
       "      <td>NaN</td>\n",
       "      <td>NaN</td>\n",
       "      <td>2023-02-15</td>\n",
       "    </tr>\n",
       "    <tr>\n",
       "      <th>4</th>\n",
       "      <td>TXN_1004184</td>\n",
       "      <td>Smoothie</td>\n",
       "      <td>1</td>\n",
       "      <td>4.0</td>\n",
       "      <td>4.0</td>\n",
       "      <td>Credit Card</td>\n",
       "      <td>In-store</td>\n",
       "      <td>2023-05-18</td>\n",
       "    </tr>\n",
       "  </tbody>\n",
       "</table>\n",
       "</div>"
      ],
      "text/plain": [
       "  Transaction ID      Item Quantity Price Per Unit Total Spent  \\\n",
       "0    TXN_1000555       Tea        1            1.5         1.5   \n",
       "1    TXN_1001832     Salad        2            5.0        10.0   \n",
       "2    TXN_1002457    Cookie        5            1.0         5.0   \n",
       "3    TXN_1003246     Juice        2            3.0         6.0   \n",
       "4    TXN_1004184  Smoothie        1            4.0         4.0   \n",
       "\n",
       "   Payment Method  Location Transaction Date  \n",
       "0     Credit Card  In-store       2023-10-19  \n",
       "1            Cash  Takeaway       2023-05-23  \n",
       "2  Digital Wallet  Takeaway       2023-09-29  \n",
       "3             NaN       NaN       2023-02-15  \n",
       "4     Credit Card  In-store       2023-05-18  "
      ]
     },
     "execution_count": 2,
     "metadata": {},
     "output_type": "execute_result"
    }
   ],
   "source": [
    "sales = pd.read_csv('data/Dirty_Café_Sales.csv')\n",
    "sales.head()"
   ]
  },
  {
   "cell_type": "code",
   "execution_count": 3,
   "metadata": {},
   "outputs": [
    {
     "name": "stdout",
     "output_type": "stream",
     "text": [
      "<class 'pandas.core.frame.DataFrame'>\n",
      "RangeIndex: 10048 entries, 0 to 10047\n",
      "Data columns (total 8 columns):\n",
      " #   Column            Non-Null Count  Dtype \n",
      "---  ------            --------------  ----- \n",
      " 0   Transaction ID    10048 non-null  object\n",
      " 1   Item              9711 non-null   object\n",
      " 2   Quantity          9910 non-null   object\n",
      " 3   Price Per Unit    9869 non-null   object\n",
      " 4   Total Spent       9875 non-null   object\n",
      " 5   Payment Method    7454 non-null   object\n",
      " 6   Location          6771 non-null   object\n",
      " 7   Transaction Date  10048 non-null  object\n",
      "dtypes: object(8)\n",
      "memory usage: 628.1+ KB\n"
     ]
    }
   ],
   "source": [
    "# посмотрим общую информацию о датасете \n",
    "# уже видим, что есть пропуски во всех столбцах, кроме первого и последнего\n",
    "sales.info()"
   ]
  },
  {
   "cell_type": "markdown",
   "metadata": {},
   "source": [
    "## №2. Есть ли в датасете дубли? Если да, то избавьтесь от них средствами Python."
   ]
  },
  {
   "cell_type": "code",
   "execution_count": 4,
   "metadata": {},
   "outputs": [
    {
     "data": {
      "text/plain": [
       "np.True_"
      ]
     },
     "execution_count": 4,
     "metadata": {},
     "output_type": "execute_result"
    }
   ],
   "source": [
    "# посмотрим есть ли хоть один дубликат\n",
    "sales.duplicated().any()"
   ]
  },
  {
   "cell_type": "code",
   "execution_count": 5,
   "metadata": {},
   "outputs": [
    {
     "data": {
      "text/plain": [
       "False"
      ]
     },
     "execution_count": 5,
     "metadata": {},
     "output_type": "execute_result"
    }
   ],
   "source": [
    "sales['Transaction ID'].nunique() == sales.shape[0]"
   ]
  },
  {
   "cell_type": "markdown",
   "metadata": {},
   "source": [
    "Дубликаты присутствуют."
   ]
  },
  {
   "cell_type": "code",
   "execution_count": 6,
   "metadata": {},
   "outputs": [
    {
     "name": "stdout",
     "output_type": "stream",
     "text": [
      "Число найденных дубликатов: 48\n"
     ]
    }
   ],
   "source": [
    "# сперва найдем число дубликатов\n",
    "mask = sales.duplicated()\n",
    "sales_duplicates = sales[mask]\n",
    "print(f'Число найденных дубликатов: {sales_duplicates.shape[0]}')\n"
   ]
  },
  {
   "cell_type": "code",
   "execution_count": 7,
   "metadata": {},
   "outputs": [
    {
     "name": "stdout",
     "output_type": "stream",
     "text": [
      "Результирующее число записей: 10000\n"
     ]
    }
   ],
   "source": [
    "# потом удалим их из датасета\n",
    "sales = sales.drop_duplicates()\n",
    "print(f'Результирующее число записей: {sales.shape[0]}')"
   ]
  },
  {
   "cell_type": "markdown",
   "metadata": {},
   "source": [
    "## №3. Исследуйте датасет на наличие пропусков и/или некорректных значений. Каков их процент для каждого из столбцов? Каков процент полностью корректных строк?"
   ]
  },
  {
   "cell_type": "code",
   "execution_count": 8,
   "metadata": {},
   "outputs": [
    {
     "data": {
      "text/plain": [
       "Location          32.65\n",
       "Payment Method    25.79\n",
       "Item               3.33\n",
       "Price Per Unit     1.79\n",
       "Total Spent        1.73\n",
       "Quantity           1.38\n",
       "dtype: float64"
      ]
     },
     "execution_count": 8,
     "metadata": {},
     "output_type": "execute_result"
    }
   ],
   "source": [
    "# выведем процент пропусков по каждому из столбцов\n",
    "cols_null_percent = sales.isnull().mean()*100\n",
    "cols_with_null = cols_null_percent[cols_null_percent>0].sort_values(ascending=False)\n",
    "cols_with_null\n",
    "# больше всего информации пропущено в столбцах Location, Payment Method"
   ]
  },
  {
   "cell_type": "code",
   "execution_count": 9,
   "metadata": {},
   "outputs": [
    {
     "data": {
      "text/plain": [
       "Transaction ID      100.00\n",
       "Item                 96.67\n",
       "Quantity             98.62\n",
       "Price Per Unit       98.21\n",
       "Total Spent          98.27\n",
       "Payment Method       74.21\n",
       "Location             67.35\n",
       "Transaction Date    100.00\n",
       "dtype: float64"
      ]
     },
     "execution_count": 9,
     "metadata": {},
     "output_type": "execute_result"
    }
   ],
   "source": [
    "# процент без пропусков\n",
    "for i in sales:\n",
    "    cols_without_null  = 100 - cols_null_percent\n",
    "\n",
    "cols_without_null"
   ]
  },
  {
   "cell_type": "code",
   "execution_count": 10,
   "metadata": {},
   "outputs": [
    {
     "data": {
      "image/png": "[encoded data removed]",
      "text/plain": [
       "<Figure size 1000x400 with 1 Axes>"
      ]
     },
     "metadata": {},
     "output_type": "display_data"
    }
   ],
   "source": [
    "# отобразим соотношение пропусков на графике\n",
    "cols_with_null.plot(\n",
    "    kind='bar', \n",
    "    figsize=(10,4),\n",
    "    title='Распределение пропусков в данных'\n",
    ");"
   ]
  },
  {
   "cell_type": "code",
   "execution_count": 11,
   "metadata": {},
   "outputs": [
    {
     "name": "stdout",
     "output_type": "stream",
     "text": [
      "Transaction ID: 100.0% уникальных значений\n"
     ]
    }
   ],
   "source": [
    "# посмотрим неинформативные признаки (много уникальных или много одинаковых)\n",
    "low_information_cols = [] \n",
    "\n",
    "#цикл по всем столбцам\n",
    "for col in sales.columns:\n",
    "    #наибольшая относительная частота в признаке\n",
    "    top_freq = sales[col].value_counts(normalize=True).max()\n",
    "    #доля уникальных значений от размера признака\n",
    "    nunique_ratio = sales[col].nunique() / sales[col].count()\n",
    "    # сравниваем наибольшую частоту с порогом\n",
    "    if top_freq > 0.95:\n",
    "        low_information_cols.append(col)\n",
    "        print(f'{col}: {round(top_freq*100, 2)}% одинаковых значений')\n",
    "    # сравниваем долю уникальных значений с порогом\n",
    "    if nunique_ratio > 0.95:\n",
    "        low_information_cols.append(col)\n",
    "        print(f'{col}: {round(nunique_ratio*100, 2)}% уникальных значений')"
   ]
  },
  {
   "cell_type": "markdown",
   "metadata": {},
   "source": [
    "## №4. Придумайте способ заполнить пропуски в числовых столбцах Quantity, Price Per Unit, Total Spent. Можно ли восстановить точные значения на основе имеющихся данных? Напишите код, реализующий ваш алгоритм."
   ]
  },
  {
   "cell_type": "code",
   "execution_count": 12,
   "metadata": {},
   "outputs": [
    {
     "name": "stdout",
     "output_type": "stream",
     "text": [
      "<class 'pandas.core.frame.DataFrame'>\n",
      "Index: 10000 entries, 0 to 10047\n",
      "Data columns (total 8 columns):\n",
      " #   Column            Non-Null Count  Dtype \n",
      "---  ------            --------------  ----- \n",
      " 0   Transaction ID    10000 non-null  object\n",
      " 1   Item              9667 non-null   object\n",
      " 2   Quantity          9862 non-null   object\n",
      " 3   Price Per Unit    9821 non-null   object\n",
      " 4   Total Spent       9827 non-null   object\n",
      " 5   Payment Method    7421 non-null   object\n",
      " 6   Location          6735 non-null   object\n",
      " 7   Transaction Date  10000 non-null  object\n",
      "dtypes: object(8)\n",
      "memory usage: 703.1+ KB\n"
     ]
    }
   ],
   "source": [
    "# все значения в таблице - типа object; нужно перевести столбцы Quantity, Price Per Unit, Total Spent в числовые\n",
    "sales.info()"
   ]
  },
  {
   "cell_type": "code",
   "execution_count": 13,
   "metadata": {},
   "outputs": [],
   "source": [
    "# также заменим значения ERROR, UNKNOWN на np.nan для их дальнейшей обработки\n",
    "sales.replace(['ERROR', 'UNKNOWN'], np.nan, inplace=True)"
   ]
  },
  {
   "cell_type": "code",
   "execution_count": 14,
   "metadata": {},
   "outputs": [
    {
     "name": "stdout",
     "output_type": "stream",
     "text": [
      "<class 'pandas.core.frame.DataFrame'>\n",
      "Index: 10000 entries, 0 to 10047\n",
      "Data columns (total 8 columns):\n",
      " #   Column            Non-Null Count  Dtype  \n",
      "---  ------            --------------  -----  \n",
      " 0   Transaction ID    10000 non-null  object \n",
      " 1   Item              9031 non-null   object \n",
      " 2   Quantity          9521 non-null   float32\n",
      " 3   Price Per Unit    9467 non-null   float32\n",
      " 4   Total Spent       9498 non-null   float32\n",
      " 5   Payment Method    6822 non-null   object \n",
      " 6   Location          6039 non-null   object \n",
      " 7   Transaction Date  10000 non-null  object \n",
      "dtypes: float32(3), object(5)\n",
      "memory usage: 585.9+ KB\n"
     ]
    }
   ],
   "source": [
    "sales['Quantity'] = pd.to_numeric(sales['Quantity'], downcast='float')\n",
    "sales['Price Per Unit'] = pd.to_numeric(sales['Price Per Unit'], downcast='float')\n",
    "sales['Total Spent'] = pd.to_numeric(sales['Total Spent'],downcast='float')\n",
    "# теперь три числовых столбца типа float\n",
    "sales.info()"
   ]
  },
  {
   "cell_type": "markdown",
   "metadata": {},
   "source": [
    "Пропущенные числовые значения можно восстановить в точности - если неизвестно количество купленных продуктов, делим итоговую стоимость на цену за единицу товара. Если неизвестна итоговая стоимость, умножаем количество на цену за единицу. И так далее."
   ]
  },
  {
   "cell_type": "code",
   "execution_count": 15,
   "metadata": {},
   "outputs": [
    {
     "data": {
      "text/html": [
       "<div>\n",
       "<style scoped>\n",
       "    .dataframe tbody tr th:only-of-type {\n",
       "        vertical-align: middle;\n",
       "    }\n",
       "\n",
       "    .dataframe tbody tr th {\n",
       "        vertical-align: top;\n",
       "    }\n",
       "\n",
       "    .dataframe thead th {\n",
       "        text-align: right;\n",
       "    }\n",
       "</style>\n",
       "<table border=\"1\" class=\"dataframe\">\n",
       "  <thead>\n",
       "    <tr style=\"text-align: right;\">\n",
       "      <th></th>\n",
       "      <th>Transaction ID</th>\n",
       "      <th>Item</th>\n",
       "      <th>Quantity</th>\n",
       "      <th>Price Per Unit</th>\n",
       "      <th>Total Spent</th>\n",
       "      <th>Payment Method</th>\n",
       "      <th>Location</th>\n",
       "      <th>Transaction Date</th>\n",
       "    </tr>\n",
       "  </thead>\n",
       "  <tbody>\n",
       "    <tr>\n",
       "      <th>1844</th>\n",
       "      <td>TXN_2580487</td>\n",
       "      <td>Cake</td>\n",
       "      <td>1.0</td>\n",
       "      <td>3.0</td>\n",
       "      <td>3.0</td>\n",
       "      <td>NaN</td>\n",
       "      <td>Takeaway</td>\n",
       "      <td>2023-01-13</td>\n",
       "    </tr>\n",
       "    <tr>\n",
       "      <th>3506</th>\n",
       "      <td>TXN_4084548</td>\n",
       "      <td>Salad</td>\n",
       "      <td>2.0</td>\n",
       "      <td>5.0</td>\n",
       "      <td>10.0</td>\n",
       "      <td>Cash</td>\n",
       "      <td>In-store</td>\n",
       "      <td>2023-07-21</td>\n",
       "    </tr>\n",
       "    <tr>\n",
       "      <th>1064</th>\n",
       "      <td>TXN_1946773</td>\n",
       "      <td>Sandwich</td>\n",
       "      <td>4.0</td>\n",
       "      <td>4.0</td>\n",
       "      <td>16.0</td>\n",
       "      <td>Cash</td>\n",
       "      <td>NaN</td>\n",
       "      <td>2023-08-28</td>\n",
       "    </tr>\n",
       "    <tr>\n",
       "      <th>5714</th>\n",
       "      <td>TXN_6070523</td>\n",
       "      <td>NaN</td>\n",
       "      <td>4.0</td>\n",
       "      <td>2.0</td>\n",
       "      <td>8.0</td>\n",
       "      <td>Cash</td>\n",
       "      <td>NaN</td>\n",
       "      <td>2023-04-11</td>\n",
       "    </tr>\n",
       "    <tr>\n",
       "      <th>6931</th>\n",
       "      <td>TXN_7171303</td>\n",
       "      <td>Sandwich</td>\n",
       "      <td>1.0</td>\n",
       "      <td>4.0</td>\n",
       "      <td>4.0</td>\n",
       "      <td>NaN</td>\n",
       "      <td>NaN</td>\n",
       "      <td>2023-04-30</td>\n",
       "    </tr>\n",
       "    <tr>\n",
       "      <th>4868</th>\n",
       "      <td>TXN_5326795</td>\n",
       "      <td>Cookie</td>\n",
       "      <td>2.0</td>\n",
       "      <td>1.0</td>\n",
       "      <td>2.0</td>\n",
       "      <td>NaN</td>\n",
       "      <td>NaN</td>\n",
       "      <td>2023-04-05</td>\n",
       "    </tr>\n",
       "    <tr>\n",
       "      <th>8947</th>\n",
       "      <td>TXN_8991609</td>\n",
       "      <td>Salad</td>\n",
       "      <td>4.0</td>\n",
       "      <td>5.0</td>\n",
       "      <td>20.0</td>\n",
       "      <td>Digital Wallet</td>\n",
       "      <td>In-store</td>\n",
       "      <td>2023-06-19</td>\n",
       "    </tr>\n",
       "    <tr>\n",
       "      <th>1944</th>\n",
       "      <td>TXN_2670824</td>\n",
       "      <td>Juice</td>\n",
       "      <td>2.0</td>\n",
       "      <td>3.0</td>\n",
       "      <td>6.0</td>\n",
       "      <td>Digital Wallet</td>\n",
       "      <td>Takeaway</td>\n",
       "      <td>2023-03-03</td>\n",
       "    </tr>\n",
       "    <tr>\n",
       "      <th>7762</th>\n",
       "      <td>TXN_7916758</td>\n",
       "      <td>Smoothie</td>\n",
       "      <td>1.0</td>\n",
       "      <td>4.0</td>\n",
       "      <td>4.0</td>\n",
       "      <td>NaN</td>\n",
       "      <td>Takeaway</td>\n",
       "      <td>2023-10-14</td>\n",
       "    </tr>\n",
       "    <tr>\n",
       "      <th>5522</th>\n",
       "      <td>TXN_5908362</td>\n",
       "      <td>Sandwich</td>\n",
       "      <td>5.0</td>\n",
       "      <td>4.0</td>\n",
       "      <td>20.0</td>\n",
       "      <td>Digital Wallet</td>\n",
       "      <td>NaN</td>\n",
       "      <td>2023-10-03</td>\n",
       "    </tr>\n",
       "  </tbody>\n",
       "</table>\n",
       "</div>"
      ],
      "text/plain": [
       "     Transaction ID      Item  Quantity  Price Per Unit  Total Spent  \\\n",
       "1844    TXN_2580487      Cake       1.0             3.0          3.0   \n",
       "3506    TXN_4084548     Salad       2.0             5.0         10.0   \n",
       "1064    TXN_1946773  Sandwich       4.0             4.0         16.0   \n",
       "5714    TXN_6070523       NaN       4.0             2.0          8.0   \n",
       "6931    TXN_7171303  Sandwich       1.0             4.0          4.0   \n",
       "4868    TXN_5326795    Cookie       2.0             1.0          2.0   \n",
       "8947    TXN_8991609     Salad       4.0             5.0         20.0   \n",
       "1944    TXN_2670824     Juice       2.0             3.0          6.0   \n",
       "7762    TXN_7916758  Smoothie       1.0             4.0          4.0   \n",
       "5522    TXN_5908362  Sandwich       5.0             4.0         20.0   \n",
       "\n",
       "      Payment Method  Location Transaction Date  \n",
       "1844             NaN  Takeaway       2023-01-13  \n",
       "3506            Cash  In-store       2023-07-21  \n",
       "1064            Cash       NaN       2023-08-28  \n",
       "5714            Cash       NaN       2023-04-11  \n",
       "6931             NaN       NaN       2023-04-30  \n",
       "4868             NaN       NaN       2023-04-05  \n",
       "8947  Digital Wallet  In-store       2023-06-19  \n",
       "1944  Digital Wallet  Takeaway       2023-03-03  \n",
       "7762             NaN  Takeaway       2023-10-14  \n",
       "5522  Digital Wallet       NaN       2023-10-03  "
      ]
     },
     "execution_count": 15,
     "metadata": {},
     "output_type": "execute_result"
    }
   ],
   "source": [
    "# напишем функцию для заполнения пропусков на основании данных из соседних столбцов\n",
    "def fill_missing_values(row):\n",
    "    # если пропущено количество продуктов\n",
    "    if pd.isna(row['Quantity']) and not pd.isna(row['Total Spent']) and not pd.isna(row['Price Per Unit']):\n",
    "        row['Quantity'] = row['Total Spent'] / row['Price Per Unit']\n",
    "    \n",
    "    # если пропущена стоимость за единицу продукта\n",
    "    elif pd.isna(row['Price Per Unit']) and not pd.isna(row['Total Spent']) and not pd.isna(row['Quantity']):\n",
    "        row['Price Per Unit'] = row['Total Spent'] / row['Quantity']\n",
    "\n",
    "    \n",
    "    # если пропущена стоимость итоговая\n",
    "    elif pd.isna(row['Total Spent']) and not pd.isna(row['Quantity']) and not pd.isna(row['Price Per Unit']):\n",
    "        row['Total Spent'] = row['Quantity'] * row['Price Per Unit']\n",
    "    \n",
    "    return row\n",
    "\n",
    "# применяем функцию ко всем строкам DataFrame\n",
    "sales = sales.apply(fill_missing_values, axis=1)\n",
    "sales.sample(10)\n"
   ]
  },
  {
   "cell_type": "code",
   "execution_count": 16,
   "metadata": {},
   "outputs": [
    {
     "data": {
      "text/plain": [
       "Location          39.61\n",
       "Payment Method    31.78\n",
       "Item               9.69\n",
       "Total Spent        0.40\n",
       "Quantity           0.38\n",
       "Price Per Unit     0.38\n",
       "dtype: float64"
      ]
     },
     "execution_count": 16,
     "metadata": {},
     "output_type": "execute_result"
    }
   ],
   "source": [
    "# посмотрим кол-во пропусков\n",
    "cols_null_percent = sales.isnull().mean()*100\n",
    "cols_with_null = cols_null_percent[cols_null_percent>0].sort_values(ascending=False)\n",
    "cols_with_null\n",
    "# видим, что кол-во пропусков по трем нижних столбцам (которые мы обрабатывали) снизилось примерно в 4 раза"
   ]
  },
  {
   "cell_type": "markdown",
   "metadata": {},
   "source": [
    "Пропуски по трем столбцам остались в небольшом количестве в тех строках, где из трех значений нет двух и достоверно их заполнить не представляется возможным. Заполнять же средним/медианным значением не имеет смысла, так как может дать ложные результаты при анализе. Поэтому возможно есть вариант удалить строки, где два пропуска и больше. С другой стороны, если эти данные для нас очень важны, можно уделить еще время и составить словарь {Продукт: Цена за продукт} и в соответствии с этим расставлять вместо пропусков на месте Price Per Unit цену из этого словаря. "
   ]
  },
  {
   "cell_type": "code",
   "execution_count": 17,
   "metadata": {},
   "outputs": [
    {
     "data": {
      "text/html": [
       "<div>\n",
       "<style scoped>\n",
       "    .dataframe tbody tr th:only-of-type {\n",
       "        vertical-align: middle;\n",
       "    }\n",
       "\n",
       "    .dataframe tbody tr th {\n",
       "        vertical-align: top;\n",
       "    }\n",
       "\n",
       "    .dataframe thead th {\n",
       "        text-align: right;\n",
       "    }\n",
       "</style>\n",
       "<table border=\"1\" class=\"dataframe\">\n",
       "  <thead>\n",
       "    <tr style=\"text-align: right;\">\n",
       "      <th></th>\n",
       "      <th>Transaction ID</th>\n",
       "      <th>Item</th>\n",
       "      <th>Quantity</th>\n",
       "      <th>Price Per Unit</th>\n",
       "      <th>Total Spent</th>\n",
       "      <th>Payment Method</th>\n",
       "      <th>Location</th>\n",
       "      <th>Transaction Date</th>\n",
       "    </tr>\n",
       "  </thead>\n",
       "  <tbody>\n",
       "    <tr>\n",
       "      <th>294</th>\n",
       "      <td>TXN_1259340</td>\n",
       "      <td>Tea</td>\n",
       "      <td>3.0</td>\n",
       "      <td>NaN</td>\n",
       "      <td>NaN</td>\n",
       "      <td>Digital Wallet</td>\n",
       "      <td>NaN</td>\n",
       "      <td>2023-02-24</td>\n",
       "    </tr>\n",
       "    <tr>\n",
       "      <th>584</th>\n",
       "      <td>TXN_1525583</td>\n",
       "      <td>Sandwich</td>\n",
       "      <td>3.0</td>\n",
       "      <td>NaN</td>\n",
       "      <td>NaN</td>\n",
       "      <td>Cash</td>\n",
       "      <td>Takeaway</td>\n",
       "      <td>2023-05-20</td>\n",
       "    </tr>\n",
       "    <tr>\n",
       "      <th>604</th>\n",
       "      <td>TXN_1547245</td>\n",
       "      <td>Sandwich</td>\n",
       "      <td>NaN</td>\n",
       "      <td>4.0</td>\n",
       "      <td>NaN</td>\n",
       "      <td>NaN</td>\n",
       "      <td>Takeaway</td>\n",
       "      <td>2023-09-11</td>\n",
       "    </tr>\n",
       "    <tr>\n",
       "      <th>1098</th>\n",
       "      <td>TXN_1975184</td>\n",
       "      <td>Coffee</td>\n",
       "      <td>NaN</td>\n",
       "      <td>2.0</td>\n",
       "      <td>NaN</td>\n",
       "      <td>Digital Wallet</td>\n",
       "      <td>NaN</td>\n",
       "      <td>2023-01-15</td>\n",
       "    </tr>\n",
       "    <tr>\n",
       "      <th>1168</th>\n",
       "      <td>TXN_2023651</td>\n",
       "      <td>Sandwich</td>\n",
       "      <td>NaN</td>\n",
       "      <td>4.0</td>\n",
       "      <td>NaN</td>\n",
       "      <td>Cash</td>\n",
       "      <td>In-store</td>\n",
       "      <td>2023-05-25</td>\n",
       "    </tr>\n",
       "    <tr>\n",
       "      <th>1456</th>\n",
       "      <td>TXN_2253622</td>\n",
       "      <td>Sandwich</td>\n",
       "      <td>5.0</td>\n",
       "      <td>NaN</td>\n",
       "      <td>NaN</td>\n",
       "      <td>Digital Wallet</td>\n",
       "      <td>Takeaway</td>\n",
       "      <td>2023-09-30</td>\n",
       "    </tr>\n",
       "    <tr>\n",
       "      <th>1658</th>\n",
       "      <td>TXN_2428781</td>\n",
       "      <td>Salad</td>\n",
       "      <td>NaN</td>\n",
       "      <td>5.0</td>\n",
       "      <td>NaN</td>\n",
       "      <td>NaN</td>\n",
       "      <td>In-store</td>\n",
       "      <td>2023-05-09</td>\n",
       "    </tr>\n",
       "    <tr>\n",
       "      <th>1801</th>\n",
       "      <td>TXN_2546684</td>\n",
       "      <td>Juice</td>\n",
       "      <td>NaN</td>\n",
       "      <td>3.0</td>\n",
       "      <td>NaN</td>\n",
       "      <td>Digital Wallet</td>\n",
       "      <td>Takeaway</td>\n",
       "      <td>2023-04-08</td>\n",
       "    </tr>\n",
       "    <tr>\n",
       "      <th>2126</th>\n",
       "      <td>TXN_2857444</td>\n",
       "      <td>Smoothie</td>\n",
       "      <td>1.0</td>\n",
       "      <td>NaN</td>\n",
       "      <td>NaN</td>\n",
       "      <td>Cash</td>\n",
       "      <td>Takeaway</td>\n",
       "      <td>2023-05-10</td>\n",
       "    </tr>\n",
       "    <tr>\n",
       "      <th>2264</th>\n",
       "      <td>TXN_2962976</td>\n",
       "      <td>Juice</td>\n",
       "      <td>NaN</td>\n",
       "      <td>3.0</td>\n",
       "      <td>NaN</td>\n",
       "      <td>NaN</td>\n",
       "      <td>NaN</td>\n",
       "      <td>2023-03-17</td>\n",
       "    </tr>\n",
       "    <tr>\n",
       "      <th>2544</th>\n",
       "      <td>TXN_3229409</td>\n",
       "      <td>Juice</td>\n",
       "      <td>NaN</td>\n",
       "      <td>3.0</td>\n",
       "      <td>NaN</td>\n",
       "      <td>Cash</td>\n",
       "      <td>Takeaway</td>\n",
       "      <td>2023-04-15</td>\n",
       "    </tr>\n",
       "    <tr>\n",
       "      <th>2564</th>\n",
       "      <td>TXN_3251829</td>\n",
       "      <td>Tea</td>\n",
       "      <td>NaN</td>\n",
       "      <td>1.5</td>\n",
       "      <td>NaN</td>\n",
       "      <td>Digital Wallet</td>\n",
       "      <td>In-store</td>\n",
       "      <td>2023-07-25</td>\n",
       "    </tr>\n",
       "    <tr>\n",
       "      <th>2920</th>\n",
       "      <td>TXN_3577949</td>\n",
       "      <td>Cake</td>\n",
       "      <td>3.0</td>\n",
       "      <td>NaN</td>\n",
       "      <td>NaN</td>\n",
       "      <td>NaN</td>\n",
       "      <td>Takeaway</td>\n",
       "      <td>2023-04-25</td>\n",
       "    </tr>\n",
       "    <tr>\n",
       "      <th>2958</th>\n",
       "      <td>TXN_3611851</td>\n",
       "      <td>NaN</td>\n",
       "      <td>4.0</td>\n",
       "      <td>NaN</td>\n",
       "      <td>NaN</td>\n",
       "      <td>Credit Card</td>\n",
       "      <td>NaN</td>\n",
       "      <td>2023-02-09</td>\n",
       "    </tr>\n",
       "    <tr>\n",
       "      <th>3075</th>\n",
       "      <td>TXN_3705445</td>\n",
       "      <td>Cookie</td>\n",
       "      <td>5.0</td>\n",
       "      <td>NaN</td>\n",
       "      <td>NaN</td>\n",
       "      <td>Cash</td>\n",
       "      <td>In-store</td>\n",
       "      <td>2023-09-13</td>\n",
       "    </tr>\n",
       "    <tr>\n",
       "      <th>3191</th>\n",
       "      <td>TXN_3809533</td>\n",
       "      <td>Juice</td>\n",
       "      <td>2.0</td>\n",
       "      <td>NaN</td>\n",
       "      <td>NaN</td>\n",
       "      <td>Digital Wallet</td>\n",
       "      <td>Takeaway</td>\n",
       "      <td>2023-02-02</td>\n",
       "    </tr>\n",
       "    <tr>\n",
       "      <th>4031</th>\n",
       "      <td>TXN_4550558</td>\n",
       "      <td>Cookie</td>\n",
       "      <td>NaN</td>\n",
       "      <td>1.0</td>\n",
       "      <td>NaN</td>\n",
       "      <td>Credit Card</td>\n",
       "      <td>In-store</td>\n",
       "      <td>2023-08-04</td>\n",
       "    </tr>\n",
       "    <tr>\n",
       "      <th>4052</th>\n",
       "      <td>TXN_4565754</td>\n",
       "      <td>Smoothie</td>\n",
       "      <td>NaN</td>\n",
       "      <td>4.0</td>\n",
       "      <td>NaN</td>\n",
       "      <td>Digital Wallet</td>\n",
       "      <td>Takeaway</td>\n",
       "      <td>2023-10-06</td>\n",
       "    </tr>\n",
       "    <tr>\n",
       "      <th>4130</th>\n",
       "      <td>TXN_4628338</td>\n",
       "      <td>Coffee</td>\n",
       "      <td>NaN</td>\n",
       "      <td>2.0</td>\n",
       "      <td>NaN</td>\n",
       "      <td>Cash</td>\n",
       "      <td>NaN</td>\n",
       "      <td>2023-12-25</td>\n",
       "    </tr>\n",
       "    <tr>\n",
       "      <th>4513</th>\n",
       "      <td>TXN_4987129</td>\n",
       "      <td>Sandwich</td>\n",
       "      <td>3.0</td>\n",
       "      <td>NaN</td>\n",
       "      <td>NaN</td>\n",
       "      <td>NaN</td>\n",
       "      <td>In-store</td>\n",
       "      <td>2023-10-20</td>\n",
       "    </tr>\n",
       "    <tr>\n",
       "      <th>4655</th>\n",
       "      <td>TXN_5118799</td>\n",
       "      <td>Cookie</td>\n",
       "      <td>2.0</td>\n",
       "      <td>NaN</td>\n",
       "      <td>NaN</td>\n",
       "      <td>Cash</td>\n",
       "      <td>Takeaway</td>\n",
       "      <td>2023-04-23</td>\n",
       "    </tr>\n",
       "    <tr>\n",
       "      <th>5471</th>\n",
       "      <td>TXN_5884081</td>\n",
       "      <td>Cookie</td>\n",
       "      <td>NaN</td>\n",
       "      <td>1.0</td>\n",
       "      <td>NaN</td>\n",
       "      <td>Digital Wallet</td>\n",
       "      <td>In-store</td>\n",
       "      <td>2023-07-05</td>\n",
       "    </tr>\n",
       "    <tr>\n",
       "      <th>5749</th>\n",
       "      <td>TXN_6105807</td>\n",
       "      <td>Smoothie</td>\n",
       "      <td>3.0</td>\n",
       "      <td>NaN</td>\n",
       "      <td>NaN</td>\n",
       "      <td>Credit Card</td>\n",
       "      <td>Takeaway</td>\n",
       "      <td>2023-01-18</td>\n",
       "    </tr>\n",
       "    <tr>\n",
       "      <th>5960</th>\n",
       "      <td>TXN_6297232</td>\n",
       "      <td>Coffee</td>\n",
       "      <td>NaN</td>\n",
       "      <td>2.0</td>\n",
       "      <td>NaN</td>\n",
       "      <td>NaN</td>\n",
       "      <td>NaN</td>\n",
       "      <td>2023-04-07</td>\n",
       "    </tr>\n",
       "    <tr>\n",
       "      <th>6124</th>\n",
       "      <td>TXN_6424202</td>\n",
       "      <td>Cookie</td>\n",
       "      <td>2.0</td>\n",
       "      <td>NaN</td>\n",
       "      <td>NaN</td>\n",
       "      <td>Credit Card</td>\n",
       "      <td>In-store</td>\n",
       "      <td>2023-11-20</td>\n",
       "    </tr>\n",
       "    <tr>\n",
       "      <th>6171</th>\n",
       "      <td>TXN_6470865</td>\n",
       "      <td>Coffee</td>\n",
       "      <td>NaN</td>\n",
       "      <td>2.0</td>\n",
       "      <td>NaN</td>\n",
       "      <td>Digital Wallet</td>\n",
       "      <td>Takeaway</td>\n",
       "      <td>2023-09-18</td>\n",
       "    </tr>\n",
       "    <tr>\n",
       "      <th>6212</th>\n",
       "      <td>TXN_6500126</td>\n",
       "      <td>Smoothie</td>\n",
       "      <td>2.0</td>\n",
       "      <td>NaN</td>\n",
       "      <td>NaN</td>\n",
       "      <td>NaN</td>\n",
       "      <td>NaN</td>\n",
       "      <td>2023-12-30</td>\n",
       "    </tr>\n",
       "    <tr>\n",
       "      <th>6683</th>\n",
       "      <td>TXN_6905143</td>\n",
       "      <td>Coffee</td>\n",
       "      <td>5.0</td>\n",
       "      <td>NaN</td>\n",
       "      <td>NaN</td>\n",
       "      <td>Cash</td>\n",
       "      <td>NaN</td>\n",
       "      <td>2023-08-09</td>\n",
       "    </tr>\n",
       "    <tr>\n",
       "      <th>7085</th>\n",
       "      <td>TXN_7322317</td>\n",
       "      <td>Tea</td>\n",
       "      <td>1.0</td>\n",
       "      <td>NaN</td>\n",
       "      <td>NaN</td>\n",
       "      <td>NaN</td>\n",
       "      <td>NaN</td>\n",
       "      <td>2023-03-16</td>\n",
       "    </tr>\n",
       "    <tr>\n",
       "      <th>7327</th>\n",
       "      <td>TXN_7524977</td>\n",
       "      <td>NaN</td>\n",
       "      <td>4.0</td>\n",
       "      <td>NaN</td>\n",
       "      <td>NaN</td>\n",
       "      <td>NaN</td>\n",
       "      <td>NaN</td>\n",
       "      <td>2023-12-09</td>\n",
       "    </tr>\n",
       "    <tr>\n",
       "      <th>8408</th>\n",
       "      <td>TXN_8498613</td>\n",
       "      <td>Sandwich</td>\n",
       "      <td>2.0</td>\n",
       "      <td>NaN</td>\n",
       "      <td>NaN</td>\n",
       "      <td>NaN</td>\n",
       "      <td>NaN</td>\n",
       "      <td>2023-11-08</td>\n",
       "    </tr>\n",
       "    <tr>\n",
       "      <th>8475</th>\n",
       "      <td>TXN_8562645</td>\n",
       "      <td>Salad</td>\n",
       "      <td>NaN</td>\n",
       "      <td>5.0</td>\n",
       "      <td>NaN</td>\n",
       "      <td>NaN</td>\n",
       "      <td>In-store</td>\n",
       "      <td>2023-05-18</td>\n",
       "    </tr>\n",
       "    <tr>\n",
       "      <th>8607</th>\n",
       "      <td>TXN_8696094</td>\n",
       "      <td>Sandwich</td>\n",
       "      <td>NaN</td>\n",
       "      <td>4.0</td>\n",
       "      <td>NaN</td>\n",
       "      <td>NaN</td>\n",
       "      <td>Takeaway</td>\n",
       "      <td>2023-05-14</td>\n",
       "    </tr>\n",
       "    <tr>\n",
       "      <th>8808</th>\n",
       "      <td>TXN_8872984</td>\n",
       "      <td>Salad</td>\n",
       "      <td>5.0</td>\n",
       "      <td>NaN</td>\n",
       "      <td>NaN</td>\n",
       "      <td>Credit Card</td>\n",
       "      <td>In-store</td>\n",
       "      <td>2023-08-23</td>\n",
       "    </tr>\n",
       "    <tr>\n",
       "      <th>9150</th>\n",
       "      <td>TXN_9188692</td>\n",
       "      <td>Cake</td>\n",
       "      <td>NaN</td>\n",
       "      <td>3.0</td>\n",
       "      <td>NaN</td>\n",
       "      <td>Credit Card</td>\n",
       "      <td>NaN</td>\n",
       "      <td>2023-12-01</td>\n",
       "    </tr>\n",
       "    <tr>\n",
       "      <th>9359</th>\n",
       "      <td>TXN_9367492</td>\n",
       "      <td>Tea</td>\n",
       "      <td>2.0</td>\n",
       "      <td>NaN</td>\n",
       "      <td>NaN</td>\n",
       "      <td>Cash</td>\n",
       "      <td>In-store</td>\n",
       "      <td>2023-06-19</td>\n",
       "    </tr>\n",
       "    <tr>\n",
       "      <th>9649</th>\n",
       "      <td>TXN_9646000</td>\n",
       "      <td>NaN</td>\n",
       "      <td>2.0</td>\n",
       "      <td>NaN</td>\n",
       "      <td>NaN</td>\n",
       "      <td>NaN</td>\n",
       "      <td>In-store</td>\n",
       "      <td>2023-12-14</td>\n",
       "    </tr>\n",
       "    <tr>\n",
       "      <th>9684</th>\n",
       "      <td>TXN_9669616</td>\n",
       "      <td>Coffee</td>\n",
       "      <td>NaN</td>\n",
       "      <td>2.0</td>\n",
       "      <td>NaN</td>\n",
       "      <td>NaN</td>\n",
       "      <td>NaN</td>\n",
       "      <td>2023-06-03</td>\n",
       "    </tr>\n",
       "    <tr>\n",
       "      <th>9964</th>\n",
       "      <td>TXN_9924732</td>\n",
       "      <td>Sandwich</td>\n",
       "      <td>NaN</td>\n",
       "      <td>4.0</td>\n",
       "      <td>NaN</td>\n",
       "      <td>Credit Card</td>\n",
       "      <td>In-store</td>\n",
       "      <td>2023-01-18</td>\n",
       "    </tr>\n",
       "    <tr>\n",
       "      <th>9988</th>\n",
       "      <td>TXN_9944500</td>\n",
       "      <td>Smoothie</td>\n",
       "      <td>NaN</td>\n",
       "      <td>4.0</td>\n",
       "      <td>NaN</td>\n",
       "      <td>Cash</td>\n",
       "      <td>In-store</td>\n",
       "      <td>2023-01-03</td>\n",
       "    </tr>\n",
       "  </tbody>\n",
       "</table>\n",
       "</div>"
      ],
      "text/plain": [
       "     Transaction ID      Item  Quantity  Price Per Unit  Total Spent  \\\n",
       "294     TXN_1259340       Tea       3.0             NaN          NaN   \n",
       "584     TXN_1525583  Sandwich       3.0             NaN          NaN   \n",
       "604     TXN_1547245  Sandwich       NaN             4.0          NaN   \n",
       "1098    TXN_1975184    Coffee       NaN             2.0          NaN   \n",
       "1168    TXN_2023651  Sandwich       NaN             4.0          NaN   \n",
       "1456    TXN_2253622  Sandwich       5.0             NaN          NaN   \n",
       "1658    TXN_2428781     Salad       NaN             5.0          NaN   \n",
       "1801    TXN_2546684     Juice       NaN             3.0          NaN   \n",
       "2126    TXN_2857444  Smoothie       1.0             NaN          NaN   \n",
       "2264    TXN_2962976     Juice       NaN             3.0          NaN   \n",
       "2544    TXN_3229409     Juice       NaN             3.0          NaN   \n",
       "2564    TXN_3251829       Tea       NaN             1.5          NaN   \n",
       "2920    TXN_3577949      Cake       3.0             NaN          NaN   \n",
       "2958    TXN_3611851       NaN       4.0             NaN          NaN   \n",
       "3075    TXN_3705445    Cookie       5.0             NaN          NaN   \n",
       "3191    TXN_3809533     Juice       2.0             NaN          NaN   \n",
       "4031    TXN_4550558    Cookie       NaN             1.0          NaN   \n",
       "4052    TXN_4565754  Smoothie       NaN             4.0          NaN   \n",
       "4130    TXN_4628338    Coffee       NaN             2.0          NaN   \n",
       "4513    TXN_4987129  Sandwich       3.0             NaN          NaN   \n",
       "4655    TXN_5118799    Cookie       2.0             NaN          NaN   \n",
       "5471    TXN_5884081    Cookie       NaN             1.0          NaN   \n",
       "5749    TXN_6105807  Smoothie       3.0             NaN          NaN   \n",
       "5960    TXN_6297232    Coffee       NaN             2.0          NaN   \n",
       "6124    TXN_6424202    Cookie       2.0             NaN          NaN   \n",
       "6171    TXN_6470865    Coffee       NaN             2.0          NaN   \n",
       "6212    TXN_6500126  Smoothie       2.0             NaN          NaN   \n",
       "6683    TXN_6905143    Coffee       5.0             NaN          NaN   \n",
       "7085    TXN_7322317       Tea       1.0             NaN          NaN   \n",
       "7327    TXN_7524977       NaN       4.0             NaN          NaN   \n",
       "8408    TXN_8498613  Sandwich       2.0             NaN          NaN   \n",
       "8475    TXN_8562645     Salad       NaN             5.0          NaN   \n",
       "8607    TXN_8696094  Sandwich       NaN             4.0          NaN   \n",
       "8808    TXN_8872984     Salad       5.0             NaN          NaN   \n",
       "9150    TXN_9188692      Cake       NaN             3.0          NaN   \n",
       "9359    TXN_9367492       Tea       2.0             NaN          NaN   \n",
       "9649    TXN_9646000       NaN       2.0             NaN          NaN   \n",
       "9684    TXN_9669616    Coffee       NaN             2.0          NaN   \n",
       "9964    TXN_9924732  Sandwich       NaN             4.0          NaN   \n",
       "9988    TXN_9944500  Smoothie       NaN             4.0          NaN   \n",
       "\n",
       "      Payment Method  Location Transaction Date  \n",
       "294   Digital Wallet       NaN       2023-02-24  \n",
       "584             Cash  Takeaway       2023-05-20  \n",
       "604              NaN  Takeaway       2023-09-11  \n",
       "1098  Digital Wallet       NaN       2023-01-15  \n",
       "1168            Cash  In-store       2023-05-25  \n",
       "1456  Digital Wallet  Takeaway       2023-09-30  \n",
       "1658             NaN  In-store       2023-05-09  \n",
       "1801  Digital Wallet  Takeaway       2023-04-08  \n",
       "2126            Cash  Takeaway       2023-05-10  \n",
       "2264             NaN       NaN       2023-03-17  \n",
       "2544            Cash  Takeaway       2023-04-15  \n",
       "2564  Digital Wallet  In-store       2023-07-25  \n",
       "2920             NaN  Takeaway       2023-04-25  \n",
       "2958     Credit Card       NaN       2023-02-09  \n",
       "3075            Cash  In-store       2023-09-13  \n",
       "3191  Digital Wallet  Takeaway       2023-02-02  \n",
       "4031     Credit Card  In-store       2023-08-04  \n",
       "4052  Digital Wallet  Takeaway       2023-10-06  \n",
       "4130            Cash       NaN       2023-12-25  \n",
       "4513             NaN  In-store       2023-10-20  \n",
       "4655            Cash  Takeaway       2023-04-23  \n",
       "5471  Digital Wallet  In-store       2023-07-05  \n",
       "5749     Credit Card  Takeaway       2023-01-18  \n",
       "5960             NaN       NaN       2023-04-07  \n",
       "6124     Credit Card  In-store       2023-11-20  \n",
       "6171  Digital Wallet  Takeaway       2023-09-18  \n",
       "6212             NaN       NaN       2023-12-30  \n",
       "6683            Cash       NaN       2023-08-09  \n",
       "7085             NaN       NaN       2023-03-16  \n",
       "7327             NaN       NaN       2023-12-09  \n",
       "8408             NaN       NaN       2023-11-08  \n",
       "8475             NaN  In-store       2023-05-18  \n",
       "8607             NaN  Takeaway       2023-05-14  \n",
       "8808     Credit Card  In-store       2023-08-23  \n",
       "9150     Credit Card       NaN       2023-12-01  \n",
       "9359            Cash  In-store       2023-06-19  \n",
       "9649             NaN  In-store       2023-12-14  \n",
       "9684             NaN       NaN       2023-06-03  \n",
       "9964     Credit Card  In-store       2023-01-18  \n",
       "9988            Cash  In-store       2023-01-03  "
      ]
     },
     "execution_count": 17,
     "metadata": {},
     "output_type": "execute_result"
    }
   ],
   "source": [
    "sales[sales['Total Spent'].isnull()]"
   ]
  },
  {
   "cell_type": "markdown",
   "metadata": {},
   "source": [
    "## №5. Исследуйте полноту категориальных столбцов Payment Method, Location. Можно ли извлечь из них полезную информацию обо всей выборке? Какие есть варианты исправления заполненности этих столбцов? Какие риски и преимущества несет каждый из них?"
   ]
  },
  {
   "cell_type": "code",
   "execution_count": 18,
   "metadata": {},
   "outputs": [
    {
     "data": {
      "text/plain": [
       "Payment Method    31.78\n",
       "Location          39.61\n",
       "dtype: float64"
      ]
     },
     "execution_count": 18,
     "metadata": {},
     "output_type": "execute_result"
    }
   ],
   "source": [
    "# повторно выведем процент пропусков по этим столбцам\n",
    "sales[['Payment Method', 'Location']].isnull().mean()*100"
   ]
  },
  {
   "cell_type": "code",
   "execution_count": 19,
   "metadata": {},
   "outputs": [
    {
     "data": {
      "text/plain": [
       "array(['Credit Card', 'Cash', 'Digital Wallet', nan], dtype=object)"
      ]
     },
     "execution_count": 19,
     "metadata": {},
     "output_type": "execute_result"
    }
   ],
   "source": [
    "# проверим уникальные значения\n",
    "sales['Payment Method'].unique()"
   ]
  },
  {
   "cell_type": "code",
   "execution_count": 20,
   "metadata": {},
   "outputs": [
    {
     "data": {
      "text/plain": [
       "array(['In-store', 'Takeaway', nan], dtype=object)"
      ]
     },
     "execution_count": 20,
     "metadata": {},
     "output_type": "execute_result"
    }
   ],
   "source": [
    "sales['Location'].unique()"
   ]
  },
  {
   "cell_type": "code",
   "execution_count": 21,
   "metadata": {},
   "outputs": [
    {
     "data": {
      "text/plain": [
       "Payment Method\n",
       "Digital Wallet    2291\n",
       "Credit Card       2273\n",
       "Cash              2258\n",
       "Name: count, dtype: int64"
      ]
     },
     "execution_count": 21,
     "metadata": {},
     "output_type": "execute_result"
    }
   ],
   "source": [
    "# исследуем частоту категорий \n",
    "sales['Payment Method'].value_counts()"
   ]
  },
  {
   "cell_type": "code",
   "execution_count": 22,
   "metadata": {},
   "outputs": [
    {
     "data": {
      "text/plain": [
       "Location\n",
       "Takeaway    3022\n",
       "In-store    3017\n",
       "Name: count, dtype: int64"
      ]
     },
     "execution_count": 22,
     "metadata": {},
     "output_type": "execute_result"
    }
   ],
   "source": [
    "sales['Location'].value_counts()"
   ]
  },
  {
   "cell_type": "markdown",
   "metadata": {},
   "source": [
    "Значения в столбцах Payment Method и Location являются категориальными и говорят нам о способе оплаты (Digital Wallet, Cash, Credit Card) и о месте(In-store, Takeaway), соответственно. \n",
    "\n",
    "Мы видим из общей статистики по пропускам, что в этих столбцах наибольшее количество пропусков - в столбце Location 39.61 %, а в Payment Method - 31.78 %, что довольно много.\n",
    "\n",
    "Варианты исправить ситуацию: 1.Заполнить пропуски модальными значениями. Но в нашей ситуации распределение значений практически одинаково, и мы не можем поставить во всех пропусках по столбцу Location, например, значение Takeaway только потому, что оно встречаемся на 5 строк чаще. Поэтому более резонно здесь будет поделить распределение значений поровну в пропусках. Как в столбце Payment Method, так и в Location. Этот вариант, разумеется не является точным заполнением и есть риски, что это негативным образом повлияет на интерпретацию результатов. Однако это лучше, чем удалить два этих столбца (это второй вариант работы с пропусками), так как они являются достаточно ценными для анализа."
   ]
  },
  {
   "cell_type": "code",
   "execution_count": 23,
   "metadata": {},
   "outputs": [
    {
     "data": {
      "text/plain": [
       "Transaction ID      0.00\n",
       "Item                9.69\n",
       "Quantity            0.38\n",
       "Price Per Unit      0.38\n",
       "Total Spent         0.40\n",
       "Payment Method      0.00\n",
       "Location            0.00\n",
       "Transaction Date    0.00\n",
       "dtype: float64"
      ]
     },
     "execution_count": 23,
     "metadata": {},
     "output_type": "execute_result"
    }
   ],
   "source": [
    "# реализуем подход\n",
    "# создадим функцию, которая будем принимать датасет, столбец и категории в нем\n",
    "def fill_categories_equally(df, column, categories):\n",
    "    # определяем количество пропусков в столбце\n",
    "    missing_count = df[column].isna().sum()\n",
    "    \n",
    "    if missing_count > 0:\n",
    "        # разбиваем количество пропусков на части, соответствующие числу категорий\n",
    "        repetitions = missing_count // len(categories)\n",
    "        remainder = missing_count % len(categories)\n",
    "\n",
    "        # создаем список категорий с равномерным распределением\n",
    "        filled_values = categories * repetitions + categories[:remainder]\n",
    "\n",
    "        # перемешиваем заполненные значения для случайного распределения\n",
    "        np.random.shuffle(filled_values)\n",
    "\n",
    "        # заполняем пропуски\n",
    "        df.loc[df[column].isna(), column] = filled_values\n",
    "\n",
    "    return df\n",
    "\n",
    "# категории для столбца Payment Method\n",
    "payment_categories = ['Cash', 'Credit Card', 'Digital Wallet']\n",
    "# категории для столбца Location\n",
    "location_categories = ['Takeaway', 'In-store']\n",
    "\n",
    "# Заполняем пропуски равномерно по каждому столбцу\n",
    "sales = fill_categories_equally(sales, 'Payment Method', payment_categories)\n",
    "sales = fill_categories_equally(sales, 'Location', location_categories)\n",
    "\n",
    "sales.isnull().mean()*100\n"
   ]
  },
  {
   "cell_type": "markdown",
   "metadata": {},
   "source": [
    "Видим, что теперь пропусков по столбцам Payment Method и Location нет, а распределение категорий по каждому столбцу такое же равномерное (см.ниже)"
   ]
  },
  {
   "cell_type": "code",
   "execution_count": 24,
   "metadata": {},
   "outputs": [
    {
     "data": {
      "text/plain": [
       "Payment Method\n",
       "Digital Wallet    3350\n",
       "Credit Card       3332\n",
       "Cash              3318\n",
       "Name: count, dtype: int64"
      ]
     },
     "execution_count": 24,
     "metadata": {},
     "output_type": "execute_result"
    }
   ],
   "source": [
    "sales['Payment Method'].value_counts()"
   ]
  },
  {
   "cell_type": "code",
   "execution_count": 25,
   "metadata": {},
   "outputs": [
    {
     "data": {
      "text/plain": [
       "Location\n",
       "Takeaway    5003\n",
       "In-store    4997\n",
       "Name: count, dtype: int64"
      ]
     },
     "execution_count": 25,
     "metadata": {},
     "output_type": "execute_result"
    }
   ],
   "source": [
    "sales['Location'].value_counts()"
   ]
  },
  {
   "cell_type": "markdown",
   "metadata": {},
   "source": [
    "## №6. Установите на локальную машину сервер PostgreSQL и загрузите в него датасет autos (например, с помощью программы DBeaver). Напишите скрипт, который выгружает датасет из таблицы PostgreSQL в датафрейм."
   ]
  },
  {
   "cell_type": "code",
   "execution_count": 26,
   "metadata": {},
   "outputs": [
    {
     "data": {
      "text/html": [
       "<div>\n",
       "<style scoped>\n",
       "    .dataframe tbody tr th:only-of-type {\n",
       "        vertical-align: middle;\n",
       "    }\n",
       "\n",
       "    .dataframe tbody tr th {\n",
       "        vertical-align: top;\n",
       "    }\n",
       "\n",
       "    .dataframe thead th {\n",
       "        text-align: right;\n",
       "    }\n",
       "</style>\n",
       "<table border=\"1\" class=\"dataframe\">\n",
       "  <thead>\n",
       "    <tr style=\"text-align: right;\">\n",
       "      <th></th>\n",
       "      <th>datecrawled</th>\n",
       "      <th>name</th>\n",
       "      <th>seller</th>\n",
       "      <th>offertype</th>\n",
       "      <th>price</th>\n",
       "      <th>vehicletype</th>\n",
       "      <th>yearofregistration</th>\n",
       "      <th>gearbox</th>\n",
       "      <th>powerps</th>\n",
       "      <th>model</th>\n",
       "      <th>odometer</th>\n",
       "      <th>monthofregistration</th>\n",
       "      <th>fueltype</th>\n",
       "      <th>brand</th>\n",
       "      <th>notrepaireddamage</th>\n",
       "      <th>nrofpictures</th>\n",
       "      <th>postalcode</th>\n",
       "      <th>lastseen</th>\n",
       "    </tr>\n",
       "  </thead>\n",
       "  <tbody>\n",
       "    <tr>\n",
       "      <th>0</th>\n",
       "      <td>2016-03-26 17:47:46</td>\n",
       "      <td>Peugeot_807_160_NAVTECH_ON_BOARD</td>\n",
       "      <td>privat</td>\n",
       "      <td>Angebot</td>\n",
       "      <td>$5,000</td>\n",
       "      <td>bus</td>\n",
       "      <td>2004</td>\n",
       "      <td>manuell</td>\n",
       "      <td>158</td>\n",
       "      <td>andere</td>\n",
       "      <td>150,000km</td>\n",
       "      <td>3</td>\n",
       "      <td>lpg</td>\n",
       "      <td>peugeot</td>\n",
       "      <td>nein</td>\n",
       "      <td>0</td>\n",
       "      <td>79588</td>\n",
       "      <td>2016-04-06 06:45:54</td>\n",
       "    </tr>\n",
       "    <tr>\n",
       "      <th>1</th>\n",
       "      <td>2016-04-04 13:38:56</td>\n",
       "      <td>BMW_740i_4_4_Liter_HAMANN_UMBAU_Mega_Optik</td>\n",
       "      <td>privat</td>\n",
       "      <td>Angebot</td>\n",
       "      <td>$8,500</td>\n",
       "      <td>limousine</td>\n",
       "      <td>1997</td>\n",
       "      <td>automatik</td>\n",
       "      <td>286</td>\n",
       "      <td>7er</td>\n",
       "      <td>150,000km</td>\n",
       "      <td>6</td>\n",
       "      <td>benzin</td>\n",
       "      <td>bmw</td>\n",
       "      <td>nein</td>\n",
       "      <td>0</td>\n",
       "      <td>71034</td>\n",
       "      <td>2016-04-06 14:45:08</td>\n",
       "    </tr>\n",
       "    <tr>\n",
       "      <th>2</th>\n",
       "      <td>2016-03-26 18:57:24</td>\n",
       "      <td>Volkswagen_Golf_1.6_United</td>\n",
       "      <td>privat</td>\n",
       "      <td>Angebot</td>\n",
       "      <td>$8,990</td>\n",
       "      <td>limousine</td>\n",
       "      <td>2009</td>\n",
       "      <td>manuell</td>\n",
       "      <td>102</td>\n",
       "      <td>golf</td>\n",
       "      <td>70,000km</td>\n",
       "      <td>7</td>\n",
       "      <td>benzin</td>\n",
       "      <td>volkswagen</td>\n",
       "      <td>nein</td>\n",
       "      <td>0</td>\n",
       "      <td>35394</td>\n",
       "      <td>2016-04-06 20:15:37</td>\n",
       "    </tr>\n",
       "    <tr>\n",
       "      <th>3</th>\n",
       "      <td>2016-03-12 16:58:10</td>\n",
       "      <td>Smart_smart_fortwo_coupe_softouch/F1/Klima/Pan...</td>\n",
       "      <td>privat</td>\n",
       "      <td>Angebot</td>\n",
       "      <td>$4,350</td>\n",
       "      <td>kleinwagen</td>\n",
       "      <td>2007</td>\n",
       "      <td>automatik</td>\n",
       "      <td>71</td>\n",
       "      <td>fortwo</td>\n",
       "      <td>70,000km</td>\n",
       "      <td>6</td>\n",
       "      <td>benzin</td>\n",
       "      <td>smart</td>\n",
       "      <td>nein</td>\n",
       "      <td>0</td>\n",
       "      <td>33729</td>\n",
       "      <td>2016-03-15 03:16:28</td>\n",
       "    </tr>\n",
       "    <tr>\n",
       "      <th>4</th>\n",
       "      <td>2016-04-01 14:38:50</td>\n",
       "      <td>Ford_Focus_1_6_Benzin_TЬV_neu_ist_sehr_gepfleg...</td>\n",
       "      <td>privat</td>\n",
       "      <td>Angebot</td>\n",
       "      <td>$1,350</td>\n",
       "      <td>kombi</td>\n",
       "      <td>2003</td>\n",
       "      <td>manuell</td>\n",
       "      <td>0</td>\n",
       "      <td>focus</td>\n",
       "      <td>150,000km</td>\n",
       "      <td>7</td>\n",
       "      <td>benzin</td>\n",
       "      <td>ford</td>\n",
       "      <td>nein</td>\n",
       "      <td>0</td>\n",
       "      <td>39218</td>\n",
       "      <td>2016-04-01 14:38:50</td>\n",
       "    </tr>\n",
       "    <tr>\n",
       "      <th>...</th>\n",
       "      <td>...</td>\n",
       "      <td>...</td>\n",
       "      <td>...</td>\n",
       "      <td>...</td>\n",
       "      <td>...</td>\n",
       "      <td>...</td>\n",
       "      <td>...</td>\n",
       "      <td>...</td>\n",
       "      <td>...</td>\n",
       "      <td>...</td>\n",
       "      <td>...</td>\n",
       "      <td>...</td>\n",
       "      <td>...</td>\n",
       "      <td>...</td>\n",
       "      <td>...</td>\n",
       "      <td>...</td>\n",
       "      <td>...</td>\n",
       "      <td>...</td>\n",
       "    </tr>\n",
       "    <tr>\n",
       "      <th>49995</th>\n",
       "      <td>2016-03-27 14:38:19</td>\n",
       "      <td>Audi_Q5_3.0_TDI_qu._S_tr.__Navi__Panorama__Xenon</td>\n",
       "      <td>privat</td>\n",
       "      <td>Angebot</td>\n",
       "      <td>$24,900</td>\n",
       "      <td>limousine</td>\n",
       "      <td>2011</td>\n",
       "      <td>automatik</td>\n",
       "      <td>239</td>\n",
       "      <td>q5</td>\n",
       "      <td>100,000km</td>\n",
       "      <td>1</td>\n",
       "      <td>diesel</td>\n",
       "      <td>audi</td>\n",
       "      <td>nein</td>\n",
       "      <td>0</td>\n",
       "      <td>82131</td>\n",
       "      <td>2016-04-01 13:47:40</td>\n",
       "    </tr>\n",
       "    <tr>\n",
       "      <th>49996</th>\n",
       "      <td>2016-03-28 10:50:25</td>\n",
       "      <td>Opel_Astra_F_Cabrio_Bertone_Edition___TЬV_neu+...</td>\n",
       "      <td>privat</td>\n",
       "      <td>Angebot</td>\n",
       "      <td>$1,980</td>\n",
       "      <td>cabrio</td>\n",
       "      <td>1996</td>\n",
       "      <td>manuell</td>\n",
       "      <td>75</td>\n",
       "      <td>astra</td>\n",
       "      <td>150,000km</td>\n",
       "      <td>5</td>\n",
       "      <td>benzin</td>\n",
       "      <td>opel</td>\n",
       "      <td>nein</td>\n",
       "      <td>0</td>\n",
       "      <td>44807</td>\n",
       "      <td>2016-04-02 14:18:02</td>\n",
       "    </tr>\n",
       "    <tr>\n",
       "      <th>49997</th>\n",
       "      <td>2016-04-02 14:44:48</td>\n",
       "      <td>Fiat_500_C_1.2_Dualogic_Lounge</td>\n",
       "      <td>privat</td>\n",
       "      <td>Angebot</td>\n",
       "      <td>$13,200</td>\n",
       "      <td>cabrio</td>\n",
       "      <td>2014</td>\n",
       "      <td>automatik</td>\n",
       "      <td>69</td>\n",
       "      <td>500</td>\n",
       "      <td>5,000km</td>\n",
       "      <td>11</td>\n",
       "      <td>benzin</td>\n",
       "      <td>fiat</td>\n",
       "      <td>nein</td>\n",
       "      <td>0</td>\n",
       "      <td>73430</td>\n",
       "      <td>2016-04-04 11:47:27</td>\n",
       "    </tr>\n",
       "    <tr>\n",
       "      <th>49998</th>\n",
       "      <td>2016-03-08 19:25:42</td>\n",
       "      <td>Audi_A3_2.0_TDI_Sportback_Ambition</td>\n",
       "      <td>privat</td>\n",
       "      <td>Angebot</td>\n",
       "      <td>$22,900</td>\n",
       "      <td>kombi</td>\n",
       "      <td>2013</td>\n",
       "      <td>manuell</td>\n",
       "      <td>150</td>\n",
       "      <td>a3</td>\n",
       "      <td>40,000km</td>\n",
       "      <td>11</td>\n",
       "      <td>diesel</td>\n",
       "      <td>audi</td>\n",
       "      <td>nein</td>\n",
       "      <td>0</td>\n",
       "      <td>35683</td>\n",
       "      <td>2016-04-05 16:45:07</td>\n",
       "    </tr>\n",
       "    <tr>\n",
       "      <th>49999</th>\n",
       "      <td>2016-03-14 00:42:12</td>\n",
       "      <td>Opel_Vectra_1.6_16V</td>\n",
       "      <td>privat</td>\n",
       "      <td>Angebot</td>\n",
       "      <td>$1,250</td>\n",
       "      <td>limousine</td>\n",
       "      <td>1996</td>\n",
       "      <td>manuell</td>\n",
       "      <td>101</td>\n",
       "      <td>vectra</td>\n",
       "      <td>150,000km</td>\n",
       "      <td>1</td>\n",
       "      <td>benzin</td>\n",
       "      <td>opel</td>\n",
       "      <td>nein</td>\n",
       "      <td>0</td>\n",
       "      <td>45897</td>\n",
       "      <td>2016-04-06 21:18:48</td>\n",
       "    </tr>\n",
       "  </tbody>\n",
       "</table>\n",
       "<p>50000 rows × 18 columns</p>\n",
       "</div>"
      ],
      "text/plain": [
       "               datecrawled                                               name  \\\n",
       "0      2016-03-26 17:47:46                   Peugeot_807_160_NAVTECH_ON_BOARD   \n",
       "1      2016-04-04 13:38:56         BMW_740i_4_4_Liter_HAMANN_UMBAU_Mega_Optik   \n",
       "2      2016-03-26 18:57:24                         Volkswagen_Golf_1.6_United   \n",
       "3      2016-03-12 16:58:10  Smart_smart_fortwo_coupe_softouch/F1/Klima/Pan...   \n",
       "4      2016-04-01 14:38:50  Ford_Focus_1_6_Benzin_TЬV_neu_ist_sehr_gepfleg...   \n",
       "...                    ...                                                ...   \n",
       "49995  2016-03-27 14:38:19   Audi_Q5_3.0_TDI_qu._S_tr.__Navi__Panorama__Xenon   \n",
       "49996  2016-03-28 10:50:25  Opel_Astra_F_Cabrio_Bertone_Edition___TЬV_neu+...   \n",
       "49997  2016-04-02 14:44:48                     Fiat_500_C_1.2_Dualogic_Lounge   \n",
       "49998  2016-03-08 19:25:42                 Audi_A3_2.0_TDI_Sportback_Ambition   \n",
       "49999  2016-03-14 00:42:12                                Opel_Vectra_1.6_16V   \n",
       "\n",
       "       seller offertype    price vehicletype  yearofregistration    gearbox  \\\n",
       "0      privat   Angebot   $5,000         bus                2004    manuell   \n",
       "1      privat   Angebot   $8,500   limousine                1997  automatik   \n",
       "2      privat   Angebot   $8,990   limousine                2009    manuell   \n",
       "3      privat   Angebot   $4,350  kleinwagen                2007  automatik   \n",
       "4      privat   Angebot   $1,350       kombi                2003    manuell   \n",
       "...       ...       ...      ...         ...                 ...        ...   \n",
       "49995  privat   Angebot  $24,900   limousine                2011  automatik   \n",
       "49996  privat   Angebot   $1,980      cabrio                1996    manuell   \n",
       "49997  privat   Angebot  $13,200      cabrio                2014  automatik   \n",
       "49998  privat   Angebot  $22,900       kombi                2013    manuell   \n",
       "49999  privat   Angebot   $1,250   limousine                1996    manuell   \n",
       "\n",
       "       powerps   model   odometer  monthofregistration fueltype       brand  \\\n",
       "0          158  andere  150,000km                    3      lpg     peugeot   \n",
       "1          286     7er  150,000km                    6   benzin         bmw   \n",
       "2          102    golf   70,000km                    7   benzin  volkswagen   \n",
       "3           71  fortwo   70,000km                    6   benzin       smart   \n",
       "4            0   focus  150,000km                    7   benzin        ford   \n",
       "...        ...     ...        ...                  ...      ...         ...   \n",
       "49995      239      q5  100,000km                    1   diesel        audi   \n",
       "49996       75   astra  150,000km                    5   benzin        opel   \n",
       "49997       69     500    5,000km                   11   benzin        fiat   \n",
       "49998      150      a3   40,000km                   11   diesel        audi   \n",
       "49999      101  vectra  150,000km                    1   benzin        opel   \n",
       "\n",
       "      notrepaireddamage  nrofpictures  postalcode             lastseen  \n",
       "0                  nein             0       79588  2016-04-06 06:45:54  \n",
       "1                  nein             0       71034  2016-04-06 14:45:08  \n",
       "2                  nein             0       35394  2016-04-06 20:15:37  \n",
       "3                  nein             0       33729  2016-03-15 03:16:28  \n",
       "4                  nein             0       39218  2016-04-01 14:38:50  \n",
       "...                 ...           ...         ...                  ...  \n",
       "49995              nein             0       82131  2016-04-01 13:47:40  \n",
       "49996              nein             0       44807  2016-04-02 14:18:02  \n",
       "49997              nein             0       73430  2016-04-04 11:47:27  \n",
       "49998              nein             0       35683  2016-04-05 16:45:07  \n",
       "49999              nein             0       45897  2016-04-06 21:18:48  \n",
       "\n",
       "[50000 rows x 18 columns]"
      ]
     },
     "metadata": {},
     "output_type": "display_data"
    }
   ],
   "source": [
    "\n",
    "# параметры подключения\n",
    "dbname = \"postgres\"\n",
    "user = \"postgres\" # укажите логин, указанный при установке PostgreSQL сервера\n",
    "password = \"1904\" # и пароль\n",
    "host = \"localhost\"\n",
    "port = \"5432\"\n",
    "\n",
    "# подключение к базе данных\n",
    "conn = psycopg2.connect(dbname=dbname, user=user, password=password, host=host, port=port)\n",
    "\n",
    "# поздание курсора\n",
    "cursor = conn.cursor()\n",
    "\n",
    "# выполнение SQL-запроса для получения данных из таблицы\n",
    "sql = \"SELECT * FROM autos\"\n",
    "cursor.execute(sql)\n",
    "\n",
    "# извлечение данных и преобразование в датафрейм\n",
    "df = pd.DataFrame(cursor.fetchall())\n",
    "columns = [desc[0] for desc in cursor.description]\n",
    "df.columns = columns\n",
    "\n",
    "# закрытие курсора и подключения\n",
    "cursor.close()\n",
    "conn.close()\n",
    "\n",
    "# вывод датафрейма\n",
    "display(df)"
   ]
  },
  {
   "cell_type": "markdown",
   "metadata": {},
   "source": [
    "Датасет содержит список объявлений для сайта о продаже подержанных автомобилей\n",
    "\n",
    "Описание полей датасета:\n",
    "\n",
    "dateCrawled — дата размещения объявления;\n",
    "\n",
    "name — заголовок объявления;\n",
    "\n",
    "seller — тип продавца;\n",
    "\n",
    "offerType — тип предложения;\n",
    "\n",
    "price — стоимость в USD;\n",
    "\n",
    "vehicleType — тип транспортного средства;\n",
    "\n",
    "yearOfRegistration — год регистрации транспортного средства;\n",
    "\n",
    "gearbox — тип коробки передач;\n",
    "\n",
    "powerPS — мощность двигателя;\n",
    "\n",
    "model — модель;\n",
    "\n",
    "odometer — пробег;\n",
    "\n",
    "monthOfRegistration — месяц регистрации транспортного средства;\n",
    "\n",
    "fuelType — тип топлива;\n",
    "\n",
    "brand — бренд;\n",
    "\n",
    "notRepairedDamage — требует ли ремонта?;\n",
    "\n",
    "nrOfPictures — количество загруженных фотографий;\n",
    "\n",
    "postalCode — почтовый индекс продавца;\n",
    "\n",
    "lastSeen — дата последнего просмотра объявления."
   ]
  },
  {
   "cell_type": "markdown",
   "metadata": {},
   "source": [
    "### №7. Исследуйте датасет. Какие признаки являются неинформативными для задач изучения рынка подержанных автомобилей? Что с ними делать? Исправьте датафрейм."
   ]
  },
  {
   "cell_type": "code",
   "execution_count": 27,
   "metadata": {},
   "outputs": [
    {
     "data": {
      "text/plain": [
       "np.False_"
      ]
     },
     "execution_count": 27,
     "metadata": {},
     "output_type": "execute_result"
    }
   ],
   "source": [
    "# проверим на наличие дубликатов в таблице\n",
    "df.duplicated().any()"
   ]
  },
  {
   "cell_type": "markdown",
   "metadata": {},
   "source": [
    "В таблице отсутствуют дубликаты"
   ]
  },
  {
   "cell_type": "code",
   "execution_count": 28,
   "metadata": {},
   "outputs": [
    {
     "data": {
      "text/plain": [
       "np.True_"
      ]
     },
     "execution_count": 28,
     "metadata": {},
     "output_type": "execute_result"
    }
   ],
   "source": [
    "# и отдельно по столбцу с датой размещения объявления\n",
    "df['datecrawled'].duplicated().any()"
   ]
  },
  {
   "cell_type": "markdown",
   "metadata": {},
   "source": [
    "Есть одинаковые даты размещения объявления (datecrawled), что связано вероятно с размещением нескольких разных объявлений в один день."
   ]
  },
  {
   "cell_type": "code",
   "execution_count": 29,
   "metadata": {},
   "outputs": [
    {
     "name": "stdout",
     "output_type": "stream",
     "text": [
      "<class 'pandas.core.frame.DataFrame'>\n",
      "RangeIndex: 50000 entries, 0 to 49999\n",
      "Data columns (total 18 columns):\n",
      " #   Column               Non-Null Count  Dtype \n",
      "---  ------               --------------  ----- \n",
      " 0   datecrawled          50000 non-null  object\n",
      " 1   name                 50000 non-null  object\n",
      " 2   seller               50000 non-null  object\n",
      " 3   offertype            50000 non-null  object\n",
      " 4   price                50000 non-null  object\n",
      " 5   vehicletype          50000 non-null  object\n",
      " 6   yearofregistration   50000 non-null  int64 \n",
      " 7   gearbox              50000 non-null  object\n",
      " 8   powerps              50000 non-null  int64 \n",
      " 9   model                50000 non-null  object\n",
      " 10  odometer             50000 non-null  object\n",
      " 11  monthofregistration  50000 non-null  int64 \n",
      " 12  fueltype             50000 non-null  object\n",
      " 13  brand                50000 non-null  object\n",
      " 14  notrepaireddamage    50000 non-null  object\n",
      " 15  nrofpictures         50000 non-null  int64 \n",
      " 16  postalcode           50000 non-null  int64 \n",
      " 17  lastseen             50000 non-null  object\n",
      "dtypes: int64(5), object(13)\n",
      "memory usage: 6.9+ MB\n"
     ]
    }
   ],
   "source": [
    "# посмотрим на информацию о датасете (кол-ве пропусков и типе данных)\n",
    "df.info()"
   ]
  },
  {
   "cell_type": "markdown",
   "metadata": {},
   "source": [
    "В таблице отсутствуют пропуски"
   ]
  },
  {
   "cell_type": "code",
   "execution_count": 30,
   "metadata": {},
   "outputs": [],
   "source": [
    "# перед дальнейшими изменениями скопируем таблицу\n",
    "df_c = df.copy()"
   ]
  },
  {
   "cell_type": "code",
   "execution_count": 31,
   "metadata": {},
   "outputs": [
    {
     "name": "stdout",
     "output_type": "stream",
     "text": [
      "datecrawled: 96.43% уникальных значений\n",
      "seller: 100.0% одинаковых значений\n",
      "offertype: 100.0% одинаковых значений\n",
      "nrofpictures: 100.0% одинаковых значений\n"
     ]
    }
   ],
   "source": [
    "# исследуем неинформативные признаки, а именно те, в которых >95% значений одинаковые или, наоборот, уникальные\n",
    "\n",
    "low_information = [] \n",
    "\n",
    "# цикл по всем столбцам\n",
    "for col in df_c.columns:\n",
    "    # наибольшая относительная частота в признаке\n",
    "    top_freq = df_c[col].value_counts(normalize=True).max()\n",
    "    # доля уникальных значений от размера признака\n",
    "    nunique_ratio = df_c[col].nunique() / df_c[col].count()\n",
    "    # сравниваем наибольшую частоту с порогом\n",
    "    if top_freq > 0.95:\n",
    "        low_information.append(col)\n",
    "        print(f'{col}: {round(top_freq*100, 2)}% одинаковых значений')\n",
    "    # сравниваем долю уникальных значений с порогом\n",
    "    if nunique_ratio > 0.95:\n",
    "        low_information.append(col)\n",
    "        print(f'{col}: {round(nunique_ratio*100, 2)}% уникальных значений')"
   ]
  },
  {
   "cell_type": "markdown",
   "metadata": {},
   "source": [
    "Столбцы seller, offertype, nrofpictures подлежат удалению в связи с большим процентом (а именно 100%) уникальных значений. Удаление этих столбцов не принесет ущерба для дальнейшего анализа данных. Также удалим столбец datecrawled, так как 96.43% уникальных значений + дата размещения объявления не влияет на цену выставляемого на продажу автомобиля.  \n",
    "\n",
    "Помимо прочего я бы удалила такие признаки, как name, monthofregistration, lastseen и postalcode, так как они не несут значимой информации для анализа рынка подержанных автомобилей. Name повторяет информацию из столбцов brand, model и fueltype (их мы оставим), а monthofregistration, lastseen и postalcode просто не несут никакой информации о важных взаимосвязей."
   ]
  },
  {
   "cell_type": "code",
   "execution_count": 32,
   "metadata": {},
   "outputs": [],
   "source": [
    "more = ['monthofregistration', 'name', 'lastseen', 'postalcode']\n",
    "low_information.extend(more)\n",
    "\n",
    "df_c = df_c.drop(low_information, axis=1)\n"
   ]
  },
  {
   "cell_type": "code",
   "execution_count": 33,
   "metadata": {},
   "outputs": [
    {
     "name": "stdout",
     "output_type": "stream",
     "text": [
      "<class 'pandas.core.frame.DataFrame'>\n",
      "RangeIndex: 50000 entries, 0 to 49999\n",
      "Data columns (total 10 columns):\n",
      " #   Column              Non-Null Count  Dtype \n",
      "---  ------              --------------  ----- \n",
      " 0   price               50000 non-null  object\n",
      " 1   vehicletype         50000 non-null  object\n",
      " 2   yearofregistration  50000 non-null  int64 \n",
      " 3   gearbox             50000 non-null  object\n",
      " 4   powerps             50000 non-null  int64 \n",
      " 5   model               50000 non-null  object\n",
      " 6   odometer            50000 non-null  object\n",
      " 7   fueltype            50000 non-null  object\n",
      " 8   brand               50000 non-null  object\n",
      " 9   notrepaireddamage   50000 non-null  object\n",
      "dtypes: int64(2), object(8)\n",
      "memory usage: 3.8+ MB\n"
     ]
    }
   ],
   "source": [
    "df_c.info()"
   ]
  },
  {
   "cell_type": "markdown",
   "metadata": {},
   "source": [
    "Удалив 8 неинформативных столбцов, мы получили на выходе 10 и 50.000 непустых и недублированных строк."
   ]
  },
  {
   "cell_type": "markdown",
   "metadata": {},
   "source": [
    "### №8. Найдите выбросы в различных столбцах. Что с ними делать? Исправьте датафрейм.\n",
    "### №9. Продемонстрируйте визуально, что выбросов не осталось."
   ]
  },
  {
   "cell_type": "code",
   "execution_count": 34,
   "metadata": {},
   "outputs": [
    {
     "data": {
      "text/html": [
       "<div>\n",
       "<style scoped>\n",
       "    .dataframe tbody tr th:only-of-type {\n",
       "        vertical-align: middle;\n",
       "    }\n",
       "\n",
       "    .dataframe tbody tr th {\n",
       "        vertical-align: top;\n",
       "    }\n",
       "\n",
       "    .dataframe thead th {\n",
       "        text-align: right;\n",
       "    }\n",
       "</style>\n",
       "<table border=\"1\" class=\"dataframe\">\n",
       "  <thead>\n",
       "    <tr style=\"text-align: right;\">\n",
       "      <th></th>\n",
       "      <th>price</th>\n",
       "      <th>vehicletype</th>\n",
       "      <th>yearofregistration</th>\n",
       "      <th>gearbox</th>\n",
       "      <th>powerps</th>\n",
       "      <th>model</th>\n",
       "      <th>odometer</th>\n",
       "      <th>fueltype</th>\n",
       "      <th>brand</th>\n",
       "      <th>notrepaireddamage</th>\n",
       "    </tr>\n",
       "  </thead>\n",
       "  <tbody>\n",
       "    <tr>\n",
       "      <th>0</th>\n",
       "      <td>$5,000</td>\n",
       "      <td>bus</td>\n",
       "      <td>2004</td>\n",
       "      <td>manuell</td>\n",
       "      <td>158</td>\n",
       "      <td>andere</td>\n",
       "      <td>150,000km</td>\n",
       "      <td>lpg</td>\n",
       "      <td>peugeot</td>\n",
       "      <td>nein</td>\n",
       "    </tr>\n",
       "    <tr>\n",
       "      <th>1</th>\n",
       "      <td>$8,500</td>\n",
       "      <td>limousine</td>\n",
       "      <td>1997</td>\n",
       "      <td>automatik</td>\n",
       "      <td>286</td>\n",
       "      <td>7er</td>\n",
       "      <td>150,000km</td>\n",
       "      <td>benzin</td>\n",
       "      <td>bmw</td>\n",
       "      <td>nein</td>\n",
       "    </tr>\n",
       "    <tr>\n",
       "      <th>2</th>\n",
       "      <td>$8,990</td>\n",
       "      <td>limousine</td>\n",
       "      <td>2009</td>\n",
       "      <td>manuell</td>\n",
       "      <td>102</td>\n",
       "      <td>golf</td>\n",
       "      <td>70,000km</td>\n",
       "      <td>benzin</td>\n",
       "      <td>volkswagen</td>\n",
       "      <td>nein</td>\n",
       "    </tr>\n",
       "    <tr>\n",
       "      <th>3</th>\n",
       "      <td>$4,350</td>\n",
       "      <td>kleinwagen</td>\n",
       "      <td>2007</td>\n",
       "      <td>automatik</td>\n",
       "      <td>71</td>\n",
       "      <td>fortwo</td>\n",
       "      <td>70,000km</td>\n",
       "      <td>benzin</td>\n",
       "      <td>smart</td>\n",
       "      <td>nein</td>\n",
       "    </tr>\n",
       "    <tr>\n",
       "      <th>4</th>\n",
       "      <td>$1,350</td>\n",
       "      <td>kombi</td>\n",
       "      <td>2003</td>\n",
       "      <td>manuell</td>\n",
       "      <td>0</td>\n",
       "      <td>focus</td>\n",
       "      <td>150,000km</td>\n",
       "      <td>benzin</td>\n",
       "      <td>ford</td>\n",
       "      <td>nein</td>\n",
       "    </tr>\n",
       "  </tbody>\n",
       "</table>\n",
       "</div>"
      ],
      "text/plain": [
       "    price vehicletype  yearofregistration    gearbox  powerps   model  \\\n",
       "0  $5,000         bus                2004    manuell      158  andere   \n",
       "1  $8,500   limousine                1997  automatik      286     7er   \n",
       "2  $8,990   limousine                2009    manuell      102    golf   \n",
       "3  $4,350  kleinwagen                2007  automatik       71  fortwo   \n",
       "4  $1,350       kombi                2003    manuell        0   focus   \n",
       "\n",
       "    odometer fueltype       brand notrepaireddamage  \n",
       "0  150,000km      lpg     peugeot              nein  \n",
       "1  150,000km   benzin         bmw              nein  \n",
       "2   70,000km   benzin  volkswagen              nein  \n",
       "3   70,000km   benzin       smart              nein  \n",
       "4  150,000km   benzin        ford              nein  "
      ]
     },
     "execution_count": 34,
     "metadata": {},
     "output_type": "execute_result"
    }
   ],
   "source": [
    "df_c.head()"
   ]
  },
  {
   "cell_type": "markdown",
   "metadata": {},
   "source": [
    "Попробуем поискать выбросы в данных с помощью метода межквартильного размаха (метода Тьюки). Он сработает только для числовых данных, поэтому столбцы price, odometer нужно будет перевести из object в float."
   ]
  },
  {
   "cell_type": "code",
   "execution_count": 35,
   "metadata": {},
   "outputs": [
    {
     "data": {
      "text/html": [
       "<div>\n",
       "<style scoped>\n",
       "    .dataframe tbody tr th:only-of-type {\n",
       "        vertical-align: middle;\n",
       "    }\n",
       "\n",
       "    .dataframe tbody tr th {\n",
       "        vertical-align: top;\n",
       "    }\n",
       "\n",
       "    .dataframe thead th {\n",
       "        text-align: right;\n",
       "    }\n",
       "</style>\n",
       "<table border=\"1\" class=\"dataframe\">\n",
       "  <thead>\n",
       "    <tr style=\"text-align: right;\">\n",
       "      <th></th>\n",
       "      <th>price</th>\n",
       "      <th>vehicletype</th>\n",
       "      <th>yearofregistration</th>\n",
       "      <th>gearbox</th>\n",
       "      <th>powerps</th>\n",
       "      <th>model</th>\n",
       "      <th>odometer</th>\n",
       "      <th>fueltype</th>\n",
       "      <th>brand</th>\n",
       "      <th>notrepaireddamage</th>\n",
       "    </tr>\n",
       "  </thead>\n",
       "  <tbody>\n",
       "    <tr>\n",
       "      <th>0</th>\n",
       "      <td>5000.0</td>\n",
       "      <td>bus</td>\n",
       "      <td>2004</td>\n",
       "      <td>manuell</td>\n",
       "      <td>158</td>\n",
       "      <td>andere</td>\n",
       "      <td>150,000km</td>\n",
       "      <td>lpg</td>\n",
       "      <td>peugeot</td>\n",
       "      <td>nein</td>\n",
       "    </tr>\n",
       "    <tr>\n",
       "      <th>1</th>\n",
       "      <td>8500.0</td>\n",
       "      <td>limousine</td>\n",
       "      <td>1997</td>\n",
       "      <td>automatik</td>\n",
       "      <td>286</td>\n",
       "      <td>7er</td>\n",
       "      <td>150,000km</td>\n",
       "      <td>benzin</td>\n",
       "      <td>bmw</td>\n",
       "      <td>nein</td>\n",
       "    </tr>\n",
       "    <tr>\n",
       "      <th>2</th>\n",
       "      <td>8990.0</td>\n",
       "      <td>limousine</td>\n",
       "      <td>2009</td>\n",
       "      <td>manuell</td>\n",
       "      <td>102</td>\n",
       "      <td>golf</td>\n",
       "      <td>70,000km</td>\n",
       "      <td>benzin</td>\n",
       "      <td>volkswagen</td>\n",
       "      <td>nein</td>\n",
       "    </tr>\n",
       "    <tr>\n",
       "      <th>3</th>\n",
       "      <td>4350.0</td>\n",
       "      <td>kleinwagen</td>\n",
       "      <td>2007</td>\n",
       "      <td>automatik</td>\n",
       "      <td>71</td>\n",
       "      <td>fortwo</td>\n",
       "      <td>70,000km</td>\n",
       "      <td>benzin</td>\n",
       "      <td>smart</td>\n",
       "      <td>nein</td>\n",
       "    </tr>\n",
       "    <tr>\n",
       "      <th>4</th>\n",
       "      <td>1350.0</td>\n",
       "      <td>kombi</td>\n",
       "      <td>2003</td>\n",
       "      <td>manuell</td>\n",
       "      <td>0</td>\n",
       "      <td>focus</td>\n",
       "      <td>150,000km</td>\n",
       "      <td>benzin</td>\n",
       "      <td>ford</td>\n",
       "      <td>nein</td>\n",
       "    </tr>\n",
       "  </tbody>\n",
       "</table>\n",
       "</div>"
      ],
      "text/plain": [
       "    price vehicletype  yearofregistration    gearbox  powerps   model  \\\n",
       "0  5000.0         bus                2004    manuell      158  andere   \n",
       "1  8500.0   limousine                1997  automatik      286     7er   \n",
       "2  8990.0   limousine                2009    manuell      102    golf   \n",
       "3  4350.0  kleinwagen                2007  automatik       71  fortwo   \n",
       "4  1350.0       kombi                2003    manuell        0   focus   \n",
       "\n",
       "    odometer fueltype       brand notrepaireddamage  \n",
       "0  150,000km      lpg     peugeot              nein  \n",
       "1  150,000km   benzin         bmw              nein  \n",
       "2   70,000km   benzin  volkswagen              nein  \n",
       "3   70,000km   benzin       smart              nein  \n",
       "4  150,000km   benzin        ford              nein  "
      ]
     },
     "execution_count": 35,
     "metadata": {},
     "output_type": "execute_result"
    }
   ],
   "source": [
    "# cнова копируем таблицу\n",
    "df_2 = df_c.copy()\n",
    "# избавляемся от знаков, которые не относятся к цифрам\n",
    "df_2['price'] = df_2['price'].str.replace(r'\\D', '', regex = True)\n",
    "# сразу переводим данные от строковых к вещественным\n",
    "df_2['price'] = df_2['price'].astype(float)\n",
    "df_2.head()"
   ]
  },
  {
   "cell_type": "code",
   "execution_count": 36,
   "metadata": {},
   "outputs": [
    {
     "data": {
      "text/html": [
       "<div>\n",
       "<style scoped>\n",
       "    .dataframe tbody tr th:only-of-type {\n",
       "        vertical-align: middle;\n",
       "    }\n",
       "\n",
       "    .dataframe tbody tr th {\n",
       "        vertical-align: top;\n",
       "    }\n",
       "\n",
       "    .dataframe thead th {\n",
       "        text-align: right;\n",
       "    }\n",
       "</style>\n",
       "<table border=\"1\" class=\"dataframe\">\n",
       "  <thead>\n",
       "    <tr style=\"text-align: right;\">\n",
       "      <th></th>\n",
       "      <th>price</th>\n",
       "      <th>vehicletype</th>\n",
       "      <th>yearofregistration</th>\n",
       "      <th>gearbox</th>\n",
       "      <th>powerps</th>\n",
       "      <th>model</th>\n",
       "      <th>odometer</th>\n",
       "      <th>fueltype</th>\n",
       "      <th>brand</th>\n",
       "      <th>notrepaireddamage</th>\n",
       "    </tr>\n",
       "  </thead>\n",
       "  <tbody>\n",
       "    <tr>\n",
       "      <th>0</th>\n",
       "      <td>5000.0</td>\n",
       "      <td>bus</td>\n",
       "      <td>2004</td>\n",
       "      <td>manuell</td>\n",
       "      <td>158</td>\n",
       "      <td>andere</td>\n",
       "      <td>150000.0</td>\n",
       "      <td>lpg</td>\n",
       "      <td>peugeot</td>\n",
       "      <td>nein</td>\n",
       "    </tr>\n",
       "    <tr>\n",
       "      <th>1</th>\n",
       "      <td>8500.0</td>\n",
       "      <td>limousine</td>\n",
       "      <td>1997</td>\n",
       "      <td>automatik</td>\n",
       "      <td>286</td>\n",
       "      <td>7er</td>\n",
       "      <td>150000.0</td>\n",
       "      <td>benzin</td>\n",
       "      <td>bmw</td>\n",
       "      <td>nein</td>\n",
       "    </tr>\n",
       "    <tr>\n",
       "      <th>2</th>\n",
       "      <td>8990.0</td>\n",
       "      <td>limousine</td>\n",
       "      <td>2009</td>\n",
       "      <td>manuell</td>\n",
       "      <td>102</td>\n",
       "      <td>golf</td>\n",
       "      <td>70000.0</td>\n",
       "      <td>benzin</td>\n",
       "      <td>volkswagen</td>\n",
       "      <td>nein</td>\n",
       "    </tr>\n",
       "    <tr>\n",
       "      <th>3</th>\n",
       "      <td>4350.0</td>\n",
       "      <td>kleinwagen</td>\n",
       "      <td>2007</td>\n",
       "      <td>automatik</td>\n",
       "      <td>71</td>\n",
       "      <td>fortwo</td>\n",
       "      <td>70000.0</td>\n",
       "      <td>benzin</td>\n",
       "      <td>smart</td>\n",
       "      <td>nein</td>\n",
       "    </tr>\n",
       "    <tr>\n",
       "      <th>4</th>\n",
       "      <td>1350.0</td>\n",
       "      <td>kombi</td>\n",
       "      <td>2003</td>\n",
       "      <td>manuell</td>\n",
       "      <td>0</td>\n",
       "      <td>focus</td>\n",
       "      <td>150000.0</td>\n",
       "      <td>benzin</td>\n",
       "      <td>ford</td>\n",
       "      <td>nein</td>\n",
       "    </tr>\n",
       "  </tbody>\n",
       "</table>\n",
       "</div>"
      ],
      "text/plain": [
       "    price vehicletype  yearofregistration    gearbox  powerps   model  \\\n",
       "0  5000.0         bus                2004    manuell      158  andere   \n",
       "1  8500.0   limousine                1997  automatik      286     7er   \n",
       "2  8990.0   limousine                2009    manuell      102    golf   \n",
       "3  4350.0  kleinwagen                2007  automatik       71  fortwo   \n",
       "4  1350.0       kombi                2003    manuell        0   focus   \n",
       "\n",
       "   odometer fueltype       brand notrepaireddamage  \n",
       "0  150000.0      lpg     peugeot              nein  \n",
       "1  150000.0   benzin         bmw              nein  \n",
       "2   70000.0   benzin  volkswagen              nein  \n",
       "3   70000.0   benzin       smart              nein  \n",
       "4  150000.0   benzin        ford              nein  "
      ]
     },
     "execution_count": 36,
     "metadata": {},
     "output_type": "execute_result"
    }
   ],
   "source": [
    "# аналогично поступаем со столбцом odometer\n",
    "df_2['odometer'] = df_2['odometer'].str.replace(r'\\D', '', regex = True)\n",
    "df_2['odometer'] = df_2['odometer'].astype(float)\n",
    "df_2.head()"
   ]
  },
  {
   "cell_type": "code",
   "execution_count": 40,
   "metadata": {},
   "outputs": [],
   "source": [
    "# функция для удобной визулизации признаков \n",
    "\n",
    "def show_distribution(data, variables):\n",
    "    ncols = len(variables)\n",
    "\n",
    "    fig_length = 5 * ncols\n",
    "\n",
    "    fig, axes = plt.subplots(2, ncols, figsize=(fig_length, fig_length // 2.5))\n",
    "    \n",
    "    for index, variable in enumerate(variables):\n",
    "        data_variable = data[variable].dropna(ignore_index=True)\n",
    "        \n",
    "        variable_mean = data_variable.mean()\n",
    "        variable_median = data_variable.median()\n",
    "        \n",
    "        ## histogram\n",
    "        axes[0, index].hist(data_variable, edgecolor='black', bins=20, color='darkblue', alpha=.3)\n",
    "        axes[0, index].set_title(variable)\n",
    "    \n",
    "        # add vertical lines for mean and median\n",
    "        axes[0, index].axvline(variable_mean, color='red', label='mean')  # default linestyle is 'solid'\n",
    "        axes[0, index].axvline(variable_median, color='orange', linestyle='dashed', label='median')  # for horizontal line use axhline\n",
    "            # (coordinate Y)\n",
    "    \n",
    "        if index == 0:\n",
    "            axes[0, index].set_ylabel('histogram')\n",
    "    \n",
    "        # add legend\n",
    "        if index == ncols - 1:\n",
    "            axes[0, index].legend()\n",
    "    \n",
    "        ## boxplot\n",
    "        axes[1, index].boxplot(data_variable, vert=False)\n",
    "        axes[1, index].set_yticks([])\n",
    "    \n",
    "        if index == 0:\n",
    "            axes[1, index].set_ylabel('boxplot')"
   ]
  },
  {
   "cell_type": "code",
   "execution_count": 44,
   "metadata": {},
   "outputs": [],
   "source": [
    "# создадим список числовых переменных\n",
    "numerics = ['price', 'yearofregistration', 'powerps', 'odometer']"
   ]
  },
  {
   "cell_type": "code",
   "execution_count": 45,
   "metadata": {},
   "outputs": [
    {
     "data": {
      "image/png": "[encoded data removed]",
      "text/plain": [
       "<Figure size 2000x800 with 8 Axes>"
      ]
     },
     "metadata": {},
     "output_type": "display_data"
    }
   ],
   "source": [
    "# визуализируем распределение числовых переменных\n",
    "show_distribution(df_2, numerics)"
   ]
  },
  {
   "cell_type": "markdown",
   "metadata": {},
   "source": [
    "Видим, что больше всех выделяется показатель odometer (пробег). Далее проанализируем почему так."
   ]
  },
  {
   "cell_type": "code",
   "execution_count": 46,
   "metadata": {},
   "outputs": [],
   "source": [
    "# напишем функцию для работы метода межквартильного размаха\n",
    "def outliers_iqr(data, feature):\n",
    "    x = data[feature]\n",
    "    # вычисляем квартили\n",
    "    quartile_1, quartile_3 = x.quantile(0.25), x.quantile(0.75),\n",
    "    # вычисляем межквартильное расстояние\n",
    "    iqr = quartile_3 - quartile_1\n",
    "    # вычисляем границы Тьюки\n",
    "    lower_bound = quartile_1 - (iqr * 1.5)\n",
    "    upper_bound = quartile_3 + (iqr * 1.5)\n",
    "    # обозначаем выбросы и очищенные данные, это же и выводим\n",
    "    outliers = data[(x < lower_bound) | (x > upper_bound)]\n",
    "    cleaned = data[(x > lower_bound) & (x < upper_bound)]\n",
    "    return outliers, cleaned"
   ]
  },
  {
   "cell_type": "code",
   "execution_count": 47,
   "metadata": {},
   "outputs": [
    {
     "name": "stdout",
     "output_type": "stream",
     "text": [
      "Число выбросов по признаку \"price\" по методу Тьюки: 3784\n",
      "Результирующее число записей: 46207\n"
     ]
    }
   ],
   "source": [
    "outliers, cleaned = outliers_iqr(df_2, 'price')\n",
    "print(f'Число выбросов по признаку \"price\" по методу Тьюки: {outliers.shape[0]}')\n",
    "print(f'Результирующее число записей: {cleaned.shape[0]}')"
   ]
  },
  {
   "cell_type": "code",
   "execution_count": 48,
   "metadata": {},
   "outputs": [
    {
     "data": {
      "image/png": "[encoded data removed]",
      "text/plain": [
       "<Figure size 1500x400 with 2 Axes>"
      ]
     },
     "metadata": {},
     "output_type": "display_data"
    }
   ],
   "source": [
    "fig, axes = plt.subplots(nrows=1, ncols=2, figsize=(15, 4))\n",
    "histplot = sns.histplot(data=cleaned, x='price', ax=axes[0]);\n",
    "histplot.set_title('Cleaned Price Distribution');\n",
    "boxplot = sns.boxplot(data=cleaned, x='price', ax=axes[1]);\n",
    "boxplot.set_title('Cleaned Price Boxplot');"
   ]
  },
  {
   "cell_type": "code",
   "execution_count": 49,
   "metadata": {},
   "outputs": [
    {
     "name": "stdout",
     "output_type": "stream",
     "text": [
      "Число выбросов по признаку \"yearofregistration\" по методу Тьюки: 942\n",
      "Результирующее число записей: 49058\n"
     ]
    }
   ],
   "source": [
    "outliers, cleaned = outliers_iqr(df_2, 'yearofregistration')\n",
    "print(f'Число выбросов по признаку \"yearofregistration\" по методу Тьюки: {outliers.shape[0]}')\n",
    "print(f'Результирующее число записей: {cleaned.shape[0]}')"
   ]
  },
  {
   "cell_type": "code",
   "execution_count": 50,
   "metadata": {},
   "outputs": [
    {
     "data": {
      "image/png": "[encoded data removed]",
      "text/plain": [
       "<Figure size 1500x400 with 2 Axes>"
      ]
     },
     "metadata": {},
     "output_type": "display_data"
    }
   ],
   "source": [
    "fig, axes = plt.subplots(nrows=1, ncols=2, figsize=(15, 4))\n",
    "histplot = sns.histplot(data=cleaned, x='yearofregistration', ax=axes[0]);\n",
    "histplot.set_title('Cleaned YearOfRegistration Distribution');\n",
    "boxplot = sns.boxplot(data=cleaned, x='yearofregistration', ax=axes[1]);\n",
    "boxplot.set_title('Cleaned YearOfRegistration Boxplot');"
   ]
  },
  {
   "cell_type": "code",
   "execution_count": 51,
   "metadata": {},
   "outputs": [
    {
     "name": "stdout",
     "output_type": "stream",
     "text": [
      "Число выбросов по признаку \"powerps\" по методу Тьюки: 1461\n",
      "Результирующее число записей: 48533\n"
     ]
    }
   ],
   "source": [
    "outliers, cleaned = outliers_iqr(df_2, 'powerps')\n",
    "print(f'Число выбросов по признаку \"powerps\" по методу Тьюки: {outliers.shape[0]}')\n",
    "print(f'Результирующее число записей: {cleaned.shape[0]}')"
   ]
  },
  {
   "cell_type": "code",
   "execution_count": 52,
   "metadata": {},
   "outputs": [
    {
     "data": {
      "image/png": "[encoded data removed]",
      "text/plain": [
       "<Figure size 1500x400 with 2 Axes>"
      ]
     },
     "metadata": {},
     "output_type": "display_data"
    }
   ],
   "source": [
    "fig, axes = plt.subplots(nrows=1, ncols=2, figsize=(15, 4))\n",
    "histplot = sns.histplot(data=cleaned, x='powerps', ax=axes[0]);\n",
    "histplot.set_title('Cleaned PowePS Distribution');\n",
    "boxplot = sns.boxplot(data=cleaned, x='powerps', ax=axes[1]);\n",
    "boxplot.set_title('Cleaned PowePS Boxplot');"
   ]
  },
  {
   "cell_type": "markdown",
   "metadata": {},
   "source": [
    "По графику видно, что у показателя Мощность Двигателя много нулевых значений (что нелогично). Это некорректные значения, которые надо исправить. Наиболее правильно будет заменить их на медианную величину."
   ]
  },
  {
   "cell_type": "code",
   "execution_count": 53,
   "metadata": {},
   "outputs": [
    {
     "name": "stderr",
     "output_type": "stream",
     "text": [
      "/var/folders/50/18ts1bh12532xjz2xv95cl540000gn/T/ipykernel_77545/91417462.py:2: FutureWarning: A value is trying to be set on a copy of a DataFrame or Series through chained assignment using an inplace method.\n",
      "The behavior will change in pandas 3.0. This inplace method will never work because the intermediate object on which we are setting values always behaves as a copy.\n",
      "\n",
      "For example, when doing 'df[col].method(value, inplace=True)', try using 'df.method({col: value}, inplace=True)' or df[col] = df[col].method(value) instead, to perform the operation inplace on the original object.\n",
      "\n",
      "\n",
      "  cleaned['powerps'].replace(0, powerPS_med, inplace=True)\n",
      "/var/folders/50/18ts1bh12532xjz2xv95cl540000gn/T/ipykernel_77545/91417462.py:2: SettingWithCopyWarning: \n",
      "A value is trying to be set on a copy of a slice from a DataFrame\n",
      "\n",
      "See the caveats in the documentation: https://pandas.pydata.org/pandas-docs/stable/user_guide/indexing.html#returning-a-view-versus-a-copy\n",
      "  cleaned['powerps'].replace(0, powerPS_med, inplace=True)\n"
     ]
    }
   ],
   "source": [
    "powerPS_med = cleaned['powerps'].median()\n",
    "cleaned['powerps'].replace(0, powerPS_med, inplace=True)"
   ]
  },
  {
   "cell_type": "code",
   "execution_count": 54,
   "metadata": {},
   "outputs": [
    {
     "data": {
      "image/png": "[encoded data removed]",
      "text/plain": [
       "<Figure size 1500x400 with 2 Axes>"
      ]
     },
     "metadata": {},
     "output_type": "display_data"
    }
   ],
   "source": [
    "# повторим построение графиков\n",
    "\n",
    "fig, axes = plt.subplots(nrows=1, ncols=2, figsize=(15, 4))\n",
    "histplot = sns.histplot(data=cleaned, x='powerps', ax=axes[0]);\n",
    "histplot.set_title('Cleaned PowePS Distribution');\n",
    "boxplot = sns.boxplot(data=cleaned, x='powerps', ax=axes[1]);\n",
    "boxplot.set_title('Cleaned PowePS Boxplot');"
   ]
  },
  {
   "cell_type": "code",
   "execution_count": 55,
   "metadata": {},
   "outputs": [
    {
     "data": {
      "image/png": "[encoded data removed]",
      "text/plain": [
       "<Figure size 1500x400 with 2 Axes>"
      ]
     },
     "metadata": {},
     "output_type": "display_data"
    }
   ],
   "source": [
    "fig, axes = plt.subplots(nrows=1, ncols=2, figsize=(15, 4))\n",
    "histplot = sns.histplot(data=cleaned, x='odometer', ax=axes[0]);\n",
    "histplot.set_title('Cleaned Odometer Distribution');\n",
    "boxplot = sns.boxplot(data=cleaned, x='odometer', ax=axes[1]);\n",
    "boxplot.set_title('Cleaned Odometer Boxplot');"
   ]
  },
  {
   "cell_type": "markdown",
   "metadata": {},
   "source": [
    "Основываясь на том, что пробег у подержаной машины может быть любым (в пределах разумного), можно сделать вывод, что значения на графике не являются выбросами (тем более они расположены примерно через одинаковый интервал друг от друга) и их не нужно корректировать."
   ]
  }
 ],
 "metadata": {
  "kernelspec": {
   "display_name": "Python 3",
   "language": "python",
   "name": "python3"
  },
  "language_info": {
   "codemirror_mode": {
    "name": "ipython",
    "version": 3
   },
   "file_extension": ".py",
   "mimetype": "text/x-python",
   "name": "python",
   "nbconvert_exporter": "python",
   "pygments_lexer": "ipython3",
   "version": "3.12.6"
  }
 },
 "nbformat": 4,
 "nbformat_minor": 2
}
