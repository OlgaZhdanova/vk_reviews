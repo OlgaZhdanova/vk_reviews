{
 "cells": [
  {
   "cell_type": "code",
   "execution_count": 1,
   "metadata": {},
   "outputs": [],
   "source": [
    "import pandas as pd"
   ]
  },
  {
   "cell_type": "code",
   "execution_count": 28,
   "metadata": {},
   "outputs": [],
   "source": [
    "import requests\n",
    "from bs4 import BeautifulSoup\n",
    "import re"
   ]
  },
  {
   "cell_type": "code",
   "execution_count": 22,
   "metadata": {},
   "outputs": [],
   "source": [
    "url='https://en.wikipedia.org/wiki/Life_expectancy'"
   ]
  },
  {
   "cell_type": "code",
   "execution_count": 36,
   "metadata": {},
   "outputs": [
    {
     "name": "stdout",
     "output_type": "stream",
     "text": [
      "                        Era Life expectancy  \\\n",
      "0               Paleolithic          22–33    \n",
      "1                 Neolithic         20 –33    \n",
      "2  Bronze Age and Iron Age               26   \n",
      "3         Classical Greece          25 –28    \n",
      "4              Ancient Rome   20–33\\n         \n",
      "\n",
      "                                               Notes  \n",
      "0  With modern hunter-gatherer populations' estim...  \n",
      "1  Based on Early Neolithic data, life expectancy...  \n",
      "2  Based on Early and Middle Bronze Age data, lif...  \n",
      "3  Based on Athens Agora and Corinth data, life e...  \n",
      "4  Data is lacking, but computer models provide t...  \n",
      "                            Era Life expectancy  \\\n",
      "17  19th-century British India             25.4   \n",
      "18  19th-century world average          28.5–32   \n",
      "19          1900 world average           31–32    \n",
      "20          1950 world average         45.7–48    \n",
      "21      2019–2020 world average   72.6–73.2       \n",
      "\n",
      "                                                Notes  \n",
      "17                                                     \n",
      "18  Over the course of the century: Europe rose fr...  \n",
      "19  Around 48 years in Oceania, 43 in Europe, and ...  \n",
      "20  Around 60 years in Europe, North America, Ocea...  \n",
      "21  Females: 75.6 years\\nMales: 70.8 years\\nRange:...  \n"
     ]
    }
   ],
   "source": [
    "response = requests.get(url)\n",
    "soup = BeautifulSoup(response.text, 'html.parser')\n",
    "header = soup.find(id='Variation_over_time')\n",
    "table = header.find_next('table', {'class':'wikitable'})\n",
    "mylist = []\n",
    "# Удаляем ссылки в []\n",
    "pattern = r\"\\[..\\]\"\n",
    "\n",
    "for table_row in table.tbody.find_all(\"tr\"):\n",
    "    table_columns = table_row.find_all(\"td\")\n",
    "    if table_columns:\n",
    "        # воспользуемся методом re.sub(), который ищет шаблон pattern в строке и заменяет его на ' '\n",
    "        era =  re.sub(pattern,' ',table_columns[0].text.strip())\n",
    "        life = re.sub(pattern,' ',table_columns[1].text.strip())\n",
    "        notes = re.sub(pattern,' ',table_columns[2].text.strip())\n",
    "        mylist.append([era, life, notes])\n",
    "\n",
    "        df = pd.DataFrame(\n",
    "            mylist,\n",
    "            columns=[\"Era\", \"Life expectancy\", \"Notes\"],\n",
    "        )\n",
    "\n",
    "print(df.head())\n",
    "print(df.tail())\n"
   ]
  }
 ],
 "metadata": {
  "kernelspec": {
   "display_name": "Python 3",
   "language": "python",
   "name": "python3"
  },
  "language_info": {
   "codemirror_mode": {
    "name": "ipython",
    "version": 3
   },
   "file_extension": ".py",
   "mimetype": "text/x-python",
   "name": "python",
   "nbconvert_exporter": "python",
   "pygments_lexer": "ipython3",
   "version": "3.12.6"
  }
 },
 "nbformat": 4,
 "nbformat_minor": 2
}
