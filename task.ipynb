{
 "cells": [
  {
   "cell_type": "markdown",
   "metadata": {},
   "source": [
    "<center style=\"font-size: 26px\"> <b>Проверка уровня знаний Python</b></center>"
   ]
  },
  {
   "cell_type": "code",
   "execution_count": 10,
   "metadata": {},
   "outputs": [
    {
     "data": {
      "text/plain": [
       "[1, 1, 2, 1, 3, 0, 0]"
      ]
     },
     "execution_count": 10,
     "metadata": {},
     "output_type": "execute_result"
    }
   ],
   "source": [
    "def move_zeros(list1):\n",
    "    for i in list1:\n",
    "        if i == 0:\n",
    "            #item = list1.pop(list1.index(i))\n",
    "            list1.append(list1.pop(list1.index(i)))\n",
    "    return list1\n",
    "move_zeros([1, 0, 1, 2, 0, 1, 3])"
   ]
  },
  {
   "cell_type": "code",
   "execution_count": 1,
   "metadata": {},
   "outputs": [],
   "source": [
    "# обеспечиваем совместимость с Python 2 и 3\n",
    "from __future__ import (absolute_import, division, print_function, unicode_literals)\n",
    "\n",
    "# отключаем предупреждения дистрибутива Anaconda\n",
    "import warnings\n",
    "warnings.simplefilter('ignore')"
   ]
  },
  {
   "cell_type": "markdown",
   "metadata": {},
   "source": [
    "**Описание датасета:**   \n",
    "[Датасет вакансий с платформы HH.ru на Kaggle.com](https://www.kaggle.com/datasets/pavfedotov/heaadhunter-vacancies?resource=download&select=df2021-08-03.csv) \n",
    "\n",
    "Нужный файл - df2021-08-03.csv.\n",
    "\n",
    "- *vacancy* - наименование вакансии\n",
    "- *url* - ссылка на вакансию\n",
    "- *created* - дата и время создания\n",
    "- *has_test* - наличие тестового задания в вакансии\n",
    "- *salary_from* - нижняя граница значения заработной платы\n",
    "- *salary_to* - верхняя граница значения заработной платы\n",
    "- *currency* - валюта заработной платы\n",
    "- *experience* - требуемый опыт\n",
    "- *schedule* - тип рабочего графика\n",
    "- *skills* - требуемые навыки\n",
    "- *employer* - наименование работодателя\n",
    "- *area* - наименование города\n",
    "- *description* - описание вакансии"
   ]
  },
  {
   "cell_type": "markdown",
   "metadata": {},
   "source": [
    "#### Загрузите датасет"
   ]
  },
  {
   "cell_type": "code",
   "execution_count": 5,
   "metadata": {},
   "outputs": [
    {
     "data": {
      "text/html": [
       "<div>\n",
       "<style scoped>\n",
       "    .dataframe tbody tr th:only-of-type {\n",
       "        vertical-align: middle;\n",
       "    }\n",
       "\n",
       "    .dataframe tbody tr th {\n",
       "        vertical-align: top;\n",
       "    }\n",
       "\n",
       "    .dataframe thead th {\n",
       "        text-align: right;\n",
       "    }\n",
       "</style>\n",
       "<table border=\"1\" class=\"dataframe\">\n",
       "  <thead>\n",
       "    <tr style=\"text-align: right;\">\n",
       "      <th></th>\n",
       "      <th>vacancy</th>\n",
       "      <th>url</th>\n",
       "      <th>created</th>\n",
       "      <th>has_test</th>\n",
       "      <th>salary_from</th>\n",
       "      <th>salary_to</th>\n",
       "      <th>currency</th>\n",
       "      <th>experience</th>\n",
       "      <th>schedule</th>\n",
       "      <th>skills</th>\n",
       "      <th>employer</th>\n",
       "      <th>area</th>\n",
       "      <th>description</th>\n",
       "    </tr>\n",
       "  </thead>\n",
       "  <tbody>\n",
       "    <tr>\n",
       "      <th>1695</th>\n",
       "      <td>Middle Software Developer C++/Python (relocati...</td>\n",
       "      <td>https://hh.ru/applicant/vacancy_response?vacan...</td>\n",
       "      <td>2021-07-16T13:45:47+0300</td>\n",
       "      <td>False</td>\n",
       "      <td>NaN</td>\n",
       "      <td>NaN</td>\n",
       "      <td>NaN</td>\n",
       "      <td>От 3 до 6 лет</td>\n",
       "      <td>Полный день</td>\n",
       "      <td>Python;Git;Linux;iOS;C++;</td>\n",
       "      <td>Parallels</td>\n",
       "      <td>Москва</td>\n",
       "      <td>Overview:Parallels Inc., a global leader in cr...</td>\n",
       "    </tr>\n",
       "    <tr>\n",
       "      <th>1696</th>\n",
       "      <td>Python Tech Lead</td>\n",
       "      <td>https://hh.ru/applicant/vacancy_response?vacan...</td>\n",
       "      <td>2021-07-28T14:40:13+0300</td>\n",
       "      <td>False</td>\n",
       "      <td>300000.0</td>\n",
       "      <td>NaN</td>\n",
       "      <td>RUR</td>\n",
       "      <td>От 1 года до 3 лет</td>\n",
       "      <td>Полный день</td>\n",
       "      <td>NaN</td>\n",
       "      <td>Финтех Айкью</td>\n",
       "      <td>Новосибирск</td>\n",
       "      <td>Наша команда ищет тех. лида, задачами которого...</td>\n",
       "    </tr>\n",
       "    <tr>\n",
       "      <th>1697</th>\n",
       "      <td>Senior Software Developer C++/Python (relocati...</td>\n",
       "      <td>https://hh.ru/applicant/vacancy_response?vacan...</td>\n",
       "      <td>2021-07-16T13:45:46+0300</td>\n",
       "      <td>False</td>\n",
       "      <td>NaN</td>\n",
       "      <td>NaN</td>\n",
       "      <td>NaN</td>\n",
       "      <td>От 3 до 6 лет</td>\n",
       "      <td>Полный день</td>\n",
       "      <td>Python;Git;Linux;C++;x86;Windows;Unix;Virtuali...</td>\n",
       "      <td>Parallels</td>\n",
       "      <td>Москва</td>\n",
       "      <td>Overview:Parallels Inc., a global leader in cr...</td>\n",
       "    </tr>\n",
       "    <tr>\n",
       "      <th>1698</th>\n",
       "      <td>Full-stack Developer (React, Python)</td>\n",
       "      <td>https://hh.ru/applicant/vacancy_response?vacan...</td>\n",
       "      <td>2021-08-02T16:36:09+0300</td>\n",
       "      <td>False</td>\n",
       "      <td>NaN</td>\n",
       "      <td>NaN</td>\n",
       "      <td>NaN</td>\n",
       "      <td>От 1 года до 3 лет</td>\n",
       "      <td>Удаленная работа</td>\n",
       "      <td>Git;PostgreSQL;Python;Blockchain;Crypto;React ...</td>\n",
       "      <td>Qenetex</td>\n",
       "      <td>Москва</td>\n",
       "      <td>Мы – финтех компания, приглашаем вас принять у...</td>\n",
       "    </tr>\n",
       "    <tr>\n",
       "      <th>1699</th>\n",
       "      <td>Веб-разработчик Full stack (Java,JS, Python, X...</td>\n",
       "      <td>https://hh.ru/applicant/vacancy_response?vacan...</td>\n",
       "      <td>2021-07-17T12:09:20+0300</td>\n",
       "      <td>False</td>\n",
       "      <td>NaN</td>\n",
       "      <td>NaN</td>\n",
       "      <td>NaN</td>\n",
       "      <td>От 3 до 6 лет</td>\n",
       "      <td>Полный день</td>\n",
       "      <td>Java Servlets;Java;JavaScript;Spring Framework...</td>\n",
       "      <td>Стримлайн консалтинг</td>\n",
       "      <td>Казань</td>\n",
       "      <td>Обязанности:  разработка диалоговых клиент-сер...</td>\n",
       "    </tr>\n",
       "  </tbody>\n",
       "</table>\n",
       "</div>"
      ],
      "text/plain": [
       "                                                vacancy  \\\n",
       "1695  Middle Software Developer C++/Python (relocati...   \n",
       "1696                                   Python Tech Lead   \n",
       "1697  Senior Software Developer C++/Python (relocati...   \n",
       "1698               Full-stack Developer (React, Python)   \n",
       "1699  Веб-разработчик Full stack (Java,JS, Python, X...   \n",
       "\n",
       "                                                    url  \\\n",
       "1695  https://hh.ru/applicant/vacancy_response?vacan...   \n",
       "1696  https://hh.ru/applicant/vacancy_response?vacan...   \n",
       "1697  https://hh.ru/applicant/vacancy_response?vacan...   \n",
       "1698  https://hh.ru/applicant/vacancy_response?vacan...   \n",
       "1699  https://hh.ru/applicant/vacancy_response?vacan...   \n",
       "\n",
       "                       created  has_test  salary_from  salary_to currency  \\\n",
       "1695  2021-07-16T13:45:47+0300     False          NaN        NaN      NaN   \n",
       "1696  2021-07-28T14:40:13+0300     False     300000.0        NaN      RUR   \n",
       "1697  2021-07-16T13:45:46+0300     False          NaN        NaN      NaN   \n",
       "1698  2021-08-02T16:36:09+0300     False          NaN        NaN      NaN   \n",
       "1699  2021-07-17T12:09:20+0300     False          NaN        NaN      NaN   \n",
       "\n",
       "              experience          schedule  \\\n",
       "1695       От 3 до 6 лет       Полный день   \n",
       "1696  От 1 года до 3 лет       Полный день   \n",
       "1697       От 3 до 6 лет       Полный день   \n",
       "1698  От 1 года до 3 лет  Удаленная работа   \n",
       "1699       От 3 до 6 лет       Полный день   \n",
       "\n",
       "                                                 skills              employer  \\\n",
       "1695                          Python;Git;Linux;iOS;C++;             Parallels   \n",
       "1696                                                NaN          Финтех Айкью   \n",
       "1697  Python;Git;Linux;C++;x86;Windows;Unix;Virtuali...             Parallels   \n",
       "1698  Git;PostgreSQL;Python;Blockchain;Crypto;React ...               Qenetex   \n",
       "1699  Java Servlets;Java;JavaScript;Spring Framework...  Стримлайн консалтинг   \n",
       "\n",
       "             area                                        description  \n",
       "1695       Москва  Overview:Parallels Inc., a global leader in cr...  \n",
       "1696  Новосибирск  Наша команда ищет тех. лида, задачами которого...  \n",
       "1697       Москва  Overview:Parallels Inc., a global leader in cr...  \n",
       "1698       Москва  Мы – финтех компания, приглашаем вас принять у...  \n",
       "1699       Казань  Обязанности:  разработка диалоговых клиент-сер...  "
      ]
     },
     "execution_count": 5,
     "metadata": {},
     "output_type": "execute_result"
    }
   ],
   "source": [
    "# ВАШ КОД ЗДЕСЬ\n",
    "import pandas as pd\n",
    "\n",
    "df = pd.read_csv('df2021-08-03.csv')\n",
    "df.head()\n",
    "df.tail()"
   ]
  },
  {
   "cell_type": "markdown",
   "metadata": {},
   "source": [
    "### Практические задания:"
   ]
  },
  {
   "cell_type": "markdown",
   "metadata": {},
   "source": [
    "#### 1. Изучите методы для сбора данных курсов валют в [API Центрального банка Российской Федерации](https://www.cbr.ru/development/SXML/) . Используя запросы к API, приведите значения заработной платы к рублям одним из вариантов: 1) простой вариант - на текущую дату  2) вариант посложнее - на дату создания (created)."
   ]
  },
  {
   "cell_type": "code",
   "execution_count": 10,
   "metadata": {
    "scrolled": true
   },
   "outputs": [
    {
     "name": "stdout",
     "output_type": "stream",
     "text": [
      "None\n"
     ]
    },
    {
     "ename": "AttributeError",
     "evalue": "'NoneType' object has no attribute 'text'",
     "output_type": "error",
     "traceback": [
      "\u001b[0;31m---------------------------------------------------------------------------\u001b[0m",
      "\u001b[0;31mAttributeError\u001b[0m                            Traceback (most recent call last)",
      "Cell \u001b[0;32mIn[10], line 11\u001b[0m\n\u001b[1;32m      9\u001b[0m \u001b[38;5;28mprint\u001b[39m(page\u001b[38;5;241m.\u001b[39mtitle)\n\u001b[1;32m     10\u001b[0m \u001b[38;5;66;03m# выводит только текст без тэгов\u001b[39;00m\n\u001b[0;32m---> 11\u001b[0m \u001b[38;5;28mprint\u001b[39m(\u001b[43mpage\u001b[49m\u001b[38;5;241;43m.\u001b[39;49m\u001b[43mtitle\u001b[49m\u001b[38;5;241;43m.\u001b[39;49m\u001b[43mtext\u001b[49m)\n",
      "\u001b[0;31mAttributeError\u001b[0m: 'NoneType' object has no attribute 'text'"
     ]
    }
   ],
   "source": [
    "# ВАШ КОД ЗДЕСЬ\n",
    "import requests\n",
    "from bs4 import BeautifulSoup\n",
    "url = 'https://www.cbr.ru/scripts/XML_daily.asp?date_req=19/11/2024'\n",
    "response = requests.get(url)\n",
    "# обязательно указываем название библиотеки, парсер и синтаксис команд\n",
    "page = BeautifulSoup(response.text, 'html.parser')\n",
    "# выводим тег title (заголовок) на странице\n",
    "print(page.title)\n",
    "# выводит только текст без тэгов\n",
    "print(page.title.text)\n"
   ]
  },
  {
   "cell_type": "markdown",
   "metadata": {},
   "source": [
    "#### 2. Найдите вакансию с самой высокой заработной платой, где подойдет 4 года опыта работы и не нужно проходить тестовое задание."
   ]
  },
  {
   "cell_type": "code",
   "execution_count": null,
   "metadata": {},
   "outputs": [],
   "source": [
    "# ВАШ КОД ЗДЕСЬ\n"
   ]
  },
  {
   "cell_type": "markdown",
   "metadata": {},
   "source": [
    "#### 3. Сделайте рейтинг (топ-30) навыков по всем вакансиям."
   ]
  },
  {
   "cell_type": "code",
   "execution_count": null,
   "metadata": {
    "scrolled": true
   },
   "outputs": [],
   "source": [
    "# ВАШ КОД ЗДЕСЬ\n"
   ]
  },
  {
   "cell_type": "markdown",
   "metadata": {},
   "source": [
    "#### 4. Cоставьте топ-10 городов с наибольшей средней заработной платой по вакансиям тестировщика (QA)."
   ]
  },
  {
   "cell_type": "code",
   "execution_count": null,
   "metadata": {},
   "outputs": [],
   "source": [
    "# ВАШ КОД ЗДЕСЬ\n"
   ]
  },
  {
   "cell_type": "markdown",
   "metadata": {},
   "source": [
    "#### 5. Напишите функцию для поиска вакансий по переданным в нее значениям заработной платы, наличия тестового задания, наличия заданного текста в наименовании вакансии, наличия заданного навыка. В результате выведите количество найденных вакансий, среднюю заработную плату по найденным вакансиям и список ссылок найденных вакансий. "
   ]
  },
  {
   "cell_type": "code",
   "execution_count": null,
   "metadata": {},
   "outputs": [],
   "source": [
    "# ВАШ КОД ЗДЕСЬ\n"
   ]
  },
  {
   "cell_type": "markdown",
   "metadata": {},
   "source": [
    "#### *Необязательно*. Усложненный вариант - сделать атрибуты функции опциональными, чтобы иметь возможность фильтрации вакансий по любой комбинации условий."
   ]
  },
  {
   "cell_type": "code",
   "execution_count": null,
   "metadata": {},
   "outputs": [],
   "source": [
    "# ВАШ КОД ЗДЕСЬ\n"
   ]
  }
 ],
 "metadata": {
  "kernelspec": {
   "display_name": "Python 3",
   "language": "python",
   "name": "python3"
  },
  "language_info": {
   "codemirror_mode": {
    "name": "ipython",
    "version": 3
   },
   "file_extension": ".py",
   "mimetype": "text/x-python",
   "name": "python",
   "nbconvert_exporter": "python",
   "pygments_lexer": "ipython3",
   "version": "3.12.6"
  }
 },
 "nbformat": 4,
 "nbformat_minor": 4
}
