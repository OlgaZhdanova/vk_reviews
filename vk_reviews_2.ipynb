{
 "cells": [
  {
   "cell_type": "code",
   "execution_count": null,
   "metadata": {},
   "outputs": [],
   "source": [
    "import pandas as pd\n",
    "vk = pd.read_csv('/Users/olgazdanova/Downloads/processed_vk_posts_only.csv')\n",
    "vk"
   ]
  },
  {
   "cell_type": "code",
   "execution_count": null,
   "metadata": {},
   "outputs": [],
   "source": [
    "vk_new = vk.copy()\n",
    "\n",
    "import json\n",
    "\n",
    "# Функция для извлечения данных из JSON\n",
    "def extract_json_data(row):\n",
    "    try:\n",
    "        # Десериализация JSON\n",
    "        json_data = json.loads(row['processed_text'])\n",
    "        \n",
    "        # Извлечение данных\n",
    "        setiment = json_data.get('setiment', None)\n",
    "        symptoms = json_data.get('symptoms', [])\n",
    "        packaging_damage = json_data.get('packaging_damage', None)\n",
    "        \n",
    "        # Извлечение всех reported_symptom через запятую\n",
    "        reported_symptoms = \", \".join([symptom['reported_symptom'] for symptom in symptoms]) if symptoms else None\n",
    "        \n",
    "        return pd.Series([setiment, reported_symptoms, packaging_damage])\n",
    "    except Exception as e:\n",
    "        print(f\"Ошибка при обработке строки: {e}\")\n",
    "        return pd.Series([None, None, None])\n",
    "\n",
    "# Применение функции к DataFrame\n",
    "vk_new[['setiment', 'reported_symptom', 'packaging_damage']] = vk_new.apply(extract_json_data, axis=1)\n",
    "\n",
    "# Сохранение обновлённого DataFrame в CSV\n",
    "vk_new.to_csv('vk_new.csv', index=False)"
   ]
  },
  {
   "cell_type": "code",
   "execution_count": null,
   "metadata": {},
   "outputs": [],
   "source": [
    "vk_new_ = vk_new.copy()\n",
    "vk_new_ = vk_new_.drop(columns='processed_text')\n",
    "vk_new_.to_csv('vk_new.csv', index=False)"
   ]
  },
  {
   "cell_type": "code",
   "execution_count": null,
   "metadata": {},
   "outputs": [],
   "source": [
    "\n",
    "# Создание пустого списка для хранения данных\n",
    "data = []\n",
    "\n",
    "# Проход по каждой строке в DataFrame\n",
    "for index, row in vk.iterrows():\n",
    "    # Десериализация JSON строки\n",
    "    json_data = json.loads(row['processed_text'])\n",
    "    \n",
    "    # Извлечение данных из JSON\n",
    "    symptoms = json_data.get('symptoms', [])\n",
    "    \n",
    "    # Проход по каждому симптому\n",
    "    for symptom in symptoms:\n",
    "        # Создание новой строки с данными\n",
    "        new_row = {\n",
    "            'date': row['post_date'],\n",
    "            'row_id': row['Unnamed: 0'],\n",
    "            'reported_symptom': symptom.get('reported_symptom', ''),\n",
    "            'meddra_term': symptom.get('meddra_term', ''),\n",
    "            'umls_id': symptom.get('umls_id', ''),\n",
    "            'concept_type': symptom.get('concept_type', ''),\n",
    "            'stitch_ids': symptom.get('stitch_ids', '')\n",
    "        }\n",
    "        \n",
    "        # Добавление новой строки в список\n",
    "        data.append(new_row)\n",
    "\n",
    "# Создание нового DataFrame из списка данных\n",
    "new_df_vk = pd.DataFrame(data)\n",
    "\n",
    "# Сохранение нового DataFrame в CSV файл\n",
    "new_df_vk.to_csv('new_vk_file.csv', index=False)"
   ]
  }
 ],
 "metadata": {
  "kernelspec": {
   "display_name": "Python 3",
   "language": "python",
   "name": "python3"
  },
  "language_info": {
   "name": "python",
   "version": "3.12.6"
  }
 },
 "nbformat": 4,
 "nbformat_minor": 2
}
